{
 "cells": [
  {
   "cell_type": "code",
   "execution_count": 8,
   "id": "b3e43650",
   "metadata": {},
   "outputs": [
    {
     "name": "stdout",
     "output_type": "stream",
     "text": [
      "1\n",
      "2\n",
      "3\n",
      "4\n",
      "5\n",
      "6\n",
      "7\n",
      "8\n",
      "9\n",
      "10\n"
     ]
    }
   ],
   "source": [
    "  for num in range(0,10):\n",
    "    print(num + 1)"
   ]
  },
  {
   "cell_type": "code",
   "execution_count": 2,
   "id": "9ea12c20",
   "metadata": {},
   "outputs": [
    {
     "name": "stdout",
     "output_type": "stream",
     "text": [
      "20\n",
      "19\n",
      "18\n",
      "17\n",
      "16\n",
      "15\n",
      "14\n",
      "13\n",
      "12\n",
      "11\n",
      "10\n",
      "9\n",
      "8\n",
      "7\n",
      "6\n",
      "5\n",
      "4\n",
      "3\n",
      "2\n",
      "1\n"
     ]
    }
   ],
   "source": [
    " x =20\n",
    "    \n",
    "while x >=1:\n",
    "    print(x)\n",
    "    x -=1"
   ]
  },
  {
   "cell_type": "code",
   "execution_count": 11,
   "id": "1cfcbdf8",
   "metadata": {},
   "outputs": [
    {
     "name": "stdout",
     "output_type": "stream",
     "text": [
      "2\n",
      "4\n",
      "6\n",
      "8\n",
      "10\n"
     ]
    }
   ],
   "source": [
    "for x in range(0,10,2):\n",
    "    print(x+2)"
   ]
  },
  {
   "cell_type": "code",
   "execution_count": 15,
   "id": "1b10974c",
   "metadata": {},
   "outputs": [
    {
     "name": "stdout",
     "output_type": "stream",
     "text": [
      "0 Happy Birthday\n",
      "1 Happy Birthday\n",
      "2 Happy Birthday\n",
      "3 Happy Birthday\n",
      "4 Happy Birthday\n"
     ]
    }
   ],
   "source": [
    "for x in range (5):\n",
    "  print(x,\"Happy Birthday\")"
   ]
  },
  {
   "cell_type": "code",
   "execution_count": 27,
   "id": "687435d0",
   "metadata": {},
   "outputs": [
    {
     "name": "stdout",
     "output_type": "stream",
     "text": [
      "Enter a number : 20\n",
      "1\n",
      "2\n",
      "3\n",
      "4\n",
      "5\n",
      "6\n",
      "7\n",
      "8\n",
      "9\n",
      "10\n",
      "11\n",
      "12\n",
      "13\n",
      "14\n",
      "15\n",
      "16\n",
      "17\n",
      "18\n",
      "19\n",
      "20\n"
     ]
    }
   ],
   "source": [
    " x = int(input('Enter a number : '))\n",
    "for x in range(1, x + 1):\n",
    "        print(x)"
   ]
  },
  {
   "cell_type": "code",
   "execution_count": 28,
   "id": "b0befbb8",
   "metadata": {},
   "outputs": [
    {
     "name": "stdout",
     "output_type": "stream",
     "text": [
      "Enter a number : 30\n",
      "1\n",
      "3\n",
      "5\n",
      "7\n",
      "9\n",
      "11\n",
      "13\n",
      "15\n",
      "17\n",
      "19\n",
      "21\n",
      "23\n",
      "25\n",
      "27\n",
      "29\n"
     ]
    }
   ],
   "source": [
    "x = int(input('Enter a number : '))\n",
    "for x in range(1 , x + 1, 2):\n",
    "    print(x)\n"
   ]
  },
  {
   "cell_type": "code",
   "execution_count": 31,
   "id": "58dc5e8a",
   "metadata": {},
   "outputs": [
    {
     "name": "stdout",
     "output_type": "stream",
     "text": [
      "Enter a number : 3\n",
      "1 4 9 "
     ]
    }
   ],
   "source": [
    "x = int(input(\"Enter a number : \"))\n",
    "for x in range(1,x+1):\n",
    "    item = x **2\n",
    "    print(item, end=\" \")"
   ]
  },
  {
   "cell_type": "code",
   "execution_count": 33,
   "id": "c85a0302",
   "metadata": {
    "scrolled": true
   },
   "outputs": [
    {
     "name": "stdout",
     "output_type": "stream",
     "text": [
      "Enter a number :  19\n",
      "19 x 1 = 19\n",
      "19 x 2 = 38\n",
      "19 x 3 = 57\n",
      "19 x 4 = 76\n",
      "19 x 5 = 95\n",
      "19 x 6 = 114\n",
      "19 x 7 = 133\n",
      "19 x 8 = 152\n",
      "19 x 9 = 171\n",
      "19 x 10 = 190\n",
      "19 x 11 = 209\n",
      "19 x 12 = 228\n",
      "19 x 13 = 247\n",
      "19 x 14 = 266\n",
      "19 x 15 = 285\n"
     ]
    }
   ],
   "source": [
    "a = int(input(\"Enter a number :  \"))\n",
    "for i in range(1,16):\n",
    "    z = a * i\n",
    "\n",
    "    print(a , \"x\" , i ,\"=\" , z)"
   ]
  },
  {
   "cell_type": "markdown",
   "id": "ae96d0cf",
   "metadata": {},
   "source": [
    "# 9.\tWrite a Python program to print the first 8 terms of an arithmetic     progression starting with 3 and having a common difference of 4. \n",
    " #  The program should output the following sequence: \n",
    " # 3 7 11 15 19 23 27 31  \n"
   ]
  },
  {
   "cell_type": "code",
   "execution_count": 40,
   "id": "99e9280e",
   "metadata": {},
   "outputs": [
    {
     "name": "stdout",
     "output_type": "stream",
     "text": [
      "3\n",
      "7\n",
      "11\n",
      "15\n",
      "19\n",
      "23\n",
      "27\n",
      "31\n"
     ]
    }
   ],
   "source": [
    "start = 3\n",
    "difference = 4\n",
    "for i in range(8):\n",
    "    print(start)\n",
    "    start += difference"
   ]
  },
  {
   "cell_type": "markdown",
   "id": "c14dfe8b",
   "metadata": {},
   "source": [
    "# Write a Python program to print the first 6 terms of a geometric sequence starting with 2 and having a common ratio of 3. \n",
    "# The program should output the following sequence: \n",
    "# 2 6 18 54 162 486   \n"
   ]
  },
  {
   "cell_type": "code",
   "execution_count": 44,
   "id": "3dd0a541",
   "metadata": {},
   "outputs": [
    {
     "name": "stdout",
     "output_type": "stream",
     "text": [
      "5\n",
      "75\n",
      "1125\n",
      "16875\n",
      "253125\n",
      "3796875\n"
     ]
    }
   ],
   "source": [
    "start= 5\n",
    "ratio = 15\n",
    "for i in range(6):\n",
    "    print(start)\n",
    "    start *= ratio"
   ]
  },
  {
   "cell_type": "markdown",
   "id": "9958b5f3",
   "metadata": {},
   "source": [
    "# 11.\tWrite a program that asks the user for a positive integer value. The program should calculate the sum of all the integers from 1 up to the number entered. For example, if the user enters 20, the loop will find the sum of 1, 2, 3, 4, ... 20.   "
   ]
  },
  {
   "cell_type": "code",
   "execution_count": 62,
   "id": "f4f1151f",
   "metadata": {},
   "outputs": [
    {
     "name": "stdout",
     "output_type": "stream",
     "text": [
      "Enter a positive no : 20\n",
      "1\n",
      "3\n",
      "6\n",
      "10\n",
      "15\n",
      "21\n",
      "28\n",
      "36\n",
      "45\n",
      "55\n",
      "66\n",
      "78\n",
      "91\n",
      "105\n",
      "120\n",
      "136\n",
      "153\n",
      "171\n",
      "190\n",
      "210\n"
     ]
    }
   ],
   "source": [
    "n= int(input(\"Enter a positive no : \"))\n",
    "sum = 0\n",
    "for i in range(1,n+1):\n",
    "    sum += i\n",
    "    print(sum)"
   ]
  },
  {
   "cell_type": "code",
   "execution_count": 76,
   "id": "e07bad85",
   "metadata": {},
   "outputs": [
    {
     "name": "stdout",
     "output_type": "stream",
     "text": [
      "Enter a positive integer: 10\n",
      "The sum of reciprocals from 1 to 10 is: 2.93\n"
     ]
    }
   ],
   "source": [
    "N = int(input(\"Enter a positive integer: \"))\n",
    "sum_reciprocals = 0.0\n",
    "\n",
    "for num in range(1, N + 1):\n",
    "    sum_reciprocals += 1 / num\n",
    "\n",
    "print(\"The sum of reciprocals from 1 to\", N, \"is:\", \"{:.2f}\".format(sum_reciprocals))\n"
   ]
  },
  {
   "cell_type": "code",
   "execution_count": null,
   "id": "921ded32",
   "metadata": {},
   "outputs": [],
   "source": []
  }
 ],
 "metadata": {
  "kernelspec": {
   "display_name": "Python 3 (ipykernel)",
   "language": "python",
   "name": "python3"
  },
  "language_info": {
   "codemirror_mode": {
    "name": "ipython",
    "version": 3
   },
   "file_extension": ".py",
   "mimetype": "text/x-python",
   "name": "python",
   "nbconvert_exporter": "python",
   "pygments_lexer": "ipython3",
   "version": "3.11.5"
  }
 },
 "nbformat": 4,
 "nbformat_minor": 5
}
