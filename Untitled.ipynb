{
 "cells": [
  {
   "cell_type": "code",
   "execution_count": 3,
   "id": "d43bc55a",
   "metadata": {},
   "outputs": [
    {
     "ename": "NameError",
     "evalue": "name 'prant' is not defined",
     "output_type": "error",
     "traceback": [
      "\u001b[1;31m---------------------------------------------------------------------------\u001b[0m",
      "\u001b[1;31mNameError\u001b[0m                                 Traceback (most recent call last)",
      "Cell \u001b[1;32mIn[3], line 1\u001b[0m\n\u001b[1;32m----> 1\u001b[0m prant(\u001b[38;5;124m'\u001b[39m\u001b[38;5;124mhello world\u001b[39m\u001b[38;5;124m'\u001b[39m)\n",
      "\u001b[1;31mNameError\u001b[0m: name 'prant' is not defined"
     ]
    }
   ],
   "source": [
    "prant('hello world')"
   ]
  },
  {
   "cell_type": "code",
   "execution_count": 4,
   "id": "3eff714b",
   "metadata": {},
   "outputs": [
    {
     "data": {
      "text/plain": [
       "18"
      ]
     },
     "execution_count": 4,
     "metadata": {},
     "output_type": "execute_result"
    }
   ],
   "source": [
    "3*6\n"
   ]
  },
  {
   "cell_type": "code",
   "execution_count": 5,
   "id": "2099e356",
   "metadata": {},
   "outputs": [
    {
     "data": {
      "text/plain": [
       "6"
      ]
     },
     "execution_count": 5,
     "metadata": {},
     "output_type": "execute_result"
    }
   ],
   "source": [
    "2+4  "
   ]
  },
  {
   "cell_type": "code",
   "execution_count": 1,
   "id": "db82df2e",
   "metadata": {},
   "outputs": [
    {
     "name": "stdout",
     "output_type": "stream",
     "text": [
      "['apple', 'banana', 'cherry', 'apple', 'cherry']\n"
     ]
    }
   ],
   "source": [
    "thislist = [\"apple\", \"banana\", \"cherry\", \"apple\", \"cherry\"]\n",
    "print(thislist)"
   ]
  },
  {
   "cell_type": "code",
   "execution_count": 2,
   "id": "3c77284a",
   "metadata": {},
   "outputs": [
    {
     "name": "stdout",
     "output_type": "stream",
     "text": [
      "['hounda', 'yamaha', 'suzoke']\n"
     ]
    }
   ],
   "source": [
    "bicycles = [\"hounda\",\"yamaha\",\"suzoke\"]\n",
    "print(bicycles)"
   ]
  },
  {
   "cell_type": "code",
   "execution_count": 3,
   "id": "d91f02c0",
   "metadata": {},
   "outputs": [
    {
     "name": "stdout",
     "output_type": "stream",
     "text": [
      "banana\n"
     ]
    }
   ],
   "source": [
    "print(thislist[1])"
   ]
  },
  {
   "cell_type": "code",
   "execution_count": 4,
   "id": "1800e376",
   "metadata": {},
   "outputs": [
    {
     "name": "stdout",
     "output_type": "stream",
     "text": [
      "hounda\n"
     ]
    }
   ],
   "source": [
    "print(bicycles[0])"
   ]
  },
  {
   "cell_type": "code",
   "execution_count": 5,
   "id": "3705df34",
   "metadata": {},
   "outputs": [
    {
     "name": "stdout",
     "output_type": "stream",
     "text": [
      "suzoke\n"
     ]
    }
   ],
   "source": [
    "print(bicycles[2])"
   ]
  },
  {
   "cell_type": "code",
   "execution_count": 10,
   "id": "de416603",
   "metadata": {},
   "outputs": [
    {
     "name": "stdout",
     "output_type": "stream",
     "text": [
      "apple\n",
      "cherry\n"
     ]
    }
   ],
   "source": [
    "print(thislist[0])\n",
    "print(thislist[2])"
   ]
  },
  {
   "cell_type": "code",
   "execution_count": 11,
   "id": "589607bb",
   "metadata": {},
   "outputs": [
    {
     "ename": "NameError",
     "evalue": "name 'massage' is not defined",
     "output_type": "error",
     "traceback": [
      "\u001b[1;31m---------------------------------------------------------------------------\u001b[0m",
      "\u001b[1;31mNameError\u001b[0m                                 Traceback (most recent call last)",
      "Cell \u001b[1;32mIn[11], line 3\u001b[0m\n\u001b[0;32m      1\u001b[0m thislist \u001b[38;5;241m=\u001b[39m [\u001b[38;5;124m\"\u001b[39m\u001b[38;5;124mapple\u001b[39m\u001b[38;5;124m\"\u001b[39m, \u001b[38;5;124m\"\u001b[39m\u001b[38;5;124mbanana\u001b[39m\u001b[38;5;124m\"\u001b[39m, \u001b[38;5;124m\"\u001b[39m\u001b[38;5;124mcherry\u001b[39m\u001b[38;5;124m\"\u001b[39m, \u001b[38;5;124m\"\u001b[39m\u001b[38;5;124mapple\u001b[39m\u001b[38;5;124m\"\u001b[39m, \u001b[38;5;124m\"\u001b[39m\u001b[38;5;124mcherry\u001b[39m\u001b[38;5;124m\"\u001b[39m]\n\u001b[0;32m      2\u001b[0m message\u001b[38;5;241m=\u001b[39m\u001b[38;5;124m\"\u001b[39m\u001b[38;5;124ml like to eate \u001b[39m\u001b[38;5;124m\"\u001b[39m\u001b[38;5;241m+\u001b[39m thislist[\u001b[38;5;241m0\u001b[39m]\u001b[38;5;241m.\u001b[39mtitle()\u001b[38;5;241m+\u001b[39m\u001b[38;5;124m\"\u001b[39m\u001b[38;5;124m.\u001b[39m\u001b[38;5;124m\"\u001b[39m\n\u001b[1;32m----> 3\u001b[0m \u001b[38;5;28mprint\u001b[39m(massage)\n",
      "\u001b[1;31mNameError\u001b[0m: name 'massage' is not defined"
     ]
    }
   ],
   "source": [
    "thislist = [\"apple\", \"banana\", \"cherry\", \"apple\", \"cherry\"]\n",
    "message=\"l like to eate \"+ thislist[0].title()+\".\"\n",
    "print(massage)"
   ]
  },
  {
   "cell_type": "code",
   "execution_count": 13,
   "id": "4968863b",
   "metadata": {},
   "outputs": [
    {
     "name": "stdout",
     "output_type": "stream",
     "text": [
      "['mango', 'banana', 'cherry']\n"
     ]
    }
   ],
   "source": [
    "thislist = [\"apple\", \"banana\", \"cherry\",]\n",
    "thislist[0] =\"mango\"\n",
    "print(thislist)"
   ]
  },
  {
   "cell_type": "code",
   "execution_count": 14,
   "id": "f13e8c23",
   "metadata": {},
   "outputs": [
    {
     "name": "stdout",
     "output_type": "stream",
     "text": [
      "['mango', 'banana', 'wathermailn']\n"
     ]
    }
   ],
   "source": [
    "thislist[2] = \"wathermailn\"\n",
    "print(thislist)"
   ]
  },
  {
   "cell_type": "code",
   "execution_count": 16,
   "id": "17919d62",
   "metadata": {},
   "outputs": [
    {
     "name": "stdout",
     "output_type": "stream",
     "text": [
      "['ail', 'sanauallah', 'baila', 'qaiser', 'tuqerr']\n"
     ]
    }
   ],
   "source": [
    "myFarind=[\"ail\",\"sanauallah\",\"baila\",\"qaiser\",\"tuqerr\"]\n",
    "print(myFarind)"
   ]
  },
  {
   "cell_type": "code",
   "execution_count": 17,
   "id": "df200499",
   "metadata": {},
   "outputs": [
    {
     "name": "stdout",
     "output_type": "stream",
     "text": [
      "['ail', 'sanauallah', 'baila', 'qaiser', 'talha']\n"
     ]
    }
   ],
   "source": [
    "myFarind[4]=\"talha\"\n",
    "print(myFarind)"
   ]
  },
  {
   "cell_type": "code",
   "execution_count": 19,
   "id": "b85aaaac",
   "metadata": {},
   "outputs": [
    {
     "name": "stdout",
     "output_type": "stream",
     "text": [
      "['Tuqerr', 'Tuqerr', 'ail', 'sanauallah', 'baila', 'qaiser', 'talha']\n"
     ]
    }
   ],
   "source": [
    "myFarind.insert(0, \"Tuqerr\")\n",
    "print(myFarind)"
   ]
  },
  {
   "cell_type": "code",
   "execution_count": 20,
   "id": "1c7717f3",
   "metadata": {},
   "outputs": [
    {
     "name": "stdout",
     "output_type": "stream",
     "text": [
      "['Tuqerr', 'Tuqerr', 'Tuqerr', 'ail', 'sanauallah', 'baila', 'qaiser', 'talha']\n"
     ]
    }
   ],
   "source": [
    "myFarind.insert(0, \"Tuqerr\")\n",
    "print(myFarind)"
   ]
  },
  {
   "cell_type": "code",
   "execution_count": 21,
   "id": "14b30e85",
   "metadata": {},
   "outputs": [
    {
     "name": "stdout",
     "output_type": "stream",
     "text": [
      "['mango', 'banana', 'wathermailn', 'orange']\n"
     ]
    }
   ],
   "source": [
    "thislist.append(\"orange\")\n",
    "print(thislist)"
   ]
  },
  {
   "cell_type": "code",
   "execution_count": 22,
   "id": "f0d5db70",
   "metadata": {},
   "outputs": [
    {
     "name": "stdout",
     "output_type": "stream",
     "text": [
      "['mango', 'banana', 'wathermailn', 'orange', 'apple']\n"
     ]
    }
   ],
   "source": [
    "thislist.append(\"apple\")\n",
    "print(thislist)"
   ]
  },
  {
   "cell_type": "code",
   "execution_count": 25,
   "id": "d8b8dcb5",
   "metadata": {},
   "outputs": [
    {
     "name": "stdout",
     "output_type": "stream",
     "text": [
      "['cherry', 'pineapple', 'papaya']\n"
     ]
    }
   ],
   "source": [
    "newlist = [\"cherry\", \"pineapple\", \"papaya\"]\n",
    "print(newlist)"
   ]
  },
  {
   "cell_type": "code",
   "execution_count": null,
   "id": "98f5c9a4",
   "metadata": {},
   "outputs": [],
   "source": []
  },
  {
   "cell_type": "code",
   "execution_count": 27,
   "id": "95c7b406",
   "metadata": {},
   "outputs": [
    {
     "name": "stdout",
     "output_type": "stream",
     "text": [
      "['mango', 'banana', 'wathermailn', 'orange', 'apple', 'charr', 'pineapple', 'papaya', 'cherry', 'pineapple', 'papaya']\n"
     ]
    }
   ],
   "source": [
    "print(thislist)"
   ]
  },
  {
   "cell_type": "code",
   "execution_count": 30,
   "id": "fa0bd9c2",
   "metadata": {},
   "outputs": [
    {
     "name": "stdout",
     "output_type": "stream",
     "text": [
      "['mango', 'banana', 'wathermailn', 'orange', 'apple', 'charr', 'papaya', 'cherry', 'pineapple', 'papaya']\n"
     ]
    }
   ],
   "source": [
    "thislist.remove(\"pineapple\")\n",
    "print(thislist)"
   ]
  },
  {
   "cell_type": "code",
   "execution_count": 32,
   "id": "4634901c",
   "metadata": {},
   "outputs": [
    {
     "name": "stdout",
     "output_type": "stream",
     "text": [
      "['mango', 'banana', 'wathermailn', 'orange', 'apple', 'charr', 'cherry', 'pineapple', 'papaya']\n"
     ]
    }
   ],
   "source": [
    "thislist.remove(\"papaya\")\n",
    "print(thislist)"
   ]
  },
  {
   "cell_type": "code",
   "execution_count": 33,
   "id": "a499e6b1",
   "metadata": {},
   "outputs": [
    {
     "name": "stdout",
     "output_type": "stream",
     "text": [
      "['mango', 'banana', 'wathermailn', 'orange', 'apple', 'cherry', 'pineapple', 'papaya']\n"
     ]
    }
   ],
   "source": [
    "thislist.remove(\"charr\")\n",
    "print(thislist)"
   ]
  },
  {
   "cell_type": "code",
   "execution_count": 34,
   "id": "1565815e",
   "metadata": {},
   "outputs": [
    {
     "name": "stdout",
     "output_type": "stream",
     "text": [
      "['mango', 'banana', 'orange', 'apple', 'cherry', 'pineapple', 'papaya']\n"
     ]
    }
   ],
   "source": [
    "thislist.pop(2)\n",
    "print(thislist)"
   ]
  },
  {
   "cell_type": "code",
   "execution_count": 35,
   "id": "f807d0db",
   "metadata": {},
   "outputs": [
    {
     "name": "stdout",
     "output_type": "stream",
     "text": [
      "['banana', 'orange', 'apple', 'cherry', 'pineapple', 'papaya']\n"
     ]
    }
   ],
   "source": [
    "del thislist[0]\n",
    "print(thislist)"
   ]
  },
  {
   "cell_type": "code",
   "execution_count": 53,
   "id": "56a9644a",
   "metadata": {},
   "outputs": [
    {
     "name": "stdout",
     "output_type": "stream",
     "text": [
      "banana\n",
      "orange\n",
      "apple\n",
      "cherry\n",
      "pineapple\n",
      "papaya\n"
     ]
    }
   ],
   "source": [
    " for x in thislist:\n",
    "   print(x)"
   ]
  },
  {
   "cell_type": "code",
   "execution_count": 38,
   "id": "cec45657",
   "metadata": {},
   "outputs": [
    {
     "name": "stdout",
     "output_type": "stream",
     "text": [
      "['banana', 'orange', 'apple', 'cherry', 'pineapple', 'papaya']\n"
     ]
    }
   ],
   "source": [
    "print(thislist)"
   ]
  },
  {
   "cell_type": "code",
   "execution_count": 52,
   "id": "1ee87f34",
   "metadata": {},
   "outputs": [
    {
     "name": "stdout",
     "output_type": "stream",
     "text": [
      "banana\n",
      "orange\n",
      "apple\n",
      "cherry\n",
      "pineapple\n",
      "papaya\n"
     ]
    }
   ],
   "source": [
    "  for y in thislist:\n",
    "        print(y)"
   ]
  },
  {
   "cell_type": "code",
   "execution_count": 40,
   "id": "6b3361c9",
   "metadata": {},
   "outputs": [
    {
     "name": "stdout",
     "output_type": "stream",
     "text": [
      "['Tuqerr', 'Tuqerr', 'Tuqerr', 'ail', 'sanauallah', 'baila', 'qaiser', 'talha']\n"
     ]
    }
   ],
   "source": [
    "print(myFarind)"
   ]
  },
  {
   "cell_type": "code",
   "execution_count": 41,
   "id": "100677e5",
   "metadata": {},
   "outputs": [
    {
     "name": "stdout",
     "output_type": "stream",
     "text": [
      "['Tuqerr', 'Tuqerr', 'ail', 'sanauallah', 'baila', 'qaiser', 'talha']\n"
     ]
    }
   ],
   "source": [
    "myFarind.remove(\"Tuqerr\")\n",
    "print(myFarind)"
   ]
  },
  {
   "cell_type": "code",
   "execution_count": 42,
   "id": "659f04e8",
   "metadata": {},
   "outputs": [
    {
     "name": "stdout",
     "output_type": "stream",
     "text": [
      "['Tuqerr', 'ail', 'sanauallah', 'baila', 'qaiser', 'talha']\n"
     ]
    }
   ],
   "source": [
    "myFarind.pop(0)\n",
    "print(myFarind)"
   ]
  },
  {
   "cell_type": "code",
   "execution_count": 43,
   "id": "5bed9cfb",
   "metadata": {},
   "outputs": [
    {
     "name": "stdout",
     "output_type": "stream",
     "text": [
      "['Tuqerr', 'ail', 'sanauallah', 'baila', 'qaiser', 'talha']\n",
      "['Tuqerr', 'ail', 'sanauallah', 'baila', 'qaiser', 'talha']\n",
      "['Tuqerr', 'ail', 'sanauallah', 'baila', 'qaiser', 'talha']\n",
      "['Tuqerr', 'ail', 'sanauallah', 'baila', 'qaiser', 'talha']\n",
      "['Tuqerr', 'ail', 'sanauallah', 'baila', 'qaiser', 'talha']\n",
      "['Tuqerr', 'ail', 'sanauallah', 'baila', 'qaiser', 'talha']\n"
     ]
    }
   ],
   "source": [
    " for x in myFarind:\n",
    "        print(myFarind)"
   ]
  },
  {
   "cell_type": "code",
   "execution_count": 44,
   "id": "81dec414",
   "metadata": {},
   "outputs": [
    {
     "name": "stdout",
     "output_type": "stream",
     "text": [
      "['Tuqerr', 'ail', 'sanauallah', 'baila', 'qaiser', 'talha']\n"
     ]
    }
   ],
   "source": [
    "print(myFarind)"
   ]
  },
  {
   "cell_type": "code",
   "execution_count": 74,
   "id": "be8b9a6c",
   "metadata": {},
   "outputs": [
    {
     "name": "stdout",
     "output_type": "stream",
     "text": [
      "[]\n",
      "['ail']\n",
      "['ail', 'sanauallah']\n",
      "['ail', 'sanauallah']\n",
      "['ail', 'sanauallah']\n",
      "['ail', 'sanauallah', 'talha']\n"
     ]
    }
   ],
   "source": [
    "myFarind= ['Tuqerr', 'ail', 'sanauallah', 'beil', 'qiser', 'talha']\n",
    "newfarind=[]\n",
    "for x in myFarind:\n",
    "    if \"a\" in x:\n",
    "     newfarind.append(x)\n",
    "    print(newfarind)"
   ]
  },
  {
   "cell_type": "code",
   "execution_count": 78,
   "id": "3377531e",
   "metadata": {},
   "outputs": [
    {
     "name": "stdout",
     "output_type": "stream",
     "text": [
      "['Tuqerr']\n",
      "['Tuqerr']\n",
      "['Tuqerr']\n",
      "['Tuqerr', 'beil']\n",
      "['Tuqerr', 'beil', 'qiser']\n",
      "['Tuqerr', 'beil', 'qiser']\n"
     ]
    }
   ],
   "source": [
    "khan = []\n",
    "for z in myFarind:\n",
    "        if \"e\" in z:\n",
    "         khan.append(z)\n",
    "        print(khan)"
   ]
  },
  {
   "cell_type": "code",
   "execution_count": 80,
   "id": "9c98a24a",
   "metadata": {},
   "outputs": [
    {
     "name": "stdout",
     "output_type": "stream",
     "text": [
      "[]\n",
      "[]\n",
      "[]\n",
      "[]\n",
      "[]\n",
      "[]\n"
     ]
    }
   ],
   "source": [
    "khan = []\n",
    "for y in myFarind:\n",
    "        if \"t\" in y:\n",
    "         khans.append(y)\n",
    "        print(khan)"
   ]
  },
  {
   "cell_type": "code",
   "execution_count": 81,
   "id": "ea9b3057",
   "metadata": {},
   "outputs": [
    {
     "name": "stdout",
     "output_type": "stream",
     "text": [
      "['Tuqerr', 'ail', 'sanauallah', 'beil', 'qiser', 'talha']\n"
     ]
    }
   ],
   "source": [
    "print(myFarind)"
   ]
  },
  {
   "cell_type": "code",
   "execution_count": 82,
   "id": "2dc065fa",
   "metadata": {},
   "outputs": [
    {
     "name": "stdout",
     "output_type": "stream",
     "text": [
      "['Tuqerr', 'ail', 'beil', 'qiser', 'sanauallah', 'talha']\n"
     ]
    }
   ],
   "source": [
    "myFarind.sort()\n",
    "print(myFarind)"
   ]
  },
  {
   "cell_type": "code",
   "execution_count": 86,
   "id": "b67cbbd4",
   "metadata": {},
   "outputs": [
    {
     "name": "stdout",
     "output_type": "stream",
     "text": [
      "['Tuqerr', 'ail', 'beil', 'qiser', 'sanauallah', 'talha']\n"
     ]
    }
   ],
   "source": [
    "myFarind.sort()\n",
    "print(myFarind)"
   ]
  },
  {
   "cell_type": "code",
   "execution_count": 87,
   "id": "6de22521",
   "metadata": {},
   "outputs": [
    {
     "name": "stdout",
     "output_type": "stream",
     "text": [
      "['banana', 'orange', 'apple', 'cherry', 'pineapple', 'papaya']\n"
     ]
    }
   ],
   "source": [
    "print(thislist)"
   ]
  },
  {
   "cell_type": "code",
   "execution_count": 88,
   "id": "5f245805",
   "metadata": {},
   "outputs": [
    {
     "name": "stdout",
     "output_type": "stream",
     "text": [
      "['apple', 'banana', 'cherry', 'orange', 'papaya', 'pineapple']\n"
     ]
    }
   ],
   "source": [
    "thislist.sort()\n",
    "print(thislist)"
   ]
  },
  {
   "cell_type": "code",
   "execution_count": 89,
   "id": "1eb0e577",
   "metadata": {},
   "outputs": [
    {
     "name": "stdout",
     "output_type": "stream",
     "text": [
      "['pineapple', 'papaya', 'orange', 'cherry', 'banana', 'apple']\n"
     ]
    }
   ],
   "source": [
    "thislist.sort(reverse=True)\n",
    "print(thislist)"
   ]
  },
  {
   "cell_type": "code",
   "execution_count": 92,
   "id": "8191b5e3",
   "metadata": {},
   "outputs": [
    {
     "ename": "AttributeError",
     "evalue": "'list' object has no attribute 'upper'",
     "output_type": "error",
     "traceback": [
      "\u001b[1;31m---------------------------------------------------------------------------\u001b[0m",
      "\u001b[1;31mAttributeError\u001b[0m                            Traceback (most recent call last)",
      "Cell \u001b[1;32mIn[92], line 1\u001b[0m\n\u001b[1;32m----> 1\u001b[0m x \u001b[38;5;241m=\u001b[39m thislist\u001b[38;5;241m.\u001b[39mupper()\n\u001b[0;32m      2\u001b[0m \u001b[38;5;28mprint\u001b[39m(x)\n",
      "\u001b[1;31mAttributeError\u001b[0m: 'list' object has no attribute 'upper'"
     ]
    }
   ],
   "source": [
    "x = thislist.upper()\n",
    "print(x)"
   ]
  },
  {
   "cell_type": "code",
   "execution_count": 93,
   "id": "cea74028",
   "metadata": {},
   "outputs": [
    {
     "name": "stdout",
     "output_type": "stream",
     "text": [
      "['APPLE', 'BANANA', 'CHERRY', 'KIWI', 'MANGO']\n"
     ]
    }
   ],
   "source": [
    "fruits = [\"apple\", \"banana\", \"cherry\", \"kiwi\", \"mango\"]\n",
    "\n",
    "newlist = [x.upper() for x in fruits]\n",
    "\n",
    "print(newlist)\n"
   ]
  },
  {
   "cell_type": "code",
   "execution_count": 94,
   "id": "9e1b02f3",
   "metadata": {},
   "outputs": [
    {
     "data": {
      "text/plain": [
       "['pineapple', 'papaya', 'orange', 'cherry', 'banana', 'apple']"
      ]
     },
     "execution_count": 94,
     "metadata": {},
     "output_type": "execute_result"
    }
   ],
   "source": [
    "thislist"
   ]
  },
  {
   "cell_type": "code",
   "execution_count": 96,
   "id": "3d0760e1",
   "metadata": {},
   "outputs": [
    {
     "name": "stdout",
     "output_type": "stream",
     "text": [
      "['PINEAPPLE', 'PAPAYA', 'ORANGE', 'CHERRY', 'BANANA', 'APPLE']\n"
     ]
    }
   ],
   "source": [
    "thislist=['pineapple', 'papaya', 'orange', 'cherry', 'banana', 'apple']\n",
    "jann = [x.upper() for x in thislist]\n",
    "print(jann)"
   ]
  },
  {
   "cell_type": "code",
   "execution_count": 100,
   "id": "54dc86c3",
   "metadata": {},
   "outputs": [
    {
     "name": "stdout",
     "output_type": "stream",
     "text": [
      "enter you name :7465\n",
      "7465\n",
      "enter first number: 57637\n",
      "enter second number: 97549856\n",
      "97607493\n"
     ]
    }
   ],
   "source": [
    "a =  int(input(\"enter you name :\"))\n",
    "print(a)\n",
    "x = int(input(\"enter first number: \"))\n",
    "y = int(input(\"enter second number: \"))\n",
    "print(int(x) + int(y))"
   ]
  },
  {
   "cell_type": "code",
   "execution_count": 4,
   "id": "6217bcd7",
   "metadata": {},
   "outputs": [
    {
     "name": "stdout",
     "output_type": "stream",
     "text": [
      "Enter the text: hsghasdg\n",
      "Original text: hsghasdg\n",
      "Shifting text: sghasdgh\n"
     ]
    }
   ],
   "source": [
    "def shifting_one_position(my_text):\n",
    "    if len(my_text) <= 1:\n",
    "        return my_text\n",
    "    else:\n",
    "        return my_text[1:] + my_text[0]\n",
    "\n",
    "my_text = input(\"Enter the text: \")\n",
    "new_user_input = shifting_one_position(my_text)\n",
    "\n",
    "print(f\"Original text: {my_text}\")\n",
    "\n",
    "print(f\"Shifting text: {new_user_input}\")"
   ]
  },
  {
   "cell_type": "code",
   "execution_count": 5,
   "id": "570df3c2",
   "metadata": {},
   "outputs": [
    {
     "name": "stdout",
     "output_type": "stream",
     "text": [
      "Enter the name : abdul rehman amjed\n",
      "initials name : A. R. A.\n"
     ]
    }
   ],
   "source": [
    "def get_initials(name):\n",
    "    initials = []\n",
    "    words = name.split()\n",
    "    \n",
    "    for word in words :\n",
    "        initials.append(word[0].upper() + \".\")\n",
    "        \n",
    "    return ' '. join(initials)\n",
    "    \n",
    "full_name = input(\"Enter the name : \")\n",
    "\n",
    "initials_name = get_initials(full_name)\n",
    "\n",
    "print(f\"initials name : {initials_name}\")"
   ]
  },
  {
   "cell_type": "code",
   "execution_count": null,
   "id": "a879002b",
   "metadata": {},
   "outputs": [],
   "source": [
    "s = input(\"enter a string : \")\n",
    "if s [:]=="
   ]
  }
 ],
 "metadata": {
  "kernelspec": {
   "display_name": "Python 3 (ipykernel)",
   "language": "python",
   "name": "python3"
  },
  "language_info": {
   "codemirror_mode": {
    "name": "ipython",
    "version": 3
   },
   "file_extension": ".py",
   "mimetype": "text/x-python",
   "name": "python",
   "nbconvert_exporter": "python",
   "pygments_lexer": "ipython3",
   "version": "3.11.5"
  }
 },
 "nbformat": 4,
 "nbformat_minor": 5
}
