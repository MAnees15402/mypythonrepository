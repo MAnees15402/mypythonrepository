{
 "cells": [
  {
   "cell_type": "code",
   "execution_count": 1,
   "id": "d55f9f81",
   "metadata": {},
   "outputs": [
    {
     "data": {
      "text/plain": [
       "7"
      ]
     },
     "execution_count": 1,
     "metadata": {},
     "output_type": "execute_result"
    }
   ],
   "source": [
    "3+4\n",
    "\n"
   ]
  },
  {
   "cell_type": "code",
   "execution_count": 2,
   "id": "b329efa0",
   "metadata": {},
   "outputs": [
    {
     "data": {
      "text/plain": [
       "11"
      ]
     },
     "execution_count": 2,
     "metadata": {},
     "output_type": "execute_result"
    }
   ],
   "source": [
    "5+6\n"
   ]
  },
  {
   "cell_type": "code",
   "execution_count": 1,
   "id": "6636c6c3",
   "metadata": {},
   "outputs": [
    {
     "data": {
      "text/plain": [
       "6"
      ]
     },
     "execution_count": 1,
     "metadata": {},
     "output_type": "execute_result"
    }
   ],
   "source": [
    "2+4"
   ]
  },
  {
   "cell_type": "code",
   "execution_count": 2,
   "id": "8c70dea9",
   "metadata": {},
   "outputs": [
    {
     "data": {
      "text/plain": [
       "90"
      ]
     },
     "execution_count": 2,
     "metadata": {},
     "output_type": "execute_result"
    }
   ],
   "source": [
    "34+56"
   ]
  },
  {
   "cell_type": "code",
   "execution_count": 13,
   "id": "9eb25e22",
   "metadata": {},
   "outputs": [],
   "source": [
    "def string_keyboard(txt):\n",
    "    upper = 0\n",
    "    lower = 0\n",
    "    digit = 0\n",
    "    for char in txt:\n",
    "        if char.isupper():\n",
    "            upper +=1\n",
    "        elif char.islower():\n",
    "              lower +=1\n",
    "        elif char.isdigit():\n",
    "              digit +=1\n",
    "    print(f\"\"\"\n",
    "              Upper case :{upper}\n",
    "              Lowercase :{lower}\n",
    "              digits case :{digit}\n",
    "                \"\"\") "
   ]
  },
  {
   "cell_type": "code",
   "execution_count": 15,
   "id": "c7aaa3dd",
   "metadata": {},
   "outputs": [
    {
     "name": "stdout",
     "output_type": "stream",
     "text": [
      "Upper case :3\n",
      "              Lowercase :6\n",
      "              digits case :0\n",
      "                \n"
     ]
    }
   ],
   "source": [
    "string_keyboard('How Are You')"
   ]
  },
  {
   "cell_type": "code",
   "execution_count": 7,
   "id": "63174c98",
   "metadata": {},
   "outputs": [
    {
     "name": "stdout",
     "output_type": "stream",
     "text": [
      "Enter the text : t\n",
      "original text : t\n",
      "shifting text:t\n"
     ]
    }
   ],
   "source": [
    "def shifting_one_position(my_text):\n",
    "    if len(my_text)<=1 :\n",
    "        return my_text\n",
    "    else:\n",
    "        return my_text[1:] + my_text[0]\n",
    "    \n",
    "my_text = input(\"Enter the text : \")\n",
    "new_user_input = shifting_one_position(my_text)\n",
    "\n",
    "print(f\"original text : {my_text}\")\n",
    "print(f\"shifting text:{new_user_input}\")"
   ]
  },
  {
   "cell_type": "code",
   "execution_count": 24,
   "id": "a65d2057",
   "metadata": {},
   "outputs": [
    {
     "name": "stdout",
     "output_type": "stream",
     "text": [
      "Enter the name : muhammad anees khan\n",
      "initials name : M. A. K.\n"
     ]
    }
   ],
   "source": [
    "def get_initials(name):\n",
    "    initials = []\n",
    "    words = name.split()\n",
    "    \n",
    "    for word in words :\n",
    "        initials.append(word[0].upper() + \".\")\n",
    "        \n",
    "    return ' '. join(initials)\n",
    "    \n",
    "full_name = input(\"Enter the name : \")\n",
    "\n",
    "initials_name = get_initials(full_name)\n",
    "\n",
    "print(f\"initials name : {initials_name}\")"
   ]
  },
  {
   "cell_type": "code",
   "execution_count": 22,
   "id": "ff23b39e",
   "metadata": {},
   "outputs": [
    {
     "ename": "SyntaxError",
     "evalue": "invalid syntax. Perhaps you forgot a comma? (749804.py, line 1)",
     "output_type": "error",
     "traceback": [
      "\u001b[1;36m  Cell \u001b[1;32mIn[22], line 1\u001b[1;36m\u001b[0m\n\u001b[1;33m    get_initials(muhannad anees )\u001b[0m\n\u001b[1;37m                 ^\u001b[0m\n\u001b[1;31mSyntaxError\u001b[0m\u001b[1;31m:\u001b[0m invalid syntax. Perhaps you forgot a comma?\n"
     ]
    }
   ],
   "source": [
    "get_initials(muhannad anees )"
   ]
  },
  {
   "cell_type": "code",
   "execution_count": 30,
   "id": "ae047c64",
   "metadata": {},
   "outputs": [
    {
     "name": "stdout",
     "output_type": "stream",
     "text": [
      "Enter the Word : SHIFT\n",
      "SHIFT\n",
      "HIFTS\n",
      "IFTSH\n",
      "FTSHI\n",
      "TSHIF\n",
      "that is display : SHIFT\n"
     ]
    }
   ],
   "source": [
    "def display_shifting(word):\n",
    "    for i in range(len(word)):\n",
    "        shifting_word = word[i:] + word[ : i]\n",
    "        print(shifting_word)\n",
    "        \n",
    "user_input= input(\"Enter the Word : \")\n",
    "display_shifting(user_input)\n",
    "print(f\"that is display : {user_input}\")"
   ]
  },
  {
   "cell_type": "markdown",
   "id": "893b06c6",
   "metadata": {},
   "source": [
    "# #  9.\tWrite a program in python that accepts a string to setup a passwords. Your entered password must meet the following requirements: \n",
    "# # # The password must be at least eight characters long. \n",
    "# # #It must contain at least one uppercase letter. \n",
    "# # #It must contain at least one lowercase letter. \n",
    "# # #It must contain at least one numeric digit. \n",
    "# # #Your program should should perform this validation.   \n",
    "\n"
   ]
  },
  {
   "cell_type": "code",
   "execution_count": null,
   "id": "06c94285",
   "metadata": {},
   "outputs": [],
   "source": [
    "def enter_password(password):\n",
    "    if len(password)>=8:\n",
    "          return False, \"password must be at least eight characters long\"\n",
    "        \n",
    "    if not any(char.isupper() for char in password):\n",
    "            return False,\"password must contain at least one uppercase letter.\"\n",
    "    if not any(char.islower() for char in password):\n",
    "            return False,\" password It must contain at least one lowercase letter.\"\n",
    "    if not any(char.isdigit() for char in password):\n",
    "            return False,\" password It must contain at least one digit.\"\n",
    "        \n",
    "    return True,\"passowrd is valid.\"\n",
    "    \n",
    "user_password =input(\"Enter your password: \")\n",
    "        \n",
    "    \n",
    "masseg = enter_password(user_password)\n",
    "print(masseg)\n",
    "\n"
   ]
  },
  {
   "cell_type": "code",
   "execution_count": null,
   "id": "47dc5f94",
   "metadata": {},
   "outputs": [],
   "source": []
  },
  {
   "cell_type": "code",
   "execution_count": null,
   "id": "772e2b12",
   "metadata": {},
   "outputs": [],
   "source": []
  },
  {
   "cell_type": "code",
   "execution_count": null,
   "id": "46426985",
   "metadata": {},
   "outputs": [],
   "source": []
  },
  {
   "cell_type": "code",
   "execution_count": null,
   "id": "972676a4",
   "metadata": {},
   "outputs": [],
   "source": []
  },
  {
   "cell_type": "code",
   "execution_count": null,
   "id": "141c77a6",
   "metadata": {},
   "outputs": [],
   "source": []
  }
 ],
 "metadata": {
  "kernelspec": {
   "display_name": "Python 3 (ipykernel)",
   "language": "python",
   "name": "python3"
  },
  "language_info": {
   "codemirror_mode": {
    "name": "ipython",
    "version": 3
   },
   "file_extension": ".py",
   "mimetype": "text/x-python",
   "name": "python",
   "nbconvert_exporter": "python",
   "pygments_lexer": "ipython3",
   "version": "3.11.5"
  }
 },
 "nbformat": 4,
 "nbformat_minor": 5
}
