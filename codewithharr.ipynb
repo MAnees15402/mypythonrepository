{
 "cells": [
  {
   "cell_type": "code",
   "execution_count": 1,
   "id": "6123a215",
   "metadata": {},
   "outputs": [],
   "source": [
    "a=3"
   ]
  },
  {
   "cell_type": "code",
   "execution_count": 2,
   "id": "84b3c6dc",
   "metadata": {},
   "outputs": [
    {
     "name": "stdout",
     "output_type": "stream",
     "text": [
      "3\n"
     ]
    }
   ],
   "source": [
    "print(a)"
   ]
  },
  {
   "cell_type": "code",
   "execution_count": 1,
   "id": "a6377194",
   "metadata": {},
   "outputs": [
    {
     "name": "stdout",
     "output_type": "stream",
     "text": [
      "hello word\n"
     ]
    }
   ],
   "source": [
    "print(\"hello word\")"
   ]
  },
  {
   "cell_type": "code",
   "execution_count": 2,
   "id": "115748f4",
   "metadata": {},
   "outputs": [
    {
     "name": "stdout",
     "output_type": "stream",
     "text": [
      "5\n"
     ]
    }
   ],
   "source": [
    "print(5)"
   ]
  },
  {
   "cell_type": "code",
   "execution_count": 4,
   "id": "6a999cdd",
   "metadata": {},
   "outputs": [
    {
     "name": "stdout",
     "output_type": "stream",
     "text": [
      "10\n"
     ]
    }
   ],
   "source": [
    "x=('hello word')\n",
    "print(len(x))"
   ]
  },
  {
   "cell_type": "code",
   "execution_count": null,
   "id": "1c79ec1c",
   "metadata": {},
   "outputs": [],
   "source": [
    "# hello word is pakistan \n",
    "# rplgd,sv,jdhghfkhjghkjf\n",
    "# t"
   ]
  },
  {
   "cell_type": "markdown",
   "id": "8268c28e",
   "metadata": {},
   "source": [
    "\n",
    "# # dmfksm \n",
    "# # # #  #pakistan\n"
   ]
  },
  {
   "cell_type": "code",
   "execution_count": 3,
   "id": "98697011",
   "metadata": {},
   "outputs": [
    {
     "name": "stdout",
     "output_type": "stream",
     "text": [
      "five is grearter then two\n",
      "two is less than five\n"
     ]
    }
   ],
   "source": [
    "if 5 > 2:\n",
    " print('five is grearter then two')\n",
    " print('two is less than five')"
   ]
  },
  {
   "cell_type": "code",
   "execution_count": 6,
   "id": "33381137",
   "metadata": {},
   "outputs": [
    {
     "name": "stdout",
     "output_type": "stream",
     "text": [
      "b\n",
      "a\n",
      "n\n",
      "a\n",
      "n\n",
      "a\n"
     ]
    }
   ],
   "source": [
    "for x in \"banana\":\n",
    " print(x)"
   ]
  },
  {
   "cell_type": "code",
   "execution_count": 7,
   "id": "1d35e157",
   "metadata": {},
   "outputs": [
    {
     "name": "stdout",
     "output_type": "stream",
     "text": [
      "p\n",
      "a\n",
      "k\n",
      "i\n",
      "s\n",
      "t\n",
      "a\n",
      "n\n"
     ]
    }
   ],
   "source": [
    "for x in 'pakistan':\n",
    "   print(x)"
   ]
  },
  {
   "cell_type": "code",
   "execution_count": 9,
   "id": "fa9dc18e",
   "metadata": {},
   "outputs": [
    {
     "name": "stdout",
     "output_type": "stream",
     "text": [
      "PAKISTAN\n"
     ]
    }
   ],
   "source": [
    "a ='pakistan'\n",
    "print(a.upper())"
   ]
  },
  {
   "cell_type": "code",
   "execution_count": 10,
   "id": "0eb74b1c",
   "metadata": {},
   "outputs": [
    {
     "name": "stdout",
     "output_type": "stream",
     "text": [
      "pakistan\n"
     ]
    }
   ],
   "source": [
    "a = 'PAKISTAN'\n",
    "print(a.lower())"
   ]
  },
  {
   "cell_type": "code",
   "execution_count": 15,
   "id": "3ac021fd",
   "metadata": {},
   "outputs": [
    {
     "name": "stdout",
     "output_type": "stream",
     "text": [
      "afganatan\n"
     ]
    }
   ],
   "source": [
    "a = 'PAKISTAN'\n",
    "print(a.replace(\"PAKISTAN\",\"afganatan\" ))"
   ]
  },
  {
   "cell_type": "code",
   "execution_count": 23,
   "id": "6fe6f3d3",
   "metadata": {},
   "outputs": [
    {
     "ename": "TypeError",
     "evalue": "'str' object is not callable",
     "output_type": "error",
     "traceback": [
      "\u001b[1;31m---------------------------------------------------------------------------\u001b[0m",
      "\u001b[1;31mTypeError\u001b[0m                                 Traceback (most recent call last)",
      "Cell \u001b[1;32mIn[23], line 2\u001b[0m\n\u001b[0;32m      1\u001b[0m tex\u001b[38;5;241m=\u001b[39m\u001b[38;5;124m'\u001b[39m\u001b[38;5;124mpeyton is the bast\u001b[39m\u001b[38;5;124m'\u001b[39m\n\u001b[1;32m----> 2\u001b[0m \u001b[38;5;28mprint\u001b[39m(tex\u001b[38;5;241m.\u001b[39mcapitalize())\n",
      "\u001b[1;31mTypeError\u001b[0m: 'str' object is not callable"
     ]
    }
   ],
   "source": [
    "tex='peyton is the bast'\n",
    "print(tex.capitalize())"
   ]
  },
  {
   "cell_type": "code",
   "execution_count": 26,
   "id": "e5c3f157",
   "metadata": {},
   "outputs": [
    {
     "ename": "IndentationError",
     "evalue": "unexpected indent (4218257922.py, line 3)",
     "output_type": "error",
     "traceback": [
      "\u001b[1;36m  Cell \u001b[1;32mIn[26], line 3\u001b[1;36m\u001b[0m\n\u001b[1;33m    print(txt.capitalize())\u001b[0m\n\u001b[1;37m    ^\u001b[0m\n\u001b[1;31mIndentationError\u001b[0m\u001b[1;31m:\u001b[0m unexpected indent\n"
     ]
    }
   ],
   "source": [
    "txt = \"python is FUN!\"\n",
    "\n",
    " print(txt.capitalize())\n",
    "\n",
    "\n"
   ]
  },
  {
   "cell_type": "code",
   "execution_count": 30,
   "id": "4d6dce4f",
   "metadata": {},
   "outputs": [
    {
     "ename": "IndentationError",
     "evalue": "unexpected indent (1390128571.py, line 5)",
     "output_type": "error",
     "traceback": [
      "\u001b[1;36m  Cell \u001b[1;32mIn[30], line 5\u001b[1;36m\u001b[0m\n\u001b[1;33m    print(sentencs.format(tomanto,onan,potato))\u001b[0m\n\u001b[1;37m    ^\u001b[0m\n\u001b[1;31mIndentationError\u001b[0m\u001b[1;31m:\u001b[0m unexpected indent\n"
     ]
    }
   ],
   "source": [
    "tomanto=50;\n",
    "onan=60;\n",
    "potato=100;\n",
    "sentencs=\"when i bay{}one kalo and {} one kg and also{} kg\";\n",
    " print(sentencs.format(tomanto,onan,potato))"
   ]
  },
  {
   "cell_type": "code",
   "execution_count": 33,
   "id": "c07ed5e4",
   "metadata": {},
   "outputs": [
    {
     "ename": "TypeError",
     "evalue": "'str' object is not callable",
     "output_type": "error",
     "traceback": [
      "\u001b[1;31m---------------------------------------------------------------------------\u001b[0m",
      "\u001b[1;31mTypeError\u001b[0m                                 Traceback (most recent call last)",
      "Cell \u001b[1;32mIn[33], line 5\u001b[0m\n\u001b[0;32m      3\u001b[0m price \u001b[38;5;241m=\u001b[39m \u001b[38;5;241m49.95\u001b[39m\n\u001b[0;32m      4\u001b[0m myorder \u001b[38;5;241m=\u001b[39m \u001b[38;5;124m\"\u001b[39m\u001b[38;5;124mI want \u001b[39m\u001b[38;5;132;01m{}\u001b[39;00m\u001b[38;5;124m pieces of item \u001b[39m\u001b[38;5;132;01m{}\u001b[39;00m\u001b[38;5;124m for \u001b[39m\u001b[38;5;132;01m{}\u001b[39;00m\u001b[38;5;124m dollars.\u001b[39m\u001b[38;5;124m\"\u001b[39m\n\u001b[1;32m----> 5\u001b[0m \u001b[38;5;28mprint\u001b[39m(myorder\u001b[38;5;241m.\u001b[39mformat(quantity, itemno, price))\n",
      "\u001b[1;31mTypeError\u001b[0m: 'str' object is not callable"
     ]
    }
   ],
   "source": [
    "quantity = 3\n",
    "itemno = 567\n",
    "price = 49.95\n",
    "myorder = \"I want {} pieces of item {} for {} dollars.\"\n",
    "print(myorder.format(quantity, itemno, price)) \n"
   ]
  },
  {
   "cell_type": "code",
   "execution_count": null,
   "id": "13e159b2",
   "metadata": {},
   "outputs": [],
   "source": []
  }
 ],
 "metadata": {
  "kernelspec": {
   "display_name": "Python 3 (ipykernel)",
   "language": "python",
   "name": "python3"
  },
  "language_info": {
   "codemirror_mode": {
    "name": "ipython",
    "version": 3
   },
   "file_extension": ".py",
   "mimetype": "text/x-python",
   "name": "python",
   "nbconvert_exporter": "python",
   "pygments_lexer": "ipython3",
   "version": "3.11.5"
  }
 },
 "nbformat": 4,
 "nbformat_minor": 5
}
