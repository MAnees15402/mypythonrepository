{
 "cells": [
  {
   "cell_type": "code",
   "execution_count": 1,
   "id": "c98f5d87",
   "metadata": {},
   "outputs": [
    {
     "name": "stdout",
     "output_type": "stream",
     "text": [
      "I love pakistan\n"
     ]
    }
   ],
   "source": [
    "print('I love pakistan')"
   ]
  },
  {
   "cell_type": "code",
   "execution_count": 3,
   "id": "747eefa2",
   "metadata": {},
   "outputs": [
    {
     "name": "stdout",
     "output_type": "stream",
     "text": [
      "12****12.2****Integer****True\n"
     ]
    }
   ],
   "source": [
    "print(12, 12.2, 'Integer', True, sep = '****')"
   ]
  },
  {
   "cell_type": "code",
   "execution_count": 4,
   "id": "56a85315",
   "metadata": {},
   "outputs": [
    {
     "name": "stdout",
     "output_type": "stream",
     "text": [
      "This is the first line\n",
      "This is the second line\n"
     ]
    }
   ],
   "source": [
    "print('This is the first line')\n",
    "print('This is the second line')"
   ]
  },
  {
   "cell_type": "code",
   "execution_count": 6,
   "id": "0ecbb86b",
   "metadata": {},
   "outputs": [
    {
     "name": "stdout",
     "output_type": "stream",
     "text": [
      "This is the first line!!!This is the second line\n"
     ]
    }
   ],
   "source": [
    "print('This is the first line', end = '!!!')\n",
    "print('This is the second line')"
   ]
  },
  {
   "cell_type": "markdown",
   "id": "012c7457",
   "metadata": {},
   "source": [
    "This is the first line!!!This is the second line"
   ]
  },
  {
   "cell_type": "markdown",
   "id": "304700fa",
   "metadata": {},
   "source": [
    "# Operators"
   ]
  },
  {
   "cell_type": "markdown",
   "id": "01f0c7a8",
   "metadata": {},
   "source": [
    "(+,-,*,/)"
   ]
  },
  {
   "cell_type": "code",
   "execution_count": 9,
   "id": "90928064",
   "metadata": {},
   "outputs": [
    {
     "name": "stdout",
     "output_type": "stream",
     "text": [
      "15\n",
      "9\n",
      "36\n",
      "4.0\n"
     ]
    }
   ],
   "source": [
    "print(12+3)\n",
    "print(12-3)\n",
    "print(12*3)\n",
    "print(12/3)"
   ]
  },
  {
   "cell_type": "code",
   "execution_count": 11,
   "id": "3fe5091a",
   "metadata": {},
   "outputs": [
    {
     "name": "stdout",
     "output_type": "stream",
     "text": [
      "15.0\n",
      "9.0\n",
      "36.0\n"
     ]
    }
   ],
   "source": [
    "print(12+3.0)\n",
    "print(12-3.0)\n",
    "print(12*3.0)"
   ]
  },
  {
   "cell_type": "markdown",
   "id": "c68320e6",
   "metadata": {},
   "source": [
    "- jab bhi kisi int ko float se (+,-,*) answer float hi aega\n",
    "- python ke andar floating point division hoti hai \n",
    "- // performs integer division\n",
    "- % modulus operator gives remainder"
   ]
  },
  {
   "cell_type": "code",
   "execution_count": 17,
   "id": "3c584e1c",
   "metadata": {},
   "outputs": [
    {
     "name": "stdout",
     "output_type": "stream",
     "text": [
      "4\n",
      "3\n"
     ]
    }
   ],
   "source": [
    "print(12//3)\n",
    "print(10//3)"
   ]
  },
  {
   "cell_type": "code",
   "execution_count": 20,
   "id": "fd6e68cd",
   "metadata": {},
   "outputs": [
    {
     "name": "stdout",
     "output_type": "stream",
     "text": [
      "2\n"
     ]
    }
   ],
   "source": [
    "print(12%5) "
   ]
  },
  {
   "cell_type": "code",
   "execution_count": 21,
   "id": "508312c6",
   "metadata": {},
   "outputs": [
    {
     "name": "stdout",
     "output_type": "stream",
     "text": [
      "4.0\n"
     ]
    }
   ],
   "source": [
    "print(12//3.0)"
   ]
  },
  {
   "cell_type": "code",
   "execution_count": 23,
   "id": "0bc5e3ce",
   "metadata": {},
   "outputs": [
    {
     "data": {
      "text/plain": [
       "1728"
      ]
     },
     "execution_count": 23,
     "metadata": {},
     "output_type": "execute_result"
    }
   ],
   "source": [
    "12**3 #12X12X12"
   ]
  },
  {
   "cell_type": "markdown",
   "id": "7e899ae7",
   "metadata": {},
   "source": [
    "# Operator Precedence"
   ]
  },
  {
   "cell_type": "markdown",
   "id": "eb3ab440",
   "metadata": {},
   "source": [
    "- BODMAS (BRACKET OF DIVISOIN MULT ADD SUB)\n",
    "- PEMDAS (PARANTHESIS OF EXPONENTS MULT DIV ADD SUB)"
   ]
  },
  {
   "cell_type": "code",
   "execution_count": null,
   "id": "c2b68f47",
   "metadata": {},
   "outputs": [],
   "source": [
    "exponents"
   ]
  },
  {
   "cell_type": "code",
   "execution_count": 27,
   "id": "16560799",
   "metadata": {},
   "outputs": [
    {
     "data": {
      "text/plain": [
       "-38698352628"
      ]
     },
     "execution_count": 27,
     "metadata": {},
     "output_type": "execute_result"
    }
   ],
   "source": [
    "12**3//32%4+10-90*(12**2**3)   #12**3//32%4+10-90*429981696"
   ]
  },
  {
   "cell_type": "code",
   "execution_count": 38,
   "id": "58907a78",
   "metadata": {},
   "outputs": [
    {
     "data": {
      "text/plain": [
       "-38698352628"
      ]
     },
     "execution_count": 38,
     "metadata": {},
     "output_type": "execute_result"
    }
   ],
   "source": [
    "12-38698352640"
   ]
  },
  {
   "cell_type": "code",
   "execution_count": 39,
   "id": "a4eb5fee",
   "metadata": {},
   "outputs": [
    {
     "data": {
      "text/plain": [
       "-38698352628"
      ]
     },
     "execution_count": 39,
     "metadata": {},
     "output_type": "execute_result"
    }
   ],
   "source": [
    "-38698352628 -38698352628\n"
   ]
  },
  {
   "cell_type": "markdown",
   "id": "154f965c",
   "metadata": {},
   "source": [
    "- Paranthesis\n",
    "- exponents(from right to left)\n",
    "- mult divide (from left to right)\n",
    "- add sub(from left to right)"
   ]
  },
  {
   "cell_type": "markdown",
   "id": "97852607",
   "metadata": {},
   "source": [
    "# Variables"
   ]
  },
  {
   "cell_type": "markdown",
   "id": "b903c095",
   "metadata": {},
   "source": [
    "Value>Datatype\n",
    "- String\n",
    "- int\n",
    "- float\n",
    "- boolean"
   ]
  },
  {
   "cell_type": "code",
   "execution_count": 41,
   "id": "4dd1b327",
   "metadata": {},
   "outputs": [],
   "source": [
    "a = 'I love pak army'\n",
    "b = 123\n",
    "c = 12.2\n",
    "d = True"
   ]
  },
  {
   "cell_type": "code",
   "execution_count": 45,
   "id": "d2b5824e",
   "metadata": {},
   "outputs": [
    {
     "data": {
      "text/plain": [
       "bool"
      ]
     },
     "execution_count": 45,
     "metadata": {},
     "output_type": "execute_result"
    }
   ],
   "source": [
    "type(a)\n",
    "type(b)\n",
    "type(c)\n",
    "type(d)"
   ]
  },
  {
   "cell_type": "markdown",
   "id": "32f4bd4f",
   "metadata": {},
   "source": [
    "Python is a dynamic typed langauge"
   ]
  },
  {
   "cell_type": "code",
   "execution_count": 46,
   "id": "aa64d26c",
   "metadata": {},
   "outputs": [
    {
     "name": "stdout",
     "output_type": "stream",
     "text": [
      "123\n"
     ]
    }
   ],
   "source": [
    "print(b)"
   ]
  },
  {
   "cell_type": "code",
   "execution_count": 47,
   "id": "f51e543b",
   "metadata": {},
   "outputs": [
    {
     "name": "stdout",
     "output_type": "stream",
     "text": [
      "12.2\n"
     ]
    }
   ],
   "source": [
    "print(c)"
   ]
  },
  {
   "cell_type": "code",
   "execution_count": 49,
   "id": "e750ed9e",
   "metadata": {},
   "outputs": [],
   "source": [
    "result = b+c"
   ]
  },
  {
   "cell_type": "code",
   "execution_count": 51,
   "id": "39bf3f4f",
   "metadata": {},
   "outputs": [
    {
     "name": "stdout",
     "output_type": "stream",
     "text": [
      "135.2\n"
     ]
    }
   ],
   "source": [
    "print(result)"
   ]
  },
  {
   "cell_type": "code",
   "execution_count": 53,
   "id": "f1eab94b",
   "metadata": {},
   "outputs": [
    {
     "data": {
      "text/plain": [
       "10.081967213114755"
      ]
     },
     "execution_count": 53,
     "metadata": {},
     "output_type": "execute_result"
    }
   ],
   "source": [
    "b/c"
   ]
  },
  {
   "cell_type": "markdown",
   "id": "f5875938",
   "metadata": {},
   "source": [
    "###### Concatenation"
   ]
  },
  {
   "cell_type": "code",
   "execution_count": 58,
   "id": "4736da0b",
   "metadata": {},
   "outputs": [],
   "source": [
    "variable = 'How do you create a variable?'"
   ]
  },
  {
   "cell_type": "code",
   "execution_count": 56,
   "id": "39c52414",
   "metadata": {},
   "outputs": [],
   "source": [
    "text1 = 'My name is'\n",
    "text2 = 'Ali khan'"
   ]
  },
  {
   "cell_type": "code",
   "execution_count": 57,
   "id": "7c771ef6",
   "metadata": {},
   "outputs": [
    {
     "data": {
      "text/plain": [
       "'My name isAli khan'"
      ]
     },
     "execution_count": 57,
     "metadata": {},
     "output_type": "execute_result"
    }
   ],
   "source": [
    "text1+text2"
   ]
  },
  {
   "cell_type": "code",
   "execution_count": 59,
   "id": "7c96fb91",
   "metadata": {},
   "outputs": [
    {
     "name": "stdout",
     "output_type": "stream",
     "text": [
      "How do you create a variable?\n"
     ]
    }
   ],
   "source": [
    "print(variable)"
   ]
  },
  {
   "cell_type": "code",
   "execution_count": 63,
   "id": "edbaff7f",
   "metadata": {},
   "outputs": [
    {
     "name": "stdout",
     "output_type": "stream",
     "text": [
      "15\n"
     ]
    }
   ],
   "source": [
    "x = print(12+3)"
   ]
  },
  {
   "cell_type": "code",
   "execution_count": 64,
   "id": "8ffb0374",
   "metadata": {},
   "outputs": [
    {
     "name": "stdout",
     "output_type": "stream",
     "text": [
      "None\n"
     ]
    }
   ],
   "source": [
    "print(x)"
   ]
  },
  {
   "cell_type": "code",
   "execution_count": null,
   "id": "46d10141",
   "metadata": {},
   "outputs": [],
   "source": []
  }
 ],
 "metadata": {
  "kernelspec": {
   "display_name": "Python 3 (ipykernel)",
   "language": "python",
   "name": "python3"
  },
  "language_info": {
   "codemirror_mode": {
    "name": "ipython",
    "version": 3
   },
   "file_extension": ".py",
   "mimetype": "text/x-python",
   "name": "python",
   "nbconvert_exporter": "python",
   "pygments_lexer": "ipython3",
   "version": "3.11.5"
  }
 },
 "nbformat": 4,
 "nbformat_minor": 5
}
