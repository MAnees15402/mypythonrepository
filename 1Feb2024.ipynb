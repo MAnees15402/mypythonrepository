{
 "cells": [
  {
   "cell_type": "markdown",
   "id": "e85c1097",
   "metadata": {},
   "source": [
    "# Passing a list"
   ]
  },
  {
   "cell_type": "code",
   "execution_count": 7,
   "id": "f0453376",
   "metadata": {},
   "outputs": [],
   "source": [
    "def square(lst):\n",
    "    squares = []    \n",
    "    for num in lst:\n",
    "        squares.append(num**2)        \n",
    "    return squares"
   ]
  },
  {
   "cell_type": "code",
   "execution_count": 8,
   "id": "1f26c78b",
   "metadata": {},
   "outputs": [
    {
     "data": {
      "text/plain": [
       "[9, 16, 36, 49, 36, 64]"
      ]
     },
     "execution_count": 8,
     "metadata": {},
     "output_type": "execute_result"
    }
   ],
   "source": [
    "square([3,4,6,7,6,8])"
   ]
  },
  {
   "cell_type": "code",
   "execution_count": 9,
   "id": "e5ea96ff",
   "metadata": {},
   "outputs": [
    {
     "data": {
      "text/plain": [
       "[169, 196, 256, 289, 256, 324]"
      ]
     },
     "execution_count": 9,
     "metadata": {},
     "output_type": "execute_result"
    }
   ],
   "source": [
    "square([13,14,16,17,16,18])"
   ]
  },
  {
   "cell_type": "code",
   "execution_count": 24,
   "id": "dc47f0f0",
   "metadata": {},
   "outputs": [],
   "source": [
    "students={\n",
    "          \"st1\":{'name':'Nasir','roll':123,'age':21,'course':'python'},\n",
    "          \"st2\":{'name':'Asad','roll':124,'age':20,'course':'mobile'},\n",
    "          \"st3\":{'name':'Yasir','roll':125,'age':30,'course':'python'},\n",
    "          \"st4\":{'name':'Umer','roll':126,'age':19,'course':'web'},\n",
    "          \"st5\":{'name':'faisal','roll':127,'age':20,'course':'mobile'},\n",
    "          \"st6\":{'name':'tahir','roll':128,'age':41,'course':'python'}\n",
    "         }"
   ]
  },
  {
   "cell_type": "code",
   "execution_count": 25,
   "id": "95f2b789",
   "metadata": {},
   "outputs": [],
   "source": [
    "def add_email_id(dic):\n",
    "    for key in dic:\n",
    "        dic[key]['email'] = f\"{dic[key]['name']}{dic[key]['roll']}@gmail.com\"\n",
    "    return dic"
   ]
  },
  {
   "cell_type": "code",
   "execution_count": 26,
   "id": "9e092191",
   "metadata": {},
   "outputs": [
    {
     "name": "stdout",
     "output_type": "stream",
     "text": [
      "{'st1': {'name': 'Nasir', 'roll': 123, 'age': 21, 'course': 'python', 'email': 'Nasir123@gmail.com'}, 'st2': {'name': 'Asad', 'roll': 124, 'age': 20, 'course': 'mobile', 'email': 'Asad124@gmail.com'}, 'st3': {'name': 'Yasir', 'roll': 125, 'age': 30, 'course': 'python', 'email': 'Yasir125@gmail.com'}, 'st4': {'name': 'Umer', 'roll': 126, 'age': 19, 'course': 'web', 'email': 'Umer126@gmail.com'}, 'st5': {'name': 'faisal', 'roll': 127, 'age': 20, 'course': 'mobile', 'email': 'faisal127@gmail.com'}, 'st6': {'name': 'tahir', 'roll': 128, 'age': 41, 'course': 'python', 'email': 'tahir128@gmail.com'}}\n"
     ]
    }
   ],
   "source": [
    "print(add_email_id(students))"
   ]
  },
  {
   "cell_type": "markdown",
   "id": "db5a2a45",
   "metadata": {},
   "source": [
    "{\n",
    "'st1': {'name': 'Nasir', 'roll': 123, 'age': 21, 'course': 'python', 'email': 'Nasir123@gmail.com'}, \n",
    "'st2': {'name': 'Asad', 'roll': 124, 'age': 20, 'course': 'mobile', 'email': 'Asad124@gmail.com'}, \n",
    "'st3': {'name': 'Yasir', 'roll': 125, 'age': 30, 'course': 'python', 'email': 'Yasir125@gmail.com'}, \n",
    "'st4': {'name': 'Umer', 'roll': 126, 'age': 19, 'course': 'web', 'email': 'Umer126@gmail.com'},\n",
    "'st5': {'name': 'faisal', 'roll': 127, 'age': 20, 'course': 'mobile', 'email': 'faisal127@gmail.com'}, \n",
    "'st6': {'name': 'tahir', 'roll': 128, 'age': 41, 'course': 'python', 'email': 'tahir128@gmail.com'}\n",
    "}"
   ]
  },
  {
   "cell_type": "markdown",
   "id": "38f2d44e",
   "metadata": {},
   "source": [
    "print(-2//4)\n",
    "# -0.5\n",
    "#\n",
    "\n",
    "        0.9 >>> round >>> next smallest int >>1\n",
    "        10.4 >>>> round>>> prev big int >>10\n",
    "        \n",
    "            -1.5,-1, -0.5, 0, 0.5, 1, 1.5"
   ]
  },
  {
   "cell_type": "markdown",
   "id": "a3803f2a",
   "metadata": {},
   "source": [
    "# write a function that accepts a list of numbers between 1000,3000 return all those numbers whose every digit is even. "
   ]
  },
  {
   "cell_type": "code",
   "execution_count": 38,
   "id": "052cfafa",
   "metadata": {},
   "outputs": [],
   "source": [
    "def alldigitseven(lst):\n",
    "    allevens=[]\n",
    "    for num in lst:\n",
    "        num =str(num) \n",
    "        if int(num[0])%2==0:  \n",
    "            if int(num[1])%2==0:\n",
    "                if int(num[2])%2==0:\n",
    "                    if int(num[3])%2==0:\n",
    "                        allevens.append(int(num))\n",
    "    return allevens"
   ]
  },
  {
   "cell_type": "code",
   "execution_count": 39,
   "id": "f40bf5b8",
   "metadata": {},
   "outputs": [],
   "source": [
    "nums = list(range(1000,3001))"
   ]
  },
  {
   "cell_type": "code",
   "execution_count": 40,
   "id": "07aa3fd2",
   "metadata": {},
   "outputs": [
    {
     "data": {
      "text/plain": [
       "[2000,\n",
       " 2002,\n",
       " 2004,\n",
       " 2006,\n",
       " 2008,\n",
       " 2020,\n",
       " 2022,\n",
       " 2024,\n",
       " 2026,\n",
       " 2028,\n",
       " 2040,\n",
       " 2042,\n",
       " 2044,\n",
       " 2046,\n",
       " 2048,\n",
       " 2060,\n",
       " 2062,\n",
       " 2064,\n",
       " 2066,\n",
       " 2068,\n",
       " 2080,\n",
       " 2082,\n",
       " 2084,\n",
       " 2086,\n",
       " 2088,\n",
       " 2200,\n",
       " 2202,\n",
       " 2204,\n",
       " 2206,\n",
       " 2208,\n",
       " 2220,\n",
       " 2222,\n",
       " 2224,\n",
       " 2226,\n",
       " 2228,\n",
       " 2240,\n",
       " 2242,\n",
       " 2244,\n",
       " 2246,\n",
       " 2248,\n",
       " 2260,\n",
       " 2262,\n",
       " 2264,\n",
       " 2266,\n",
       " 2268,\n",
       " 2280,\n",
       " 2282,\n",
       " 2284,\n",
       " 2286,\n",
       " 2288,\n",
       " 2400,\n",
       " 2402,\n",
       " 2404,\n",
       " 2406,\n",
       " 2408,\n",
       " 2420,\n",
       " 2422,\n",
       " 2424,\n",
       " 2426,\n",
       " 2428,\n",
       " 2440,\n",
       " 2442,\n",
       " 2444,\n",
       " 2446,\n",
       " 2448,\n",
       " 2460,\n",
       " 2462,\n",
       " 2464,\n",
       " 2466,\n",
       " 2468,\n",
       " 2480,\n",
       " 2482,\n",
       " 2484,\n",
       " 2486,\n",
       " 2488,\n",
       " 2600,\n",
       " 2602,\n",
       " 2604,\n",
       " 2606,\n",
       " 2608,\n",
       " 2620,\n",
       " 2622,\n",
       " 2624,\n",
       " 2626,\n",
       " 2628,\n",
       " 2640,\n",
       " 2642,\n",
       " 2644,\n",
       " 2646,\n",
       " 2648,\n",
       " 2660,\n",
       " 2662,\n",
       " 2664,\n",
       " 2666,\n",
       " 2668,\n",
       " 2680,\n",
       " 2682,\n",
       " 2684,\n",
       " 2686,\n",
       " 2688,\n",
       " 2800,\n",
       " 2802,\n",
       " 2804,\n",
       " 2806,\n",
       " 2808,\n",
       " 2820,\n",
       " 2822,\n",
       " 2824,\n",
       " 2826,\n",
       " 2828,\n",
       " 2840,\n",
       " 2842,\n",
       " 2844,\n",
       " 2846,\n",
       " 2848,\n",
       " 2860,\n",
       " 2862,\n",
       " 2864,\n",
       " 2866,\n",
       " 2868,\n",
       " 2880,\n",
       " 2882,\n",
       " 2884,\n",
       " 2886,\n",
       " 2888]"
      ]
     },
     "execution_count": 40,
     "metadata": {},
     "output_type": "execute_result"
    }
   ],
   "source": [
    "alldigitseven(nums)"
   ]
  },
  {
   "cell_type": "code",
   "execution_count": 43,
   "id": "a502d4c2",
   "metadata": {},
   "outputs": [],
   "source": [
    "num = 2288\n",
    "num = str(num)"
   ]
  },
  {
   "cell_type": "code",
   "execution_count": 46,
   "id": "b2e9fed8",
   "metadata": {},
   "outputs": [
    {
     "data": {
      "text/plain": [
       "0"
      ]
     },
     "execution_count": 46,
     "metadata": {},
     "output_type": "execute_result"
    }
   ],
   "source": [
    "int(num[0])%2"
   ]
  },
  {
   "cell_type": "markdown",
   "id": "3148ebb9",
   "metadata": {},
   "source": [
    "You need to write a code which accepts a sequence of comma separated 4 digit binary numbers \n",
    "\n",
    "as its input and then check whether they are divisible by 5 or not.\n",
    "\n",
    "The numbers that are divisible by 5 are to be printed in a comma separated sequence.\n",
    "\n",
    "Example:\n",
    "\n",
    "0100,0011,1010,1001\n",
    "\n",
    "Then the output should be:\n",
    "\n",
    "1010\n",
    "\n",
    "Reference: https://www.datacamp.com/community/tutorials/python-data-type-conversion\n",
    "\n",
    "https://stackoverflow.com/questions/21765779/converting-binary-to-decimal-integer-output"
   ]
  },
  {
   "cell_type": "code",
   "execution_count": 51,
   "id": "f97747da",
   "metadata": {},
   "outputs": [
    {
     "data": {
      "text/plain": [
       "42"
      ]
     },
     "execution_count": 51,
     "metadata": {},
     "output_type": "execute_result"
    }
   ],
   "source": [
    "int('101010',2)"
   ]
  },
  {
   "cell_type": "code",
   "execution_count": 52,
   "id": "af596502",
   "metadata": {},
   "outputs": [
    {
     "data": {
      "text/plain": [
       "'0b101010'"
      ]
     },
     "execution_count": 52,
     "metadata": {},
     "output_type": "execute_result"
    }
   ],
   "source": [
    "bin(42)"
   ]
  },
  {
   "cell_type": "code",
   "execution_count": 63,
   "id": "4ae7945d",
   "metadata": {},
   "outputs": [
    {
     "name": "stdout",
     "output_type": "stream",
     "text": [
      "Enter 4 comma separated binary digits of size 40100,0011,1010,1001\n"
     ]
    },
    {
     "data": {
      "text/plain": [
       "[{10: '1010'}]"
      ]
     },
     "execution_count": 63,
     "metadata": {},
     "output_type": "execute_result"
    }
   ],
   "source": [
    "binary_nums = input(\"Enter 4 comma separated binary digits of size 4\").split(',')\n",
    "multiple_of_5=[]\n",
    "for b in binary_nums:\n",
    "    if int(b,2)%5==0:\n",
    "        multiple_of_5.append({int(b,2):b})\n",
    "multiple_of_5\n"
   ]
  },
  {
   "cell_type": "code",
   "execution_count": null,
   "id": "f720a569",
   "metadata": {},
   "outputs": [],
   "source": [
    "b_num = input(\"Enter 4 digit comma separated binary number\")"
   ]
  },
  {
   "cell_type": "code",
   "execution_count": null,
   "id": "73e29373",
   "metadata": {},
   "outputs": [],
   "source": []
  }
 ],
 "metadata": {
  "kernelspec": {
   "display_name": "Python 3 (ipykernel)",
   "language": "python",
   "name": "python3"
  },
  "language_info": {
   "codemirror_mode": {
    "name": "ipython",
    "version": 3
   },
   "file_extension": ".py",
   "mimetype": "text/x-python",
   "name": "python",
   "nbconvert_exporter": "python",
   "pygments_lexer": "ipython3",
   "version": "3.11.5"
  }
 },
 "nbformat": 4,
 "nbformat_minor": 5
}
