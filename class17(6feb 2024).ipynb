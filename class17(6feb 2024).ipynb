{
 "cells": [
  {
   "cell_type": "markdown",
   "id": "6a03d545",
   "metadata": {},
   "source": [
    "# passing arbitrary number of argument in a function"
   ]
  },
  {
   "cell_type": "code",
   "execution_count": 1,
   "id": "308f5e1b",
   "metadata": {},
   "outputs": [],
   "source": [
    "def abc():\n",
    "    pass"
   ]
  },
  {
   "cell_type": "code",
   "execution_count": 2,
   "id": "18350613",
   "metadata": {},
   "outputs": [],
   "source": [
    "def abc(val):\n",
    "    pass"
   ]
  },
  {
   "cell_type": "code",
   "execution_count": 3,
   "id": "d006f280",
   "metadata": {},
   "outputs": [],
   "source": [
    "def abc (v1,v2):\n",
    "    pass"
   ]
  },
  {
   "cell_type": "markdown",
   "id": "61ed7047",
   "metadata": {},
   "source": [
    "# operator overloading"
   ]
  },
  {
   "cell_type": "code",
   "execution_count": 4,
   "id": "55d42c8f",
   "metadata": {},
   "outputs": [
    {
     "data": {
      "text/plain": [
       "9"
      ]
     },
     "execution_count": 4,
     "metadata": {},
     "output_type": "execute_result"
    }
   ],
   "source": [
    "4+5"
   ]
  },
  {
   "cell_type": "code",
   "execution_count": 5,
   "id": "7066dcdf",
   "metadata": {},
   "outputs": [
    {
     "data": {
      "text/plain": [
       "'45'"
      ]
     },
     "execution_count": 5,
     "metadata": {},
     "output_type": "execute_result"
    }
   ],
   "source": [
    "'4'+'5'"
   ]
  },
  {
   "cell_type": "code",
   "execution_count": 6,
   "id": "9e8960a0",
   "metadata": {},
   "outputs": [
    {
     "data": {
      "text/plain": [
       "[2, 3, 4, 5]"
      ]
     },
     "execution_count": 6,
     "metadata": {},
     "output_type": "execute_result"
    }
   ],
   "source": [
    "[2,3]+[4,5]"
   ]
  },
  {
   "cell_type": "code",
   "execution_count": 7,
   "id": "61ec96fa",
   "metadata": {},
   "outputs": [],
   "source": [
    "def call():\n",
    "    print('calling someone')"
   ]
  },
  {
   "cell_type": "code",
   "execution_count": 8,
   "id": "4ba4b3db",
   "metadata": {},
   "outputs": [
    {
     "name": "stdout",
     "output_type": "stream",
     "text": [
      "calling someone\n"
     ]
    }
   ],
   "source": [
    "call()"
   ]
  },
  {
   "cell_type": "code",
   "execution_count": 12,
   "id": "1430ae24",
   "metadata": {},
   "outputs": [],
   "source": [
    "def call(name):\n",
    "    \n",
    "    print('calling',name)"
   ]
  },
  {
   "cell_type": "code",
   "execution_count": 13,
   "id": "f055f567",
   "metadata": {},
   "outputs": [],
   "source": [
    "def addnumbers(v1,v2):\n",
    "    return v1+v2"
   ]
  },
  {
   "cell_type": "code",
   "execution_count": 15,
   "id": "4f5144f3",
   "metadata": {},
   "outputs": [
    {
     "data": {
      "text/plain": [
       "9"
      ]
     },
     "execution_count": 15,
     "metadata": {},
     "output_type": "execute_result"
    }
   ],
   "source": [
    "addnumbers(4,5)"
   ]
  },
  {
   "cell_type": "code",
   "execution_count": 20,
   "id": "6bab4635",
   "metadata": {},
   "outputs": [],
   "source": [
    "def addnumber(*nums):\n",
    "    print(nums)\n",
    "    return'hello','bye'"
   ]
  },
  {
   "cell_type": "code",
   "execution_count": 21,
   "id": "bf67f2d1",
   "metadata": {},
   "outputs": [
    {
     "name": "stdout",
     "output_type": "stream",
     "text": [
      "(1, 3, 4)\n"
     ]
    },
    {
     "data": {
      "text/plain": [
       "('hello', 'bye')"
      ]
     },
     "execution_count": 21,
     "metadata": {},
     "output_type": "execute_result"
    }
   ],
   "source": [
    "addnumber(1,3,4)"
   ]
  },
  {
   "cell_type": "code",
   "execution_count": 22,
   "id": "4b47ecbb",
   "metadata": {},
   "outputs": [],
   "source": [
    "def addnums(*values):\n",
    "    return sum(values)"
   ]
  },
  {
   "cell_type": "code",
   "execution_count": 23,
   "id": "b5f2162a",
   "metadata": {},
   "outputs": [
    {
     "data": {
      "text/plain": [
       "6"
      ]
     },
     "execution_count": 23,
     "metadata": {},
     "output_type": "execute_result"
    }
   ],
   "source": [
    "addnums(1,2,3)"
   ]
  },
  {
   "cell_type": "code",
   "execution_count": 25,
   "id": "ce69d8d4",
   "metadata": {},
   "outputs": [],
   "source": [
    "def send_msg(*member):\n",
    "    for mem in member:\n",
    "        print('hi',mem)"
   ]
  },
  {
   "cell_type": "code",
   "execution_count": 27,
   "id": "936d51dd",
   "metadata": {},
   "outputs": [
    {
     "name": "stdout",
     "output_type": "stream",
     "text": [
      "hi ali\n",
      "hi khan\n",
      "hi zaweer\n",
      "hi umer\n"
     ]
    }
   ],
   "source": [
    "send_msg('ali','khan','zaweer','umer')"
   ]
  },
  {
   "cell_type": "code",
   "execution_count": 28,
   "id": "dd87ad9e",
   "metadata": {},
   "outputs": [
    {
     "ename": "IndentationError",
     "evalue": "unexpected indent (473269192.py, line 2)",
     "output_type": "error",
     "traceback": [
      "\u001b[1;36m  Cell \u001b[1;32mIn[28], line 2\u001b[1;36m\u001b[0m\n\u001b[1;33m    while True:\u001b[0m\n\u001b[1;37m    ^\u001b[0m\n\u001b[1;31mIndentationError\u001b[0m\u001b[1;31m:\u001b[0m unexpected indent\n"
     ]
    }
   ],
   "source": [
    "pizza_topping=['mushroons', 'green pepper', 'extra cheese']\n",
    " while True:\n",
    "        print(pizza_topping)\n",
    "        order=input('Enter the topping ')\n",
    "        for a in pizza_topping:\n",
    "             \n",
    "        "
   ]
  },
  {
   "cell_type": "code",
   "execution_count": null,
   "id": "954932ee",
   "metadata": {},
   "outputs": [],
   "source": [
    "available_toppings= ['mushroons', 'green pepper', 'extra cheese']\n",
    "def make_pizza(toppings):\n",
    "    print('Your pizza is ready:')\n",
    "    for top in toppings:\n",
    "        print"
   ]
  }
 ],
 "metadata": {
  "kernelspec": {
   "display_name": "Python 3 (ipykernel)",
   "language": "python",
   "name": "python3"
  },
  "language_info": {
   "codemirror_mode": {
    "name": "ipython",
    "version": 3
   },
   "file_extension": ".py",
   "mimetype": "text/x-python",
   "name": "python",
   "nbconvert_exporter": "python",
   "pygments_lexer": "ipython3",
   "version": "3.11.5"
  }
 },
 "nbformat": 4,
 "nbformat_minor": 5
}
