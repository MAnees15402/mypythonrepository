{
 "cells": [
  {
   "cell_type": "markdown",
   "id": "3618e9b2",
   "metadata": {},
   "source": [
    "# #list"
   ]
  },
  {
   "cell_type": "code",
   "execution_count": 9,
   "id": "2d8a6829",
   "metadata": {},
   "outputs": [],
   "source": [
    "mark = ['1','2','3','4','5','6']"
   ]
  },
  {
   "cell_type": "code",
   "execution_count": 2,
   "id": "bdcf3bdd",
   "metadata": {},
   "outputs": [
    {
     "data": {
      "text/plain": [
       "[1, 2, 3, 4, 5, 6]"
      ]
     },
     "execution_count": 2,
     "metadata": {},
     "output_type": "execute_result"
    }
   ],
   "source": [
    "mark"
   ]
  },
  {
   "cell_type": "code",
   "execution_count": 3,
   "id": "1db6265d",
   "metadata": {},
   "outputs": [
    {
     "name": "stdout",
     "output_type": "stream",
     "text": [
      "[1, 2, 3, 4, 5, 6]\n"
     ]
    }
   ],
   "source": [
    "print(mark)"
   ]
  },
  {
   "cell_type": "code",
   "execution_count": 6,
   "id": "62b90310",
   "metadata": {},
   "outputs": [
    {
     "name": "stdout",
     "output_type": "stream",
     "text": [
      "1\n",
      "2\n",
      "4\n",
      "5\n"
     ]
    }
   ],
   "source": [
    "print(mark[0])\n",
    "print(mark[1])\n",
    "print(mark[3])\n",
    "print(mark[4])"
   ]
  },
  {
   "cell_type": "code",
   "execution_count": 7,
   "id": "8581512d",
   "metadata": {},
   "outputs": [
    {
     "name": "stdout",
     "output_type": "stream",
     "text": [
      "6\n"
     ]
    }
   ],
   "source": [
    "print(len(mark))"
   ]
  },
  {
   "cell_type": "code",
   "execution_count": null,
   "id": "91fbc28f",
   "metadata": {},
   "outputs": [],
   "source": [
    "mark = ['1','2','3','4','5','6']"
   ]
  },
  {
   "cell_type": "code",
   "execution_count": 12,
   "id": "69f6af7b",
   "metadata": {},
   "outputs": [
    {
     "name": "stdout",
     "output_type": "stream",
     "text": [
      "yes\n"
     ]
    }
   ],
   "source": [
    "if '3' in mark:\n",
    "    print('yes')\n",
    "else:\n",
    "    print('no')"
   ]
  },
  {
   "cell_type": "code",
   "execution_count": 13,
   "id": "5dec40f9",
   "metadata": {},
   "outputs": [
    {
     "name": "stdout",
     "output_type": "stream",
     "text": [
      "['1', '8', '3', '4', '5', '6']\n"
     ]
    }
   ],
   "source": [
    "mark[1] = '8'\n",
    "print(mark)"
   ]
  },
  {
   "cell_type": "code",
   "execution_count": 14,
   "id": "2ded5a3c",
   "metadata": {},
   "outputs": [
    {
     "name": "stdout",
     "output_type": "stream",
     "text": [
      "['1', '2', '8', '3', '4', '5', '6']\n"
     ]
    }
   ],
   "source": [
    "mark.insert(1,'2')\n",
    "print(mark)"
   ]
  },
  {
   "cell_type": "code",
   "execution_count": 15,
   "id": "a30976d6",
   "metadata": {},
   "outputs": [
    {
     "name": "stdout",
     "output_type": "stream",
     "text": [
      "['1', '2', '8', '3', '4', '5', '6', 7]\n"
     ]
    }
   ],
   "source": [
    "mark.append(7)\n",
    "print(mark)"
   ]
  },
  {
   "cell_type": "code",
   "execution_count": 16,
   "id": "692b2216",
   "metadata": {},
   "outputs": [],
   "source": [
    "mark.remove('8')"
   ]
  },
  {
   "cell_type": "code",
   "execution_count": 17,
   "id": "b4651d36",
   "metadata": {},
   "outputs": [
    {
     "data": {
      "text/plain": [
       "['1', '2', '3', '4', '5', '6', 7]"
      ]
     },
     "execution_count": 17,
     "metadata": {},
     "output_type": "execute_result"
    }
   ],
   "source": [
    "mark"
   ]
  },
  {
   "cell_type": "code",
   "execution_count": 19,
   "id": "2f2a69f2",
   "metadata": {},
   "outputs": [
    {
     "name": "stdout",
     "output_type": "stream",
     "text": [
      "1 2 3 4 5 6 7 "
     ]
    }
   ],
   "source": [
    "for marks in mark:\n",
    "    print(marks, end=' ')"
   ]
  },
  {
   "cell_type": "code",
   "execution_count": 27,
   "id": "e18076be",
   "metadata": {},
   "outputs": [
    {
     "name": "stdout",
     "output_type": "stream",
     "text": [
      "['apple', 'banena', 'cherry']\n"
     ]
    }
   ],
   "source": [
    "fruits = [\"apple\", \"banena\", \"cherry\", \"kiwi\", \"mango\"]\n",
    "newlist = []\n",
    "for x in fruits:\n",
    "        if 'e' in x:\n",
    "            \n",
    "            newlist.append(x)\n",
    "print(newlist)"
   ]
  },
  {
   "cell_type": "code",
   "execution_count": 28,
   "id": "d7f3633c",
   "metadata": {},
   "outputs": [
    {
     "name": "stdout",
     "output_type": "stream",
     "text": [
      "['apple', 'banena', 'cherry', 'kiwi', 'mango']\n"
     ]
    }
   ],
   "source": [
    "fruits.sort()\n",
    "print(fruits)"
   ]
  },
  {
   "cell_type": "code",
   "execution_count": 34,
   "id": "138d0a16",
   "metadata": {},
   "outputs": [
    {
     "data": {
      "text/plain": [
       "7"
      ]
     },
     "execution_count": 34,
     "metadata": {},
     "output_type": "execute_result"
    }
   ],
   "source": [
    "mark.pop()"
   ]
  },
  {
   "cell_type": "code",
   "execution_count": 36,
   "id": "bc106d9a",
   "metadata": {},
   "outputs": [
    {
     "data": {
      "text/plain": [
       "['6', '5', '4', '3', '2', '1']"
      ]
     },
     "execution_count": 36,
     "metadata": {},
     "output_type": "execute_result"
    }
   ],
   "source": [
    "mark.sort(reverse=True)\n",
    "mark"
   ]
  },
  {
   "cell_type": "code",
   "execution_count": 37,
   "id": "b69a006c",
   "metadata": {},
   "outputs": [
    {
     "data": {
      "text/plain": [
       "<function list.sort(*, key=None, reverse=False)>"
      ]
     },
     "execution_count": 37,
     "metadata": {},
     "output_type": "execute_result"
    }
   ],
   "source": [
    "mark.sort"
   ]
  },
  {
   "cell_type": "code",
   "execution_count": null,
   "id": "b087292a",
   "metadata": {},
   "outputs": [],
   "source": []
  }
 ],
 "metadata": {
  "kernelspec": {
   "display_name": "Python 3 (ipykernel)",
   "language": "python",
   "name": "python3"
  },
  "language_info": {
   "codemirror_mode": {
    "name": "ipython",
    "version": 3
   },
   "file_extension": ".py",
   "mimetype": "text/x-python",
   "name": "python",
   "nbconvert_exporter": "python",
   "pygments_lexer": "ipython3",
   "version": "3.11.5"
  }
 },
 "nbformat": 4,
 "nbformat_minor": 5
}
