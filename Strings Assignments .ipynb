{
 "cells": [
  {
   "cell_type": "markdown",
   "id": "e4668a37",
   "metadata": {},
   "source": [
    "# Strings Assignments "
   ]
  },
  {
   "cell_type": "markdown",
   "id": "7bde8d44",
   "metadata": {},
   "source": [
    "# # # (1)\n",
    "1.\tWrite a program that accepts a string from user. Your program should count and display number of vowels in that string.  "
   ]
  },
  {
   "cell_type": "code",
   "execution_count": null,
   "id": "1ee4c199",
   "metadata": {},
   "outputs": [],
   "source": [
    "txt = input('Enter the text : ')\n",
    "count = 0\n",
    "vowels = ['a','e','i','o','u','A','E','I','O','U']\n",
    "\n",
    "for cher in txt :\n",
    "    if cher in vowels:\n",
    "        count +=1\n",
    "print(f\"display number of vowels in that text: {count}\")\n"
   ]
  },
  {
   "cell_type": "markdown",
   "id": "3912410b",
   "metadata": {},
   "source": [
    "# # (2)\n",
    "2.\tWrite a program that reads a string from keyboard and display: \n",
    "*\tThe number of uppercase letters in the string \n",
    "*\tThe number of lowercase letters in the string \n",
    "*\tThe number of digits in the string \n"
   ]
  },
  {
   "cell_type": "code",
   "execution_count": 24,
   "id": "c525108d",
   "metadata": {},
   "outputs": [],
   "source": [
    "def string_keyboard(txt):\n",
    "    upper = 0\n",
    "    lower = 0\n",
    "    digit = 0\n",
    "    for char in txt:\n",
    "        if char.isupper():\n",
    "            upper +=1\n",
    "        elif char.islower():\n",
    "              lower +=1\n",
    "                \n",
    "        elif char.isdigit():\n",
    "              digit +=1\n",
    "    print(f\"\"\"\n",
    "              Upper case :{upper}\n",
    "              Lowercase :{lower}\n",
    "              digits case :{digit}\n",
    "                \"\"\") "
   ]
  },
  {
   "cell_type": "code",
   "execution_count": 26,
   "id": "535f5116",
   "metadata": {},
   "outputs": [
    {
     "name": "stdout",
     "output_type": "stream",
     "text": [
      "\n",
      "              Upper case :3\n",
      "              Lowercase :6\n",
      "              digits case :2\n",
      "                \n"
     ]
    }
   ],
   "source": [
    "string_keyboard('How Are You 34')"
   ]
  },
  {
   "cell_type": "markdown",
   "id": "3c1079bc",
   "metadata": {},
   "source": [
    "# # (3)\n",
    "3.\tWrite a Python program that accepts a string from user. Your program should create and display a new string where the first and last characters have been exchanged. \n",
    "For example if the user enters the string 'HELLO' then new string would be 'OELLH'  \n"
   ]
  },
  {
   "cell_type": "code",
   "execution_count": null,
   "id": "84541c38",
   "metadata": {},
   "outputs": [],
   "source": [
    "data = input(\"Enter add the string : \")\n",
    "new_data = data[-1] + data[1:-1] + data[0]\n",
    "print(f\"new string where the first and last characters: {new_data}\")"
   ]
  },
  {
   "cell_type": "markdown",
   "id": "e4ca751e",
   "metadata": {},
   "source": [
    "# # (4)\n",
    "4.\tWrite a Python program that accepts a string from user. Your program should create a new string in reverse of first string and display it. \n",
    "For example if the user enters the string 'EXAM' then new string would be 'MAXE'  \n",
    "\n"
   ]
  },
  {
   "cell_type": "code",
   "execution_count": 3,
   "id": "08e3e7cc",
   "metadata": {},
   "outputs": [],
   "source": [
    "def my_function(x):\n",
    "    return x[ :: -1]\n",
    "    my_text = input(\"Enter the string to reverse : \")\n",
    "    reverse_function = my_funtion(my_text)\n",
    "    print(reverse_function)"
   ]
  },
  {
   "cell_type": "code",
   "execution_count": 4,
   "id": "0d2d26bd",
   "metadata": {},
   "outputs": [
    {
     "data": {
      "text/plain": [
       "'sgnirts ruoy dnes nac uoy erehw noitcnuf a evah ot ekil uoy fI'"
      ]
     },
     "execution_count": 4,
     "metadata": {},
     "output_type": "execute_result"
    }
   ],
   "source": [
    "my_function(\"If you like to have a function where you can send your strings\")"
   ]
  },
  {
   "cell_type": "markdown",
   "id": "6d85952e",
   "metadata": {},
   "source": [
    "# # (5)\n",
    "5.\tWrite a Python program that accepts a string from user. Your program should create a new string by shifting one position to left. \n",
    "For example if the user enters the string 'examination 2021' then new string would be 'xamination 2021e'  \n"
   ]
  },
  {
   "cell_type": "code",
   "execution_count": null,
   "id": "c8aa489e",
   "metadata": {},
   "outputs": [],
   "source": [
    "\n"
   ]
  },
  {
   "cell_type": "markdown",
   "id": "4096a0ea",
   "metadata": {},
   "source": [
    "## (6)\n",
    ".\tWrite a program that asks the user to input his name and print its initials. Assuming that the user always types first name, middle name and last name and does not include any unnecessary spaces. \n",
    "For example, if the user enters Ajay Kumar Garg the program should display A. K. G. \n",
    "Note:Don't use split() method  \n"
   ]
  },
  {
   "cell_type": "code",
   "execution_count": null,
   "id": "da457c89",
   "metadata": {},
   "outputs": [],
   "source": [
    "def get_initials(name):\n",
    "    initials = []\n",
    "    words = name.split()\n",
    "    \n",
    "    for word in words :\n",
    "        initials.append(word[0].upper() + \".\")\n",
    "        \n",
    "    return ' '. join(initials)\n",
    "    \n",
    "full_name = input(\"Enter the name : \")\n",
    "\n",
    "initials_name = get_initials(full_name)\n",
    "\n",
    "print(f\"initials name : {initials_name}\")"
   ]
  },
  {
   "cell_type": "markdown",
   "id": "5744ce6b",
   "metadata": {},
   "source": [
    "# # (8)\n",
    "8.\tWrite a program that display following output: \n",
    "SHIFT HIFTS IFTSH FTSHI TSHIF \n",
    "SHIFT  \n",
    "\n"
   ]
  },
  {
   "cell_type": "code",
   "execution_count": 1,
   "id": "a191d9af",
   "metadata": {},
   "outputs": [
    {
     "name": "stdout",
     "output_type": "stream",
     "text": [
      "Enter the Word : shjbbavn\n",
      "shjbbavn\n",
      "hjbbavns\n",
      "jbbavnsh\n",
      "bbavnshj\n",
      "bavnshjb\n",
      "avnshjbb\n",
      "vnshjbba\n",
      "nshjbbav\n",
      "that is display : shjbbavn\n"
     ]
    }
   ],
   "source": [
    "def display_shifting(word):\n",
    "    for i in range(len(word)):\n",
    "        shifting_word = word[i:] + word[ : i]\n",
    "        print(shifting_word)\n",
    "        \n",
    "user_input= input(\"Enter the Word : \")\n",
    "display_shifting(user_input)\n",
    "print(f\"that is display : {user_input}\")"
   ]
  },
  {
   "cell_type": "markdown",
   "id": "d32fa7f6",
   "metadata": {},
   "source": [
    "# # 9. Write a program in python that accepts a string to setup a passwords. Your entered password must meet the following requirements:\n",
    " The password must be at least eight characters long.\n",
    " It must contain at least one uppercase letter.\n",
    " It must contain at least one lowercase letter.\n",
    "It must contain at least one numeric digit.\n",
    "Your program should should perform this validation."
   ]
  },
  {
   "cell_type": "code",
   "execution_count": null,
   "id": "b5340183",
   "metadata": {},
   "outputs": [],
   "source": [
    "def enter_password(password):\n",
    "    if len(password)>=8:\n",
    "          return False, \"password must be at least eight characters long\"\n",
    "        \n",
    "    if not any(char.isupper() for char in password):\n",
    "            return False,\"password must contain at least one uppercase letter.\"\n",
    "    if not any(char.islower() for char in password):\n",
    "            return False,\" password It must contain at least one lowercase letter.\"\n",
    "    if not any(char.isdigit() for char in password):\n",
    "            return False,\" password It must contain at least one digit.\"\n",
    "        \n",
    "    return True,\"passowrd is valid.\"\n",
    "    \n",
    "user_password =input(\"Enter your password: \")\n",
    "        \n",
    "    \n",
    "masseg = enter_password(user_password)\n",
    "print(masseg)"
   ]
  },
  {
   "cell_type": "code",
   "execution_count": null,
   "id": "c135207e",
   "metadata": {},
   "outputs": [],
   "source": []
  },
  {
   "cell_type": "code",
   "execution_count": null,
   "id": "28a31ba0",
   "metadata": {},
   "outputs": [],
   "source": []
  },
  {
   "cell_type": "code",
   "execution_count": null,
   "id": "1d1dad47",
   "metadata": {},
   "outputs": [],
   "source": []
  },
  {
   "cell_type": "code",
   "execution_count": null,
   "id": "992b592b",
   "metadata": {},
   "outputs": [],
   "source": []
  }
 ],
 "metadata": {
  "kernelspec": {
   "display_name": "Python 3 (ipykernel)",
   "language": "python",
   "name": "python3"
  },
  "language_info": {
   "codemirror_mode": {
    "name": "ipython",
    "version": 3
   },
   "file_extension": ".py",
   "mimetype": "text/x-python",
   "name": "python",
   "nbconvert_exporter": "python",
   "pygments_lexer": "ipython3",
   "version": "3.11.5"
  }
 },
 "nbformat": 4,
 "nbformat_minor": 5
}
