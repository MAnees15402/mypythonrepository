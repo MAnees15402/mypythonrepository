{
 "cells": [
  {
   "cell_type": "markdown",
   "id": "d4d64b66",
   "metadata": {},
   "source": [
    "# Write a program that asks the user for a positive integer value. The program should calculate the sum of all the integers from 1 up to the number entered. For example, if the user enters 20, the loop will find the sum of 1, 2, 3, 4, ... 20. \n"
   ]
  },
  {
   "cell_type": "code",
   "execution_count": 1,
   "id": "cb2a099b",
   "metadata": {},
   "outputs": [
    {
     "name": "stdout",
     "output_type": "stream",
     "text": [
      "Enter a positive integer value: 7\n",
      "1\n",
      "2\n",
      "3\n",
      "4\n",
      "5\n",
      "6\n",
      "7\n",
      "28\n"
     ]
    }
   ],
   "source": [
    "num = int(input('Enter a positive integer value: '))\n",
    "add = 0\n",
    "for i in range(1,num+1):\n",
    "    print(i)\n",
    "    add+=i\n",
    "print(add)"
   ]
  },
  {
   "cell_type": "markdown",
   "id": "aae81d11",
   "metadata": {},
   "source": [
    "## write a program that takes a positive integer N as input and calculates the sum of the reciprocals of all numbers from 1 up to N. The program should display the final sum. Output of the program should be like:Enter a positive integer: 5 The sum of reciprocals from 1 to 5 is: 2.28 "
   ]
  },
  {
   "cell_type": "code",
   "execution_count": 3,
   "id": "51286256",
   "metadata": {},
   "outputs": [
    {
     "name": "stdout",
     "output_type": "stream",
     "text": [
      "Enter a positive integer value: 8\n",
      "1\n",
      "2\n",
      "3\n",
      "4\n",
      "5\n",
      "6\n",
      "7\n",
      "8\n",
      "2.7178571428571425."
     ]
    }
   ],
   "source": [
    "num = int(input('Enter a positive integer value: '))\n",
    "add = 0\n",
    "for i in range(1,num+1):\n",
    "    print(i)\n",
    "    add+=1/i\n",
    "print(add, end='.')"
   ]
  },
  {
   "cell_type": "markdown",
   "id": "2b4e6d43",
   "metadata": {},
   "source": [
    "input = 4\n",
    "output = 1*2*3*4=24"
   ]
  },
  {
   "cell_type": "code",
   "execution_count": 7,
   "id": "76a50204",
   "metadata": {},
   "outputs": [
    {
     "name": "stdout",
     "output_type": "stream",
     "text": [
      "Enter a positive integer value: 4\n",
      "1\n",
      "2\n",
      "3\n",
      "4\n",
      "24\n"
     ]
    }
   ],
   "source": [
    "num = int(input('Enter a positive integer value: '))\n",
    "add = 1\n",
    "for i in range(1,num+1):\n",
    "    print(i)\n",
    "    add*=i\n",
    "print(add)"
   ]
  },
  {
   "cell_type": "markdown",
   "id": "7f49676f",
   "metadata": {},
   "source": [
    "## Write a program that input a string and ask user to delete a given word from a string. \n"
   ]
  },
  {
   "cell_type": "code",
   "execution_count": null,
   "id": "d93bfd43",
   "metadata": {},
   "outputs": [],
   "source": [
    "input = 'i am ali khan '\n",
    "input = 'ali'\n",
    "\n",
    "out = 'i am khan'"
   ]
  },
  {
   "cell_type": "code",
   "execution_count": 16,
   "id": "1c9a8fb0",
   "metadata": {},
   "outputs": [
    {
     "name": "stdout",
     "output_type": "stream",
     "text": [
      "Enter the stringi am ali khan\n",
      "Enter the word you want to deletekhan\n"
     ]
    },
    {
     "data": {
      "text/plain": [
       "'i am ali '"
      ]
     },
     "execution_count": 16,
     "metadata": {},
     "output_type": "execute_result"
    }
   ],
   "source": [
    "string = input('Enter the string')\n",
    "delete = input('Enter the word you want to delete')\n",
    "string.replace(delete, '')"
   ]
  },
  {
   "cell_type": "code",
   "execution_count": 24,
   "id": "2b0a19f4",
   "metadata": {},
   "outputs": [
    {
     "name": "stdout",
     "output_type": "stream",
     "text": [
      "Enter the stringi am ali khan\n",
      "Enter the word you want to deletekhan\n"
     ]
    }
   ],
   "source": [
    "string = input('Enter the string')\n",
    "delete = input('Enter the word you want to delete')"
   ]
  },
  {
   "cell_type": "code",
   "execution_count": 25,
   "id": "75e9c6bc",
   "metadata": {},
   "outputs": [],
   "source": [
    "lst = string.split(' ')\n",
    "lst.remove(delete)"
   ]
  },
  {
   "cell_type": "code",
   "execution_count": 31,
   "id": "457edb3d",
   "metadata": {},
   "outputs": [],
   "source": [
    "final_output = ' '.join(lst)"
   ]
  },
  {
   "cell_type": "code",
   "execution_count": 33,
   "id": "2df81255",
   "metadata": {},
   "outputs": [
    {
     "data": {
      "text/plain": [
       "'i am ali'"
      ]
     },
     "execution_count": 33,
     "metadata": {},
     "output_type": "execute_result"
    }
   ],
   "source": [
    "final_output"
   ]
  },
  {
   "cell_type": "code",
   "execution_count": 36,
   "id": "6d20b954",
   "metadata": {},
   "outputs": [
    {
     "name": "stdout",
     "output_type": "stream",
     "text": [
      "Enter the stringi am ali khan\n",
      "Enter the word you want to deletekhan\n",
      "i am ali\n"
     ]
    }
   ],
   "source": [
    "string = input('Enter the string')\n",
    "delete = input('Enter the word you want to delete')\n",
    "\n",
    "lst = string.split(' ')\n",
    "lst.remove(delete)\n",
    "\n",
    "final_output = ' '.join(lst)\n",
    "print(final_output)"
   ]
  },
  {
   "cell_type": "markdown",
   "id": "08ec3e43",
   "metadata": {},
   "source": [
    "# More on functions!!!!!1"
   ]
  },
  {
   "cell_type": "code",
   "execution_count": 37,
   "id": "56a3b301",
   "metadata": {},
   "outputs": [],
   "source": [
    "def send_email(members):\n",
    "    for member in members:\n",
    "        print(f'''Dear Member {member}, We regret to inform you that your membership has expired.\n",
    "          Please get your renewal''')    "
   ]
  },
  {
   "cell_type": "code",
   "execution_count": 38,
   "id": "393925c6",
   "metadata": {},
   "outputs": [
    {
     "name": "stdout",
     "output_type": "stream",
     "text": [
      "Dear Member Ali, We regret to inform you that your membership has expired.\n",
      "          Please get your renewal\n",
      "Dear Member Junaid, We regret to inform you that your membership has expired.\n",
      "          Please get your renewal\n",
      "Dear Member Fasih, We regret to inform you that your membership has expired.\n",
      "          Please get your renewal\n",
      "Dear Member Ahmed, We regret to inform you that your membership has expired.\n",
      "          Please get your renewal\n",
      "Dear Member Kashif, We regret to inform you that your membership has expired.\n",
      "          Please get your renewal\n"
     ]
    }
   ],
   "source": [
    "members = ['Ali','Junaid', 'Fasih','Ahmed','Kashif']\n",
    "send_email(members)"
   ]
  },
  {
   "cell_type": "code",
   "execution_count": 68,
   "id": "71f3a42f",
   "metadata": {},
   "outputs": [],
   "source": [
    "def total(cart):\n",
    "    total_amt = sum(cart.values())\n",
    "    return total_amt\n",
    "    # its a local variable"
   ]
  },
  {
   "cell_type": "code",
   "execution_count": 69,
   "id": "82ff12ef",
   "metadata": {},
   "outputs": [],
   "source": [
    "cart ={'anday':400, 'bread':100, 'butter':200,\n",
    "      'Milk':200,'Pappay':130,'Jam':300}"
   ]
  },
  {
   "cell_type": "code",
   "execution_count": 72,
   "id": "df282e57",
   "metadata": {},
   "outputs": [],
   "source": [
    "amt = total(cart)"
   ]
  },
  {
   "cell_type": "code",
   "execution_count": 73,
   "id": "03d35956",
   "metadata": {},
   "outputs": [
    {
     "data": {
      "text/plain": [
       "1330"
      ]
     },
     "execution_count": 73,
     "metadata": {},
     "output_type": "execute_result"
    }
   ],
   "source": [
    "amt"
   ]
  },
  {
   "cell_type": "code",
   "execution_count": 91,
   "id": "fb8a8d50",
   "metadata": {},
   "outputs": [],
   "source": [
    "def tax_calc(amt):\n",
    "    tax = 0\n",
    "    if amt >10000:\n",
    "        tax = amt*.10\n",
    "    elif amt>5000:\n",
    "        tax = amt*.05\n",
    "    elif amt >1000:\n",
    "        tax = amt*.02\n",
    "    else:\n",
    "        tax = amt*0  \n",
    "    return tax\n",
    "    "
   ]
  },
  {
   "cell_type": "code",
   "execution_count": 92,
   "id": "11ef93f1",
   "metadata": {},
   "outputs": [],
   "source": [
    "calculated_tax = tax_calc(amt)"
   ]
  },
  {
   "cell_type": "code",
   "execution_count": 95,
   "id": "5ec025f9",
   "metadata": {},
   "outputs": [
    {
     "data": {
      "text/plain": [
       "1356.6"
      ]
     },
     "execution_count": 95,
     "metadata": {},
     "output_type": "execute_result"
    }
   ],
   "source": [
    "amt +calculated_tax"
   ]
  },
  {
   "cell_type": "code",
   "execution_count": 98,
   "id": "f8d3a085",
   "metadata": {},
   "outputs": [
    {
     "name": "stdout",
     "output_type": "stream",
     "text": [
      "0\n"
     ]
    }
   ],
   "source": [
    "count=0\n",
    "print(count)\n",
    "def hello():\n",
    "    count=0\n",
    "    count+=1\n",
    "    print(count)   "
   ]
  },
  {
   "cell_type": "code",
   "execution_count": 99,
   "id": "edc4f092",
   "metadata": {},
   "outputs": [
    {
     "name": "stdout",
     "output_type": "stream",
     "text": [
      "1\n"
     ]
    }
   ],
   "source": [
    "hello()"
   ]
  },
  {
   "cell_type": "code",
   "execution_count": 107,
   "id": "18d94df9",
   "metadata": {},
   "outputs": [],
   "source": [
    "shop ={'Anday':400, 'Bread':100, 'Butter':200,\n",
    "      'Milk':200,'Pappay':130,'Jam':300, 'Yougurt':80,\n",
    "       'cheeze':500, 'Bicuits':200, 'Water':50,'Patti':500,\n",
    "       'Sugar':160}"
   ]
  },
  {
   "cell_type": "code",
   "execution_count": 116,
   "id": "82617116",
   "metadata": {},
   "outputs": [
    {
     "ename": "IndentationError",
     "evalue": "expected an indented block after 'for' statement on line 2 (3046484175.py, line 4)",
     "output_type": "error",
     "traceback": [
      "\u001b[1;36m  Cell \u001b[1;32mIn[116], line 4\u001b[1;36m\u001b[0m\n\u001b[1;33m    total_amt =+shop[a]\u001b[0m\n\u001b[1;37m    ^\u001b[0m\n\u001b[1;31mIndentationError\u001b[0m\u001b[1;31m:\u001b[0m expected an indented block after 'for' statement on line 2\n"
     ]
    }
   ],
   "source": [
    "def total(cart): \n",
    "    for a in cart:\n",
    "        \n",
    "    total_amt =+shop[a]\n",
    "    return total_amt\n",
    "    # its a local variable"
   ]
  },
  {
   "cell_type": "code",
   "execution_count": 117,
   "id": "91431af3",
   "metadata": {},
   "outputs": [],
   "source": [
    "def tax_calc(amt):\n",
    "    tax = 0\n",
    "    if amt >10000:\n",
    "        tax = amt*.10\n",
    "    elif amt>5000:\n",
    "        tax = amt*.05\n",
    "    elif amt >1000:\n",
    "        tax = amt*.02\n",
    "    else:\n",
    "        tax = amt*0  \n",
    "    return tax "
   ]
  },
  {
   "cell_type": "code",
   "execution_count": 118,
   "id": "9096c6f8",
   "metadata": {},
   "outputs": [],
   "source": [
    "def discount_calc(bill):\n",
    "    if bill > 10000:\n",
    "        discount =bill*.10\n",
    "    elif bill >5000:\n",
    "        discount = bill*0.05\n",
    "    else:\n",
    "        discount = 0\n",
    "    return discount"
   ]
  },
  {
   "cell_type": "code",
   "execution_count": 119,
   "id": "d6873302",
   "metadata": {},
   "outputs": [],
   "source": [
    "def order():\n",
    "    while True:\n",
    "        item = input(\"Enter the item q for quit\")\n",
    "        cart = []\n",
    "        if item!='q':\n",
    "            if item in shop.keys():\n",
    "                cart.append(item)\n",
    "            else:\n",
    "                print(f'Sorry we dont have {item}')\n",
    "        else:\n",
    "            break\n",
    "        payment = total(cart)+ tax_calc(total(cart))+discount_calc(total(cart))\n",
    "    return payment"
   ]
  },
  {
   "cell_type": "code",
   "execution_count": 120,
   "id": "f0d12b01",
   "metadata": {},
   "outputs": [
    {
     "name": "stdout",
     "output_type": "stream",
     "text": [
      "Enter the item q for quitMilk\n"
     ]
    },
    {
     "ename": "TypeError",
     "evalue": "unsupported operand type(s) for +: 'int' and 'str'",
     "output_type": "error",
     "traceback": [
      "\u001b[1;31m---------------------------------------------------------------------------\u001b[0m",
      "\u001b[1;31mTypeError\u001b[0m                                 Traceback (most recent call last)",
      "Cell \u001b[1;32mIn[120], line 1\u001b[0m\n\u001b[1;32m----> 1\u001b[0m order()\n",
      "Cell \u001b[1;32mIn[119], line 12\u001b[0m, in \u001b[0;36morder\u001b[1;34m()\u001b[0m\n\u001b[0;32m     10\u001b[0m     \u001b[38;5;28;01melse\u001b[39;00m:\n\u001b[0;32m     11\u001b[0m         \u001b[38;5;28;01mbreak\u001b[39;00m\n\u001b[1;32m---> 12\u001b[0m     payment \u001b[38;5;241m=\u001b[39m total(cart)\u001b[38;5;241m+\u001b[39m tax_calc(total(cart))\u001b[38;5;241m+\u001b[39mdiscount_calc(total(cart))\n\u001b[0;32m     13\u001b[0m \u001b[38;5;28;01mreturn\u001b[39;00m payment\n",
      "Cell \u001b[1;32mIn[111], line 2\u001b[0m, in \u001b[0;36mtotal\u001b[1;34m(cart)\u001b[0m\n\u001b[0;32m      1\u001b[0m \u001b[38;5;28;01mdef\u001b[39;00m \u001b[38;5;21mtotal\u001b[39m(cart):    \n\u001b[1;32m----> 2\u001b[0m     total_amt \u001b[38;5;241m=\u001b[39m \u001b[38;5;28msum\u001b[39m(cart)\n\u001b[0;32m      3\u001b[0m     \u001b[38;5;28;01mreturn\u001b[39;00m total_amt\n",
      "\u001b[1;31mTypeError\u001b[0m: unsupported operand type(s) for +: 'int' and 'str'"
     ]
    }
   ],
   "source": [
    "order()"
   ]
  },
  {
   "cell_type": "code",
   "execution_count": 5,
   "id": "ae0f7edd",
   "metadata": {},
   "outputs": [
    {
     "name": "stdout",
     "output_type": "stream",
     "text": [
      "Enter your height in cm: 165\n",
      "Your height is 5 feet and 4.960629921259837 inches.\n"
     ]
    }
   ],
   "source": [
    "cm = int(input('Enter your height in cm: '))\n",
    "\n",
    "inches = cm / 2.54\n",
    "ft = inches // 12\n",
    "inches = inches % 12\n",
    "\n",
    "print('Your height is',int(ft),'feet and',inches,'inches.')"
   ]
  },
  {
   "cell_type": "code",
   "execution_count": null,
   "id": "2a04a938",
   "metadata": {},
   "outputs": [],
   "source": []
  }
 ],
 "metadata": {
  "kernelspec": {
   "display_name": "Python 3 (ipykernel)",
   "language": "python",
   "name": "python3"
  },
  "language_info": {
   "codemirror_mode": {
    "name": "ipython",
    "version": 3
   },
   "file_extension": ".py",
   "mimetype": "text/x-python",
   "name": "python",
   "nbconvert_exporter": "python",
   "pygments_lexer": "ipython3",
   "version": "3.11.5"
  }
 },
 "nbformat": 4,
 "nbformat_minor": 5
}
