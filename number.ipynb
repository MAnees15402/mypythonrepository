{
 "cells": [
  {
   "cell_type": "code",
   "execution_count": 1,
   "id": "6d194ea8",
   "metadata": {},
   "outputs": [
    {
     "name": "stdout",
     "output_type": "stream",
     "text": [
      "<class 'int'>\n",
      "<class 'float'>\n",
      "<class 'complex'>\n"
     ]
    }
   ],
   "source": [
    "x = 1\n",
    "y = 2.8\n",
    "z = 2j\n",
    "print(type(x))\n",
    "print(type(y))\n",
    "print(type(z))"
   ]
  },
  {
   "cell_type": "code",
   "execution_count": 2,
   "id": "4a5ccca2",
   "metadata": {},
   "outputs": [
    {
     "name": "stdout",
     "output_type": "stream",
     "text": [
      "1.0\n",
      "2\n",
      "2j\n"
     ]
    }
   ],
   "source": [
    "a = float(x)\n",
    "b =  int(y)\n",
    "c =  complex(z)\n",
    "print(a)\n",
    "print(b)\n",
    "print(c)"
   ]
  },
  {
   "cell_type": "code",
   "execution_count": 3,
   "id": "9583a28a",
   "metadata": {},
   "outputs": [
    {
     "name": "stdout",
     "output_type": "stream",
     "text": [
      "<class 'float'>\n",
      "<class 'int'>\n"
     ]
    }
   ],
   "source": [
    "print(type(a))\n",
    "print(type(b))"
   ]
  },
  {
   "cell_type": "code",
   "execution_count": 6,
   "id": "c7f2dcde",
   "metadata": {},
   "outputs": [
    {
     "name": "stdout",
     "output_type": "stream",
     "text": [
      "14\n"
     ]
    }
   ],
   "source": [
    "a = 'hello pakistan'\n",
    "print(len(a))"
   ]
  },
  {
   "cell_type": "code",
   "execution_count": 7,
   "id": "037057f4",
   "metadata": {},
   "outputs": [
    {
     "ename": "NameError",
     "evalue": "name 'capitalize' is not defined",
     "output_type": "error",
     "traceback": [
      "\u001b[1;31m---------------------------------------------------------------------------\u001b[0m",
      "\u001b[1;31mNameError\u001b[0m                                 Traceback (most recent call last)",
      "Cell \u001b[1;32mIn[7], line 1\u001b[0m\n\u001b[1;32m----> 1\u001b[0m \u001b[38;5;28mprint\u001b[39m(capitalize(a))\n",
      "\u001b[1;31mNameError\u001b[0m: name 'capitalize' is not defined"
     ]
    }
   ],
   "source": [
    "print(capitalize(a))"
   ]
  },
  {
   "cell_type": "code",
   "execution_count": 9,
   "id": "5c8a6715",
   "metadata": {},
   "outputs": [
    {
     "data": {
      "text/plain": [
       "'Hello pakistan'"
      ]
     },
     "execution_count": 9,
     "metadata": {},
     "output_type": "execute_result"
    }
   ],
   "source": [
    "a.capitalize()"
   ]
  },
  {
   "cell_type": "code",
   "execution_count": 10,
   "id": "47836140",
   "metadata": {},
   "outputs": [
    {
     "data": {
      "text/plain": [
       "'HELLO PAKISTAN'"
      ]
     },
     "execution_count": 10,
     "metadata": {},
     "output_type": "execute_result"
    }
   ],
   "source": [
    "a.upper()"
   ]
  },
  {
   "cell_type": "code",
   "execution_count": 1,
   "id": "3334f12e",
   "metadata": {},
   "outputs": [
    {
     "name": "stdout",
     "output_type": "stream",
     "text": [
      "Enter your full name: khan anees khan\n",
      "Initials: K. A. K.\n"
     ]
    }
   ],
   "source": [
    " def get_initials(name):\n",
    "    initials = []\n",
    "    words = name.split()\n",
    "\n",
    "    for word in words:\n",
    "        initials.append(word[0].upper() +    '.')\n",
    "\n",
    "    return ' '.join(initials)\n",
    "\n",
    "# Get user input\n",
    "full_name = input(\"Enter your full name: \")\n",
    "\n",
    "# Get and print the initials\n",
    "initials_result = get_initials(full_name)\n",
    "print(\"Initials:\", initials_result)\n"
   ]
  },
  {
   "cell_type": "code",
   "execution_count": 4,
   "id": "d2e671bd",
   "metadata": {},
   "outputs": [
    {
     "name": "stdout",
     "output_type": "stream",
     "text": [
      "Enter your password: ADFMFSG\n",
      "(False, ' password It must contain at least one lowercase letter.')\n"
     ]
    }
   ],
   "source": [
    "def enter_password(password):\n",
    "    if len(password)>=8:\n",
    "          return False, \"password must be at least eight characters long\"\n",
    "        \n",
    "    if not any(char.isupper() for char in password):\n",
    "            return False,\"password must contain at least one uppercase letter.\"\n",
    "    if not any(char.islower() for char in password):\n",
    "            return False,\" password It must contain at least one lowercase letter.\"\n",
    "    if not any(char.isdigit() for char in password):\n",
    "            return False,\" password It must contain at least one digit.\"\n",
    "        \n",
    "    return True,\"passowrd is valid.\"\n",
    "    \n",
    "user_password =input(\"Enter your password: \")\n",
    "        \n",
    "    \n",
    "masseg = enter_password(user_password)\n",
    "print(masseg)"
   ]
  },
  {
   "cell_type": "code",
   "execution_count": null,
   "id": "ce6aa309",
   "metadata": {},
   "outputs": [],
   "source": [
    "A"
   ]
  }
 ],
 "metadata": {
  "kernelspec": {
   "display_name": "Python 3 (ipykernel)",
   "language": "python",
   "name": "python3"
  },
  "language_info": {
   "codemirror_mode": {
    "name": "ipython",
    "version": 3
   },
   "file_extension": ".py",
   "mimetype": "text/x-python",
   "name": "python",
   "nbconvert_exporter": "python",
   "pygments_lexer": "ipython3",
   "version": "3.11.5"
  }
 },
 "nbformat": 4,
 "nbformat_minor": 5
}
