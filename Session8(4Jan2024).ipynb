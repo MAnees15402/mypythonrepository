{
 "cells": [
  {
   "cell_type": "code",
   "execution_count": 1,
   "id": "bccb291e",
   "metadata": {},
   "outputs": [
    {
     "name": "stdout",
     "output_type": "stream",
     "text": [
      "1\n",
      "4\n",
      "9\n",
      "16\n"
     ]
    }
   ],
   "source": [
    "for value in  [1,2,3,4]:\n",
    "    print(value**2)"
   ]
  },
  {
   "cell_type": "code",
   "execution_count": 3,
   "id": "649ac867",
   "metadata": {},
   "outputs": [
    {
     "name": "stdout",
     "output_type": "stream",
     "text": [
      "Phoopo you are invited in my Valima Reception\n",
      "Choti Khala you are invited in my Valima Reception\n"
     ]
    }
   ],
   "source": [
    "guests = ['Phoopo', 'Choti Khala','Nasir', 'Shaboo', 'Aslam Bhai', 'Nasir']\n",
    "\n",
    "for guest in guests:\n",
    "    if guest =='Nasir':\n",
    "        break\n",
    "    print(f\"{guest} you are invited in my Valima Reception\")"
   ]
  },
  {
   "cell_type": "code",
   "execution_count": 4,
   "id": "de6c6edf",
   "metadata": {},
   "outputs": [
    {
     "name": "stdout",
     "output_type": "stream",
     "text": [
      "Phoopo you are invited in my Valima Reception\n",
      "Choti Khala you are invited in my Valima Reception\n",
      "Shaboo you are invited in my Valima Reception\n",
      "Aslam Bhai you are invited in my Valima Reception\n"
     ]
    }
   ],
   "source": [
    "guests = ['Phoopo', 'Choti Khala','Nasir', 'Shaboo', 'Aslam Bhai', 'Nasir']\n",
    "\n",
    "for guest in guests:\n",
    "    if guest =='Nasir':\n",
    "        continue\n",
    "    print(f\"{guest} you are invited in my Valima Reception\")"
   ]
  },
  {
   "cell_type": "code",
   "execution_count": 6,
   "id": "090e9853",
   "metadata": {},
   "outputs": [
    {
     "name": "stdout",
     "output_type": "stream",
     "text": [
      "[2, 4, 78, 90, 98, 78, 76, 56, 54]\n",
      "[3, 5, 67, 65, 45, 23, 21, 11, 1, 101]\n"
     ]
    }
   ],
   "source": [
    "numbers  = [2,3,4,5,67,65,78,90,98,78,76,56,54,45,23,21,11,1,101] \n",
    "even  =[]\n",
    "odd  = []\n",
    "for num in numbers:\n",
    "    if num%2==0:\n",
    "        even.append(num)\n",
    "    else:\n",
    "        odd.append(num)\n",
    "print(even)\n",
    "print(odd)"
   ]
  },
  {
   "cell_type": "code",
   "execution_count": 8,
   "id": "0f6a1587",
   "metadata": {},
   "outputs": [
    {
     "name": "stdout",
     "output_type": "stream",
     "text": [
      "Ali\n",
      "Ahmed\n",
      "Aslam Bhai\n",
      "Asif\n"
     ]
    }
   ],
   "source": [
    "guests = ['Phoopo','Imran', 'Ali', 'Choti Khala','Nasir','Umer','Shaboo', \n",
    "          'Ahmed','Aslam Bhai', 'Asif', 'Obaid']\n",
    "for guest in guests:\n",
    "    if guest.startswith('A'):\n",
    "        print(guest)"
   ]
  },
  {
   "cell_type": "code",
   "execution_count": 9,
   "id": "6233d991",
   "metadata": {},
   "outputs": [
    {
     "name": "stdout",
     "output_type": "stream",
     "text": [
      "Ali\n",
      "Ahmed\n",
      "Aslam Bhai\n",
      "Asif\n"
     ]
    }
   ],
   "source": [
    "for guest in guests:\n",
    "    if guest[0]==\"A\":\n",
    "        print(guest)     "
   ]
  },
  {
   "cell_type": "code",
   "execution_count": 11,
   "id": "205de35c",
   "metadata": {},
   "outputs": [
    {
     "data": {
      "text/plain": [
       "['Imran', 'Ali', 'Nasir', 'Umer', 'Ahmed', 'Nasir', 'Asif', 'Obaid']"
      ]
     },
     "execution_count": 11,
     "metadata": {},
     "output_type": "execute_result"
    }
   ],
   "source": [
    "final_guests = []\n",
    "for guest in guests:\n",
    "    if len(guest)<=5:\n",
    "        final_guests.append(guest)\n",
    "final_guests"
   ]
  },
  {
   "cell_type": "code",
   "execution_count": 12,
   "id": "93adab0c",
   "metadata": {},
   "outputs": [],
   "source": [
    "# invite all the guest having name less than or equal to 5 character or starts with \"A\""
   ]
  },
  {
   "cell_type": "code",
   "execution_count": 13,
   "id": "368647ec",
   "metadata": {},
   "outputs": [
    {
     "name": "stdout",
     "output_type": "stream",
     "text": [
      "Imran you are invited \n",
      "Ali you are invited \n",
      "Nasir you are invited \n",
      "Umer you are invited \n",
      "Ahmed you are invited \n",
      "Aslam Bhai you are invited \n",
      "Nasir you are invited \n",
      "Asif you are invited \n",
      "Obaid you are invited \n"
     ]
    }
   ],
   "source": [
    "for guest in guests :\n",
    "    if len(guest)<=5:\n",
    "        print(f\"{guest} you are invited \")\n",
    "    elif guest.startswith('A'):\n",
    "        print(f\"{guest} you are invited \")\n",
    "        "
   ]
  },
  {
   "cell_type": "code",
   "execution_count": 14,
   "id": "c373bcd9",
   "metadata": {},
   "outputs": [
    {
     "name": "stdout",
     "output_type": "stream",
     "text": [
      "Ali you are invited \n",
      "Ahmed you are invited \n",
      "Asif you are invited \n"
     ]
    }
   ],
   "source": [
    "for guest in guests :\n",
    "    if len(guest)<=5:\n",
    "        if guest.startswith('A'):\n",
    "            print(f\"{guest} you are invited \")   "
   ]
  },
  {
   "cell_type": "markdown",
   "id": "8c1e1c9b",
   "metadata": {},
   "source": [
    "# Multiple Ifs >>>>>>>>>>> or \n",
    "# Nested ifs >>>>>>>>>>>>>>>> and "
   ]
  },
  {
   "cell_type": "code",
   "execution_count": 15,
   "id": "b2afacf7",
   "metadata": {},
   "outputs": [
    {
     "name": "stdout",
     "output_type": "stream",
     "text": [
      "Imran you are invited \n",
      "Ali you are invited \n",
      "Nasir you are invited \n",
      "Umer you are invited \n",
      "Ahmed you are invited \n",
      "Aslam Bhai you are invited \n",
      "Nasir you are invited \n",
      "Asif you are invited \n",
      "Obaid you are invited \n"
     ]
    }
   ],
   "source": [
    "for guest in guests:\n",
    "    if len(guest)<=5 or guest.startswith('A'):\n",
    "        print(f\"{guest} you are invited \")"
   ]
  },
  {
   "cell_type": "code",
   "execution_count": 16,
   "id": "f9e35970",
   "metadata": {},
   "outputs": [
    {
     "name": "stdout",
     "output_type": "stream",
     "text": [
      "Ali you are invited \n",
      "Ahmed you are invited \n",
      "Asif you are invited \n"
     ]
    }
   ],
   "source": [
    "for guest in guests:\n",
    "    if len(guest)<=5 and guest.startswith('A'):\n",
    "        print(f\"{guest} you are invited \")"
   ]
  },
  {
   "cell_type": "markdown",
   "id": "92018e5a",
   "metadata": {},
   "source": [
    "# Logical Operators\n",
    "    - or , and, not"
   ]
  },
  {
   "cell_type": "code",
   "execution_count": 17,
   "id": "5afd9b83",
   "metadata": {},
   "outputs": [
    {
     "data": {
      "text/plain": [
       "True"
      ]
     },
     "execution_count": 17,
     "metadata": {},
     "output_type": "execute_result"
    }
   ],
   "source": [
    "False or False  or False or False or True"
   ]
  },
  {
   "cell_type": "code",
   "execution_count": 19,
   "id": "b5b769cb",
   "metadata": {},
   "outputs": [
    {
     "data": {
      "text/plain": [
       "True"
      ]
     },
     "execution_count": 19,
     "metadata": {},
     "output_type": "execute_result"
    }
   ],
   "source": [
    "12>20 or 20>40 or 40>100 or 100<200"
   ]
  },
  {
   "cell_type": "code",
   "execution_count": 20,
   "id": "6cac57cf",
   "metadata": {},
   "outputs": [
    {
     "data": {
      "text/plain": [
       "False"
      ]
     },
     "execution_count": 20,
     "metadata": {},
     "output_type": "execute_result"
    }
   ],
   "source": [
    "12<20 and 20<40 and 40<100 and 100>200"
   ]
  },
  {
   "cell_type": "code",
   "execution_count": 21,
   "id": "91ab61bd",
   "metadata": {},
   "outputs": [
    {
     "data": {
      "text/plain": [
       "True"
      ]
     },
     "execution_count": 21,
     "metadata": {},
     "output_type": "execute_result"
    }
   ],
   "source": [
    "bool('Hello')"
   ]
  },
  {
   "cell_type": "code",
   "execution_count": 22,
   "id": "9a948583",
   "metadata": {},
   "outputs": [
    {
     "data": {
      "text/plain": [
       "False"
      ]
     },
     "execution_count": 22,
     "metadata": {},
     "output_type": "execute_result"
    }
   ],
   "source": [
    "bool('')"
   ]
  },
  {
   "cell_type": "code",
   "execution_count": 23,
   "id": "6088b934",
   "metadata": {},
   "outputs": [
    {
     "data": {
      "text/plain": [
       "True"
      ]
     },
     "execution_count": 23,
     "metadata": {},
     "output_type": "execute_result"
    }
   ],
   "source": [
    "bool(3)"
   ]
  },
  {
   "cell_type": "code",
   "execution_count": 24,
   "id": "c04b6194",
   "metadata": {},
   "outputs": [
    {
     "data": {
      "text/plain": [
       "False"
      ]
     },
     "execution_count": 24,
     "metadata": {},
     "output_type": "execute_result"
    }
   ],
   "source": [
    "bool(0)"
   ]
  },
  {
   "cell_type": "code",
   "execution_count": 26,
   "id": "152f649e",
   "metadata": {},
   "outputs": [
    {
     "data": {
      "text/plain": [
       "5"
      ]
     },
     "execution_count": 26,
     "metadata": {},
     "output_type": "execute_result"
    }
   ],
   "source": [
    "5 or 10 or 4 or 56 or 5676"
   ]
  },
  {
   "cell_type": "code",
   "execution_count": 29,
   "id": "30428069",
   "metadata": {},
   "outputs": [
    {
     "data": {
      "text/plain": [
       "False"
      ]
     },
     "execution_count": 29,
     "metadata": {},
     "output_type": "execute_result"
    }
   ],
   "source": [
    "5 and 10 and bool(\"\") and 56768 and 3"
   ]
  },
  {
   "cell_type": "code",
   "execution_count": 30,
   "id": "34cd3d1f",
   "metadata": {},
   "outputs": [
    {
     "data": {
      "text/plain": [
       "True"
      ]
     },
     "execution_count": 30,
     "metadata": {},
     "output_type": "execute_result"
    }
   ],
   "source": [
    "bool(4.5)"
   ]
  },
  {
   "cell_type": "code",
   "execution_count": 31,
   "id": "2d5fa508",
   "metadata": {},
   "outputs": [
    {
     "data": {
      "text/plain": [
       "True"
      ]
     },
     "execution_count": 31,
     "metadata": {},
     "output_type": "execute_result"
    }
   ],
   "source": [
    "bool(-1)"
   ]
  },
  {
   "cell_type": "code",
   "execution_count": null,
   "id": "cc84b225",
   "metadata": {},
   "outputs": [],
   "source": []
  }
 ],
 "metadata": {
  "kernelspec": {
   "display_name": "Python 3 (ipykernel)",
   "language": "python",
   "name": "python3"
  },
  "language_info": {
   "codemirror_mode": {
    "name": "ipython",
    "version": 3
   },
   "file_extension": ".py",
   "mimetype": "text/x-python",
   "name": "python",
   "nbconvert_exporter": "python",
   "pygments_lexer": "ipython3",
   "version": "3.11.5"
  }
 },
 "nbformat": 4,
 "nbformat_minor": 5
}
