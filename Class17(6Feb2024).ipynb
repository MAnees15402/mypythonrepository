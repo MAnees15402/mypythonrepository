{
 "cells": [
  {
   "cell_type": "markdown",
   "id": "8a6f480c",
   "metadata": {},
   "source": [
    "# Passing arbitrary number of arguments in a function"
   ]
  },
  {
   "cell_type": "code",
   "execution_count": 1,
   "id": "4665ba46",
   "metadata": {},
   "outputs": [],
   "source": [
    "def abc():\n",
    "    pass"
   ]
  },
  {
   "cell_type": "code",
   "execution_count": 2,
   "id": "697ef883",
   "metadata": {},
   "outputs": [],
   "source": [
    "def abc(val):\n",
    "    pass"
   ]
  },
  {
   "cell_type": "code",
   "execution_count": 3,
   "id": "b055679c",
   "metadata": {},
   "outputs": [],
   "source": [
    "def abc(v1,v2):\n",
    "    pass"
   ]
  },
  {
   "cell_type": "markdown",
   "id": "2a980253",
   "metadata": {},
   "source": [
    "# operator overloading:"
   ]
  },
  {
   "cell_type": "code",
   "execution_count": 4,
   "id": "019ffc89",
   "metadata": {},
   "outputs": [
    {
     "data": {
      "text/plain": [
       "10"
      ]
     },
     "execution_count": 4,
     "metadata": {},
     "output_type": "execute_result"
    }
   ],
   "source": [
    "4+6"
   ]
  },
  {
   "cell_type": "code",
   "execution_count": 5,
   "id": "7e1989dd",
   "metadata": {},
   "outputs": [
    {
     "data": {
      "text/plain": [
       "'45'"
      ]
     },
     "execution_count": 5,
     "metadata": {},
     "output_type": "execute_result"
    }
   ],
   "source": [
    "\"4\"+\"5\""
   ]
  },
  {
   "cell_type": "code",
   "execution_count": 6,
   "id": "f5cd4de1",
   "metadata": {},
   "outputs": [
    {
     "data": {
      "text/plain": [
       "[2, 4, 5, 7]"
      ]
     },
     "execution_count": 6,
     "metadata": {},
     "output_type": "execute_result"
    }
   ],
   "source": [
    "[2,4]+[5,7]"
   ]
  },
  {
   "cell_type": "code",
   "execution_count": 7,
   "id": "c45e3917",
   "metadata": {},
   "outputs": [],
   "source": [
    "def call():\n",
    "    print(\"Calling someone\")"
   ]
  },
  {
   "cell_type": "code",
   "execution_count": 8,
   "id": "53ca68d4",
   "metadata": {},
   "outputs": [
    {
     "name": "stdout",
     "output_type": "stream",
     "text": [
      "Calling someone\n"
     ]
    }
   ],
   "source": [
    "call()"
   ]
  },
  {
   "cell_type": "code",
   "execution_count": 9,
   "id": "d6e18199",
   "metadata": {},
   "outputs": [],
   "source": [
    "def call(name):\n",
    "    print(\"Calling\", name)"
   ]
  },
  {
   "cell_type": "code",
   "execution_count": 11,
   "id": "ab421799",
   "metadata": {},
   "outputs": [
    {
     "name": "stdout",
     "output_type": "stream",
     "text": [
      "Calling Ali\n"
     ]
    }
   ],
   "source": [
    "call('Ali')"
   ]
  },
  {
   "cell_type": "code",
   "execution_count": 23,
   "id": "3d135ba1",
   "metadata": {},
   "outputs": [],
   "source": [
    "def addnumbers(v1,v2=0,v3=0):\n",
    "    return v1+v2"
   ]
  },
  {
   "cell_type": "code",
   "execution_count": 25,
   "id": "b6a0aa5c",
   "metadata": {},
   "outputs": [
    {
     "data": {
      "text/plain": [
       "3"
      ]
     },
     "execution_count": 25,
     "metadata": {},
     "output_type": "execute_result"
    }
   ],
   "source": [
    "addnumbers(3)"
   ]
  },
  {
   "cell_type": "code",
   "execution_count": 31,
   "id": "06af4502",
   "metadata": {},
   "outputs": [],
   "source": [
    "def addnumbers(*nums):\n",
    "    print(nums)\n",
    "    return \"hello\",\"bye\""
   ]
  },
  {
   "cell_type": "code",
   "execution_count": 32,
   "id": "ed475948",
   "metadata": {},
   "outputs": [
    {
     "name": "stdout",
     "output_type": "stream",
     "text": [
      "(1, 4, 7)\n"
     ]
    },
    {
     "data": {
      "text/plain": [
       "('hello', 'bye')"
      ]
     },
     "execution_count": 32,
     "metadata": {},
     "output_type": "execute_result"
    }
   ],
   "source": [
    "addnumbers(1,4,7)"
   ]
  },
  {
   "cell_type": "code",
   "execution_count": 37,
   "id": "4994572c",
   "metadata": {},
   "outputs": [
    {
     "name": "stdout",
     "output_type": "stream",
     "text": [
      "('a', 1)\n",
      "('b', 2)\n"
     ]
    }
   ],
   "source": [
    "for a in {'a':1,\"b\":2}.items():\n",
    "    print(a)"
   ]
  },
  {
   "cell_type": "code",
   "execution_count": 38,
   "id": "923f6db6",
   "metadata": {},
   "outputs": [],
   "source": [
    "def addnums(*values):\n",
    "    return sum(values)"
   ]
  },
  {
   "cell_type": "code",
   "execution_count": 40,
   "id": "40f95e6b",
   "metadata": {},
   "outputs": [
    {
     "data": {
      "text/plain": [
       "55"
      ]
     },
     "execution_count": 40,
     "metadata": {},
     "output_type": "execute_result"
    }
   ],
   "source": [
    "addnums(1,2,3,4,5,6,7,8,9,10)"
   ]
  },
  {
   "cell_type": "code",
   "execution_count": 42,
   "id": "b78a21f2",
   "metadata": {},
   "outputs": [],
   "source": [
    "def send_msg(*members):\n",
    "    for mem in members:\n",
    "        print(\"Hi\", mem)\n",
    "    "
   ]
  },
  {
   "cell_type": "code",
   "execution_count": 43,
   "id": "2c1e57cf",
   "metadata": {},
   "outputs": [
    {
     "name": "stdout",
     "output_type": "stream",
     "text": [
      "Hi ali\n",
      "Hi ahmed\n",
      "Hi faisal\n",
      "Hi kashif\n",
      "Hi faizan\n",
      "Hi yasir\n"
     ]
    }
   ],
   "source": [
    "send_msg('ali','ahmed','faisal','kashif','faizan','yasir')"
   ]
  },
  {
   "cell_type": "code",
   "execution_count": 47,
   "id": "030e48ff",
   "metadata": {},
   "outputs": [
    {
     "name": "stdout",
     "output_type": "stream",
     "text": [
      "Enter the topping or q to quitmushrrom\n",
      "mushrrom not available\n",
      "Enter the topping or q to quitmushroom\n",
      "Enter the topping or q to quitolives\n",
      "Enter the topping or q to quitonion\n",
      "onion not available\n",
      "Enter the topping or q to quitcheese\n",
      "Enter the topping or q to quitranch sauce\n",
      "Enter the topping or q to quitq\n",
      "Your pizza is ready with toppings:\n",
      "- mushroom\n",
      "- olives\n",
      "- cheese\n",
      "- ranch sauce\n"
     ]
    }
   ],
   "source": [
    "available_toppings =['mushroom','cheese', 'extracheese','chili','ranch sauce',\"green peppers\", 'olives']\n",
    "def make_pizza(toppings):\n",
    "    print(\"Your pizza is ready with toppings:\")\n",
    "    for top in toppings:\n",
    "        print(f\"- {top}\") \n",
    "\n",
    "ordered_toppings=[]\n",
    "while True:\n",
    "    topping = input(\"Enter the topping or q to quit\")\n",
    "    if topping == 'q':\n",
    "        break\n",
    "    elif topping in available_toppings:\n",
    "        ordered_toppings.append(topping)\n",
    "    else:\n",
    "        print(f\"{topping} not available\")\n",
    "make_pizza(ordered_toppings)    "
   ]
  },
  {
   "cell_type": "code",
   "execution_count": 49,
   "id": "c5248f5a",
   "metadata": {},
   "outputs": [],
   "source": [
    "def make_pizza():\n",
    "    print(\"Your pizza is ready\")"
   ]
  },
  {
   "cell_type": "code",
   "execution_count": 50,
   "id": "622134c6",
   "metadata": {},
   "outputs": [
    {
     "name": "stdout",
     "output_type": "stream",
     "text": [
      "Your pizza is ready\n"
     ]
    }
   ],
   "source": [
    "make_pizza()"
   ]
  },
  {
   "cell_type": "code",
   "execution_count": 51,
   "id": "2bc520c0",
   "metadata": {},
   "outputs": [],
   "source": [
    "def make_pizza(t1,t2,t3):\n",
    "    print('Your pizza is ready')\n",
    "    print(f\"Toppings are: {t1},{t2},{t3}\")"
   ]
  },
  {
   "cell_type": "code",
   "execution_count": 52,
   "id": "7f80aaed",
   "metadata": {},
   "outputs": [
    {
     "name": "stdout",
     "output_type": "stream",
     "text": [
      "Your pizza is ready\n",
      "Toppings are: mushroom,olives,cheese\n"
     ]
    }
   ],
   "source": [
    "make_pizza('mushroom','olives','cheese')"
   ]
  },
  {
   "cell_type": "code",
   "execution_count": 53,
   "id": "defe5b3a",
   "metadata": {},
   "outputs": [
    {
     "ename": "TypeError",
     "evalue": "make_pizza() missing 1 required positional argument: 't3'",
     "output_type": "error",
     "traceback": [
      "\u001b[1;31m---------------------------------------------------------------------------\u001b[0m",
      "\u001b[1;31mTypeError\u001b[0m                                 Traceback (most recent call last)",
      "Cell \u001b[1;32mIn[53], line 1\u001b[0m\n\u001b[1;32m----> 1\u001b[0m make_pizza(\u001b[38;5;124m'\u001b[39m\u001b[38;5;124mmushroom\u001b[39m\u001b[38;5;124m'\u001b[39m,\u001b[38;5;124m'\u001b[39m\u001b[38;5;124molives\u001b[39m\u001b[38;5;124m'\u001b[39m)\n",
      "\u001b[1;31mTypeError\u001b[0m: make_pizza() missing 1 required positional argument: 't3'"
     ]
    }
   ],
   "source": [
    "make_pizza('mushroom','olives')"
   ]
  },
  {
   "cell_type": "code",
   "execution_count": 54,
   "id": "fff5ef89",
   "metadata": {},
   "outputs": [],
   "source": [
    "def make_pizza(*toppings):\n",
    "    print('Your pizza is ready')\n",
    "    print(f\"Toppings are: {toppings}\")"
   ]
  },
  {
   "cell_type": "code",
   "execution_count": 55,
   "id": "dbd3591f",
   "metadata": {},
   "outputs": [
    {
     "name": "stdout",
     "output_type": "stream",
     "text": [
      "Your pizza is ready\n",
      "Toppings are: ('mushroom', 'olives', 'cheese')\n",
      "Your pizza is ready\n",
      "Toppings are: ('mushroom', 'olives')\n",
      "Your pizza is ready\n",
      "Toppings are: ('mushroom', 'olives', 'green chiilies', 'ranch sauce')\n"
     ]
    }
   ],
   "source": [
    "make_pizza('mushroom','olives','cheese')\n",
    "make_pizza('mushroom','olives')\n",
    "make_pizza('mushroom','olives', 'green chiilies', 'ranch sauce')"
   ]
  },
  {
   "cell_type": "code",
   "execution_count": 61,
   "id": "6f6f68be",
   "metadata": {},
   "outputs": [
    {
     "name": "stdout",
     "output_type": "stream",
     "text": [
      "Enter topping or q to quitd\n",
      "Topping not avialable or already added\n",
      "Enter topping or q to quitd\n",
      "Topping not avialable or already added\n",
      "Enter topping or q to quitd\n",
      "Topping not avialable or already added\n",
      "Enter topping or q to quitdq\n",
      "Topping not avialable or already added\n",
      "Enter topping or q to quitq\n",
      "Your pizza is ready with toppings\n"
     ]
    }
   ],
   "source": [
    "available_toppings =['mushroom','cheese', 'extracheese','chili','ranch sauce',\"green peppers\", 'olives']\n",
    "\n",
    "def make_pizza(toppings):\n",
    "    \n",
    "    print('Your pizza is ready with toppings')\n",
    "    for t in toppings:\n",
    "        print(f\"- {t}\")\n",
    "\n",
    "ordered_toppings=[]       \n",
    "while True:\n",
    "    topping = input(\"Enter topping or q to quit\")\n",
    "    if topping==\"q\":\n",
    "        break\n",
    "    elif (topping in available_toppings) and (topping not in ordered_toppings):\n",
    "        ordered_toppings.append(topping)\n",
    "    else:\n",
    "        print(\"Topping not avialable or already added\")\n",
    "make_pizza(ordered_toppings)      "
   ]
  },
  {
   "cell_type": "markdown",
   "id": "ef2dcc51",
   "metadata": {},
   "source": [
    "# Using Arbitrary Keyword Arguments"
   ]
  },
  {
   "cell_type": "code",
   "execution_count": 75,
   "id": "0fb13d66",
   "metadata": {},
   "outputs": [],
   "source": [
    "def build_profile(first, last, **user_info):\n",
    "    profile = {}\n",
    "    profile['first_name'] = first\n",
    "    profile['last_name'] = last\n",
    "    \n",
    "    for key, value in user_info.items():\n",
    "        profile[key] = value\n",
    "    return profile"
   ]
  },
  {
   "cell_type": "code",
   "execution_count": 76,
   "id": "41afd152",
   "metadata": {},
   "outputs": [],
   "source": [
    "user_profile = build_profile('albert', 'einstein',location='princeton',field='physics')"
   ]
  },
  {
   "cell_type": "code",
   "execution_count": 77,
   "id": "26fadb42",
   "metadata": {},
   "outputs": [
    {
     "name": "stdout",
     "output_type": "stream",
     "text": [
      "{'first_name': 'albert', 'last_name': 'einstein', 'location': 'princeton', 'field': 'physics'}\n"
     ]
    }
   ],
   "source": [
    "print(user_profile)"
   ]
  },
  {
   "cell_type": "code",
   "execution_count": 78,
   "id": "6c5f823b",
   "metadata": {},
   "outputs": [],
   "source": [
    "einstein = {'first_name': 'albert', 'last_name': 'einstein', 'location': 'princeton', 'field': 'physics'}"
   ]
  },
  {
   "cell_type": "code",
   "execution_count": 79,
   "id": "06f76ef2",
   "metadata": {},
   "outputs": [
    {
     "data": {
      "text/plain": [
       "dict"
      ]
     },
     "execution_count": 79,
     "metadata": {},
     "output_type": "execute_result"
    }
   ],
   "source": [
    "type(einstein)"
   ]
  },
  {
   "cell_type": "code",
   "execution_count": 80,
   "id": "c79bbd44",
   "metadata": {},
   "outputs": [
    {
     "name": "stdout",
     "output_type": "stream",
     "text": [
      "first_name\n",
      "last_name\n",
      "location\n",
      "field\n"
     ]
    }
   ],
   "source": [
    "for a in einstein:\n",
    "    print(a)"
   ]
  },
  {
   "cell_type": "code",
   "execution_count": 81,
   "id": "7f3242a4",
   "metadata": {},
   "outputs": [
    {
     "name": "stdout",
     "output_type": "stream",
     "text": [
      "first_name\n",
      "last_name\n",
      "location\n",
      "field\n"
     ]
    }
   ],
   "source": [
    "for a in einstein.keys():\n",
    "    print(a)"
   ]
  },
  {
   "cell_type": "code",
   "execution_count": 82,
   "id": "0eab321b",
   "metadata": {},
   "outputs": [
    {
     "name": "stdout",
     "output_type": "stream",
     "text": [
      "albert\n",
      "einstein\n",
      "princeton\n",
      "physics\n"
     ]
    }
   ],
   "source": [
    "for a in einstein.values():\n",
    "    print(a)"
   ]
  },
  {
   "cell_type": "code",
   "execution_count": 83,
   "id": "48c75be2",
   "metadata": {},
   "outputs": [
    {
     "name": "stdout",
     "output_type": "stream",
     "text": [
      "('first_name', 'albert')\n",
      "('last_name', 'einstein')\n",
      "('location', 'princeton')\n",
      "('field', 'physics')\n"
     ]
    }
   ],
   "source": [
    "for a in einstein.items():\n",
    "    print(a)"
   ]
  },
  {
   "cell_type": "code",
   "execution_count": 87,
   "id": "c1d19c37",
   "metadata": {},
   "outputs": [
    {
     "name": "stdout",
     "output_type": "stream",
     "text": [
      "first_name\n",
      "albert\n",
      "last_name\n",
      "einstein\n",
      "location\n",
      "princeton\n",
      "field\n",
      "physics\n"
     ]
    }
   ],
   "source": [
    "for a,b in einstein.items():\n",
    "    print(a)\n",
    "    print(b)"
   ]
  },
  {
   "cell_type": "code",
   "execution_count": 88,
   "id": "cf1ec573",
   "metadata": {},
   "outputs": [],
   "source": [
    "a = (12,24)"
   ]
  },
  {
   "cell_type": "code",
   "execution_count": 89,
   "id": "3234aa84",
   "metadata": {},
   "outputs": [
    {
     "data": {
      "text/plain": [
       "(12, 24)"
      ]
     },
     "execution_count": 89,
     "metadata": {},
     "output_type": "execute_result"
    }
   ],
   "source": [
    "a"
   ]
  },
  {
   "cell_type": "code",
   "execution_count": 90,
   "id": "7194125d",
   "metadata": {},
   "outputs": [],
   "source": [
    "anday,samaosy = a"
   ]
  },
  {
   "cell_type": "code",
   "execution_count": 91,
   "id": "3c2be053",
   "metadata": {},
   "outputs": [
    {
     "data": {
      "text/plain": [
       "12"
      ]
     },
     "execution_count": 91,
     "metadata": {},
     "output_type": "execute_result"
    }
   ],
   "source": [
    "anday"
   ]
  },
  {
   "cell_type": "code",
   "execution_count": 92,
   "id": "a4a8f797",
   "metadata": {},
   "outputs": [
    {
     "data": {
      "text/plain": [
       "24"
      ]
     },
     "execution_count": 92,
     "metadata": {},
     "output_type": "execute_result"
    }
   ],
   "source": [
    "samaosy"
   ]
  },
  {
   "cell_type": "code",
   "execution_count": null,
   "id": "e441758d",
   "metadata": {},
   "outputs": [],
   "source": [
    "for ()"
   ]
  }
 ],
 "metadata": {
  "kernelspec": {
   "display_name": "Python 3 (ipykernel)",
   "language": "python",
   "name": "python3"
  },
  "language_info": {
   "codemirror_mode": {
    "name": "ipython",
    "version": 3
   },
   "file_extension": ".py",
   "mimetype": "text/x-python",
   "name": "python",
   "nbconvert_exporter": "python",
   "pygments_lexer": "ipython3",
   "version": "3.11.5"
  }
 },
 "nbformat": 4,
 "nbformat_minor": 5
}
