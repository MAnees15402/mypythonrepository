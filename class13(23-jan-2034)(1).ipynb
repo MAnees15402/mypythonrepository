{
 "cells": [
  {
   "cell_type": "markdown",
   "id": "d4d64b66",
   "metadata": {},
   "source": [
    "# Write a program that asks the user for a positive integer value. The program should calculate the sum of all the integers from 1 up to the number entered. For example, if the user enters 20, the loop will find the sum of 1, 2, 3, 4, ... 20. \n"
   ]
  },
  {
   "cell_type": "code",
   "execution_count": 1,
   "id": "cb2a099b",
   "metadata": {},
   "outputs": [
    {
     "name": "stdout",
     "output_type": "stream",
     "text": [
      "Enter a positive integer value: h\n"
     ]
    },
    {
     "ename": "ValueError",
     "evalue": "invalid literal for int() with base 10: 'h'",
     "output_type": "error",
     "traceback": [
      "\u001b[1;31m---------------------------------------------------------------------------\u001b[0m",
      "\u001b[1;31mValueError\u001b[0m                                Traceback (most recent call last)",
      "Cell \u001b[1;32mIn[1], line 1\u001b[0m\n\u001b[1;32m----> 1\u001b[0m num \u001b[38;5;241m=\u001b[39m \u001b[38;5;28mint\u001b[39m(\u001b[38;5;28minput\u001b[39m(\u001b[38;5;124m'\u001b[39m\u001b[38;5;124mEnter a positive integer value: \u001b[39m\u001b[38;5;124m'\u001b[39m))\n\u001b[0;32m      2\u001b[0m add \u001b[38;5;241m=\u001b[39m \u001b[38;5;241m0\u001b[39m\n\u001b[0;32m      3\u001b[0m \u001b[38;5;28;01mfor\u001b[39;00m i \u001b[38;5;129;01min\u001b[39;00m \u001b[38;5;28mrange\u001b[39m(\u001b[38;5;241m1\u001b[39m,num\u001b[38;5;241m+\u001b[39m\u001b[38;5;241m1\u001b[39m):\n",
      "\u001b[1;31mValueError\u001b[0m: invalid literal for int() with base 10: 'h'"
     ]
    }
   ],
   "source": [
    "num = int(input('Enter a positive integer value: '))\n",
    "add = 0\n",
    "for i in range(1,num+1):\n",
    "    print(i)\n",
    "    add+=i\n",
    "print(add)"
   ]
  },
  {
   "cell_type": "markdown",
   "id": "aae81d11",
   "metadata": {},
   "source": [
    "## write a program that takes a positive integer N as input and calculates the sum of the reciprocals of all numbers from 1 up to N. The program should display the final sum. Output of the program should be like:Enter a positive integer: 5 The sum of reciprocals from 1 to 5 is: 2.28 "
   ]
  },
  {
   "cell_type": "code",
   "execution_count": null,
   "id": "51286256",
   "metadata": {},
   "outputs": [],
   "source": [
    "num = int(input('Enter a positive integer value: '))\n",
    "add = 0\n",
    "for i in range(1,num+1):\n",
    "    print(i)\n",
    "    add+=1/i\n",
    "print(add)"
   ]
  },
  {
   "cell_type": "markdown",
   "id": "2b4e6d43",
   "metadata": {},
   "source": [
    "input = 4\n",
    "output = 1*2*3*4=24"
   ]
  },
  {
   "cell_type": "code",
   "execution_count": null,
   "id": "76a50204",
   "metadata": {},
   "outputs": [],
   "source": [
    "num = int(input('Enter a positive integer value: '))\n",
    "add = 1\n",
    "for i in range(1,num+1):\n",
    "    print(i)\n",
    "    add*=i\n",
    "print(add)"
   ]
  },
  {
   "cell_type": "markdown",
   "id": "7f49676f",
   "metadata": {},
   "source": [
    "## Write a program that input a string and ask user to delete a given word from a string. \n"
   ]
  },
  {
   "cell_type": "code",
   "execution_count": null,
   "id": "d93bfd43",
   "metadata": {},
   "outputs": [],
   "source": [
    "input = 'i am ali khan '\n",
    "input = 'ali'\n",
    "\n",
    "out = 'i am khan'"
   ]
  },
  {
   "cell_type": "code",
   "execution_count": null,
   "id": "1c9a8fb0",
   "metadata": {},
   "outputs": [],
   "source": [
    "string = input('Enter the string')\n",
    "delete = input('Enter the word you want to delete')\n",
    "string.replace(delete, '')"
   ]
  },
  {
   "cell_type": "code",
   "execution_count": null,
   "id": "2b0a19f4",
   "metadata": {},
   "outputs": [],
   "source": [
    "string = input('Enter the string')\n",
    "delete = input('Enter the word you want to delete')"
   ]
  },
  {
   "cell_type": "code",
   "execution_count": null,
   "id": "75e9c6bc",
   "metadata": {},
   "outputs": [],
   "source": [
    "lst = string.split(' ')\n",
    "lst.remove(delete)"
   ]
  },
  {
   "cell_type": "code",
   "execution_count": null,
   "id": "457edb3d",
   "metadata": {},
   "outputs": [],
   "source": [
    "final_output = ' '.join(lst)"
   ]
  },
  {
   "cell_type": "code",
   "execution_count": null,
   "id": "2df81255",
   "metadata": {},
   "outputs": [],
   "source": [
    "final_output"
   ]
  },
  {
   "cell_type": "code",
   "execution_count": null,
   "id": "6d20b954",
   "metadata": {},
   "outputs": [],
   "source": [
    "string = input('Enter the string')\n",
    "delete = input('Enter the word you want to delete')\n",
    "\n",
    "lst = string.split(' ')\n",
    "lst.remove(delete)\n",
    "\n",
    "final_output = ' '.join(lst)\n",
    "print(final_output)"
   ]
  },
  {
   "cell_type": "markdown",
   "id": "08ec3e43",
   "metadata": {},
   "source": [
    "# More on functions!!!!!1"
   ]
  },
  {
   "cell_type": "code",
   "execution_count": null,
   "id": "56a3b301",
   "metadata": {},
   "outputs": [],
   "source": [
    "def send_email(members):\n",
    "    for member in members:\n",
    "        print(f'''Dear Member {member}, We regret to inform you that your membership has expired.\n",
    "          Please get your renewal''')    "
   ]
  },
  {
   "cell_type": "code",
   "execution_count": null,
   "id": "393925c6",
   "metadata": {},
   "outputs": [],
   "source": [
    "members = ['Ali','Junaid', 'Fasih','Ahmed','Kashif']\n",
    "send_email(members)"
   ]
  },
  {
   "cell_type": "code",
   "execution_count": null,
   "id": "71f3a42f",
   "metadata": {},
   "outputs": [],
   "source": [
    "def total(cart):\n",
    "    total_amt = sum(cart.values())\n",
    "    return total_amt\n",
    "    # its a local variable"
   ]
  },
  {
   "cell_type": "code",
   "execution_count": null,
   "id": "82ff12ef",
   "metadata": {},
   "outputs": [],
   "source": [
    "cart ={'anday':400, 'bread':100, 'butter':200,\n",
    "      'Milk':200,'Pappay':130,'Jam':300}"
   ]
  },
  {
   "cell_type": "code",
   "execution_count": null,
   "id": "df282e57",
   "metadata": {},
   "outputs": [],
   "source": [
    "amt = total(cart)"
   ]
  },
  {
   "cell_type": "code",
   "execution_count": null,
   "id": "03d35956",
   "metadata": {},
   "outputs": [],
   "source": [
    "amt"
   ]
  },
  {
   "cell_type": "code",
   "execution_count": null,
   "id": "fb8a8d50",
   "metadata": {},
   "outputs": [],
   "source": [
    "def tax_calc(amt):\n",
    "    tax = 0\n",
    "    if amt >10000:\n",
    "        tax = amt*.10\n",
    "    elif amt>5000:\n",
    "        tax = amt*.05\n",
    "    elif amt >1000:\n",
    "        tax = amt*.02\n",
    "    else:\n",
    "        tax = amt*0  \n",
    "    return tax\n",
    "    "
   ]
  },
  {
   "cell_type": "code",
   "execution_count": null,
   "id": "11ef93f1",
   "metadata": {},
   "outputs": [],
   "source": [
    "calculated_tax = tax_calc(amt)"
   ]
  },
  {
   "cell_type": "code",
   "execution_count": null,
   "id": "5ec025f9",
   "metadata": {},
   "outputs": [],
   "source": [
    "amt +calculated_tax"
   ]
  },
  {
   "cell_type": "code",
   "execution_count": null,
   "id": "f8d3a085",
   "metadata": {},
   "outputs": [],
   "source": [
    "count=0\n",
    "print(count)\n",
    "def hello():\n",
    "    count=0\n",
    "    count+=1\n",
    "    print(count)   "
   ]
  },
  {
   "cell_type": "code",
   "execution_count": null,
   "id": "edc4f092",
   "metadata": {},
   "outputs": [],
   "source": [
    "hello()"
   ]
  },
  {
   "cell_type": "code",
   "execution_count": 62,
   "id": "18d94df9",
   "metadata": {},
   "outputs": [],
   "source": [
    "shop ={'Anday':400, 'Bread':100, 'Butter':200,\n",
    "      'Milk':200,'Pappay':130,'Jam':300, 'Yougurt':80,\n",
    "       'cheeze':500, 'Bicuits':200, 'Water':50,'Patti':500,\n",
    "       'Sugar':160}"
   ]
  },
  {
   "cell_type": "code",
   "execution_count": 69,
   "id": "82617116",
   "metadata": {},
   "outputs": [],
   "source": [
    "def total(cart):     \n",
    "    total_amt = 0\n",
    "    for a in cart:        \n",
    "        total_amt +=shop[a]    \n",
    "    return total_amt\n",
    "    # its a local variable"
   ]
  },
  {
   "cell_type": "code",
   "execution_count": 70,
   "id": "91431af3",
   "metadata": {},
   "outputs": [],
   "source": [
    "def tax_calc(amt):\n",
    "    tax = 0\n",
    "    if amt >10000:\n",
    "        tax = amt*.10\n",
    "    elif amt>5000:\n",
    "        tax = amt*.05\n",
    "    elif amt >1000:\n",
    "        tax = amt*.02\n",
    "    else:\n",
    "        tax = amt*0    \n",
    "    return tax "
   ]
  },
  {
   "cell_type": "code",
   "execution_count": 71,
   "id": "9096c6f8",
   "metadata": {},
   "outputs": [],
   "source": [
    "def discount_calc(bill):\n",
    "    discount = 0 \n",
    "    if bill > 10000:\n",
    "        discount =bill*.10\n",
    "    elif bill >5000:\n",
    "        discount = bill*0.05\n",
    "    else:\n",
    "        discount = 0    \n",
    "    return discount"
   ]
  },
  {
   "cell_type": "code",
   "execution_count": 73,
   "id": "d6873302",
   "metadata": {},
   "outputs": [],
   "source": [
    "def order():\n",
    "    cart = []\n",
    "    while True:\n",
    "        item = input(\"Enter the item q for quit\")\n",
    "        \n",
    "        if item!='q':\n",
    "            if item in shop.keys():\n",
    "                cart.append(item)\n",
    "            else:\n",
    "                print(f'Sorry we dont have {item}')\n",
    "        else:\n",
    "            break\n",
    "    total_amt = total(cart)\n",
    "            \n",
    "    payment = total_amt+ tax_calc(total_amt) - discount_calc(total_amt)\n",
    "    \n",
    "                 #1510            30.20      - 0       \n",
    "    return payment"
   ]
  },
  {
   "cell_type": "code",
   "execution_count": 74,
   "id": "ae0f7edd",
   "metadata": {},
   "outputs": [
    {
     "name": "stdout",
     "output_type": "stream",
     "text": [
      "Enter the item q for quitWater\n",
      "Enter the item q for quitMilk\n",
      "Enter the item q for quitSugar\n",
      "Enter the item q for quitJam\n",
      "Enter the item q for quitAnday\n",
      "Enter the item q for quitAnday\n",
      "Enter the item q for quitq\n",
      "Total payable: 1540.2\n"
     ]
    }
   ],
   "source": [
    "print(f'Total payable: {order()}')"
   ]
  },
  {
   "cell_type": "code",
   "execution_count": 106,
   "id": "f1a13d05",
   "metadata": {},
   "outputs": [],
   "source": [
    "employees = {\n",
    "            11018:{'name':'nasir','dept':'sales','salary':100000,\"loan\":500000, }\n",
    "            ,11019:{'name':'umer','dept':'sales','salary':200000,\"loan\":300000,}\n",
    "            ,11020:{'name':'ali','dept':'sales','salary':150000,\"loan\":200000 }\n",
    "            }"
   ]
  },
  {
   "cell_type": "code",
   "execution_count": 107,
   "id": "c8db32e3",
   "metadata": {},
   "outputs": [
    {
     "data": {
      "text/plain": [
       "{'name': 'nasir', 'dept': 'sales', 'salary': 100000, 'loan': 500000}"
      ]
     },
     "execution_count": 107,
     "metadata": {},
     "output_type": "execute_result"
    }
   ],
   "source": [
    "employees[11018]"
   ]
  },
  {
   "cell_type": "code",
   "execution_count": 108,
   "id": "f8b502c8",
   "metadata": {},
   "outputs": [
    {
     "data": {
      "text/plain": [
       "{'name': 'umer', 'dept': 'sales', 'salary': 200000, 'loan': 300000}"
      ]
     },
     "execution_count": 108,
     "metadata": {},
     "output_type": "execute_result"
    }
   ],
   "source": [
    "employees[11019]"
   ]
  },
  {
   "cell_type": "code",
   "execution_count": 109,
   "id": "f932a841",
   "metadata": {},
   "outputs": [],
   "source": [
    "def deductions(key):\n",
    "    deductions = employees[key]['loan']*0.02\n",
    "    employees[key]['loan'] -=deductions\n",
    "    return deductions"
   ]
  },
  {
   "cell_type": "code",
   "execution_count": 110,
   "id": "7d51c74f",
   "metadata": {},
   "outputs": [],
   "source": [
    "def commission_calc():\n",
    "    amt = int(input('Please enter sale amount'))\n",
    "    commission = 0\n",
    "    if amt>=500000:\n",
    "        commission= amt*.10\n",
    "    elif amt>=250000:\n",
    "        commission = amt*.05\n",
    "    elif amt>=100000:\n",
    "        commission = amt*.02\n",
    "    else:\n",
    "        commission = amt*.01\n",
    "    return commission\n",
    "    "
   ]
  },
  {
   "cell_type": "code",
   "execution_count": 111,
   "id": "cf541033",
   "metadata": {},
   "outputs": [],
   "source": [
    "def print_salary_slip():\n",
    "    for key in employees:\n",
    "        deduction = deductions(key)\n",
    "        commission = commission_calc()\n",
    "        print(f'''\n",
    "                SMIT Salary Slip\n",
    "                ================\n",
    "        EmpID:       {key}\n",
    "        Emp Name:    {employees[key]['name']}\n",
    "        Basic Salary:{employees[key]['salary']}\n",
    "        Deductions:  {deduction}\n",
    "        Incentives:  {commission}\n",
    "        Net Salary : {employees[key]['salary']-deduction+commission}\n",
    "        \n",
    "        Moj Karo   \n",
    "        \n",
    "      =================================================================\n",
    "        \n",
    "        \n",
    "        \n",
    "        ''')"
   ]
  },
  {
   "cell_type": "code",
   "execution_count": 112,
   "id": "49a4afe1",
   "metadata": {},
   "outputs": [
    {
     "name": "stdout",
     "output_type": "stream",
     "text": [
      "Please enter sale amount600000\n",
      "\n",
      "                SMIT Salary Slip\n",
      "                ================\n",
      "        EmpID:       11018\n",
      "        Emp Name:    nasir\n",
      "        Basic Salary:100000\n",
      "        Deductions:  10000.0\n",
      "        Incentives:  60000.0\n",
      "        Net Salary : 150000.0\n",
      "        \n",
      "        Moj Karo   \n",
      "        \n",
      "      =================================================================\n",
      "        \n",
      "        \n",
      "        \n",
      "        \n",
      "Please enter sale amount50000\n",
      "\n",
      "                SMIT Salary Slip\n",
      "                ================\n",
      "        EmpID:       11019\n",
      "        Emp Name:    umer\n",
      "        Basic Salary:200000\n",
      "        Deductions:  6000.0\n",
      "        Incentives:  500.0\n",
      "        Net Salary : 194500.0\n",
      "        \n",
      "        Moj Karo   \n",
      "        \n",
      "      =================================================================\n",
      "        \n",
      "        \n",
      "        \n",
      "        \n",
      "Please enter sale amount150000\n",
      "\n",
      "                SMIT Salary Slip\n",
      "                ================\n",
      "        EmpID:       11020\n",
      "        Emp Name:    ali\n",
      "        Basic Salary:150000\n",
      "        Deductions:  4000.0\n",
      "        Incentives:  3000.0\n",
      "        Net Salary : 149000.0\n",
      "        \n",
      "        Moj Karo   \n",
      "        \n",
      "      =================================================================\n",
      "        \n",
      "        \n",
      "        \n",
      "        \n"
     ]
    }
   ],
   "source": [
    "print_salary_slip()"
   ]
  },
  {
   "cell_type": "code",
   "execution_count": 113,
   "id": "5a1be0ed",
   "metadata": {},
   "outputs": [
    {
     "data": {
      "text/plain": [
       "{11018: {'name': 'nasir', 'dept': 'sales', 'salary': 100000, 'loan': 490000.0},\n",
       " 11019: {'name': 'umer', 'dept': 'sales', 'salary': 200000, 'loan': 294000.0},\n",
       " 11020: {'name': 'ali', 'dept': 'sales', 'salary': 150000, 'loan': 196000.0}}"
      ]
     },
     "execution_count": 113,
     "metadata": {},
     "output_type": "execute_result"
    }
   ],
   "source": [
    "employees"
   ]
  },
  {
   "cell_type": "code",
   "execution_count": null,
   "id": "eebae670",
   "metadata": {},
   "outputs": [],
   "source": []
  }
 ],
 "metadata": {
  "kernelspec": {
   "display_name": "Python 3 (ipykernel)",
   "language": "python",
   "name": "python3"
  },
  "language_info": {
   "codemirror_mode": {
    "name": "ipython",
    "version": 3
   },
   "file_extension": ".py",
   "mimetype": "text/x-python",
   "name": "python",
   "nbconvert_exporter": "python",
   "pygments_lexer": "ipython3",
   "version": "3.11.5"
  }
 },
 "nbformat": 4,
 "nbformat_minor": 5
}
