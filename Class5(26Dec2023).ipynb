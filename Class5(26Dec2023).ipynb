{
 "cells": [
  {
   "cell_type": "markdown",
   "id": "90c4960a",
   "metadata": {},
   "source": [
    "# Fomatting"
   ]
  },
  {
   "cell_type": "code",
   "execution_count": 1,
   "id": "99de57e4",
   "metadata": {},
   "outputs": [],
   "source": [
    "country  = \"Pakistan\"\n",
    "population = \"250,000,000\""
   ]
  },
  {
   "cell_type": "raw",
   "id": "7c4b4fcc",
   "metadata": {},
   "source": [
    "Pakistan is one of the largest country in Aisa, with population almost over 250,000,00"
   ]
  },
  {
   "cell_type": "raw",
   "id": "3015972b",
   "metadata": {},
   "source": [
    "__________ + is one of the largest country in Aisa, with population almost over _______________."
   ]
  },
  {
   "cell_type": "code",
   "execution_count": 3,
   "id": "25c05d3b",
   "metadata": {},
   "outputs": [
    {
     "data": {
      "text/plain": [
       "'Pakistan is one of the largest country in Aisa, with population almost over 250,000,000'"
      ]
     },
     "execution_count": 3,
     "metadata": {},
     "output_type": "execute_result"
    }
   ],
   "source": [
    "country + \" is one of the largest country in Aisa, with population almost over \" + population"
   ]
  },
  {
   "cell_type": "code",
   "execution_count": 5,
   "id": "e5a050a8",
   "metadata": {
    "scrolled": true
   },
   "outputs": [
    {
     "data": {
      "text/plain": [
       "'{country} is one of the largest country in Aisa, with population almost over {population}'"
      ]
     },
     "execution_count": 5,
     "metadata": {},
     "output_type": "execute_result"
    }
   ],
   "source": [
    "\"{country} is one of the largest country in Aisa, with population almost over {population}\""
   ]
  },
  {
   "cell_type": "code",
   "execution_count": 7,
   "id": "4aa8a950",
   "metadata": {},
   "outputs": [
    {
     "data": {
      "text/plain": [
       "'Pakistan is one of the largest country in Aisa, with population almost over 250,000,000'"
      ]
     },
     "execution_count": 7,
     "metadata": {},
     "output_type": "execute_result"
    }
   ],
   "source": [
    "f\"{country} is one of the largest country in Aisa, with population almost over {population}\""
   ]
  },
  {
   "cell_type": "code",
   "execution_count": 8,
   "id": "a16d9bab",
   "metadata": {},
   "outputs": [
    {
     "name": "stdout",
     "output_type": "stream",
     "text": [
      "Pakistan is one of the largest country in Aisa, with population almost over 250,000,000\n"
     ]
    }
   ],
   "source": [
    "print(f\"{country} is one of the largest country in Aisa, with population almost over {population}\")"
   ]
  },
  {
   "cell_type": "code",
   "execution_count": 10,
   "id": "85fbbb01",
   "metadata": {},
   "outputs": [
    {
     "name": "stdout",
     "output_type": "stream",
     "text": [
      "Enter nameNasir Hussain\n"
     ]
    },
    {
     "data": {
      "text/plain": [
       "'Hello my name is Nasir Hussain'"
      ]
     },
     "execution_count": 10,
     "metadata": {},
     "output_type": "execute_result"
    }
   ],
   "source": [
    "name  = input(\"Enter name\")\n",
    "f\"Hello my name is {name}\""
   ]
  },
  {
   "cell_type": "code",
   "execution_count": 11,
   "id": "f594b148",
   "metadata": {},
   "outputs": [],
   "source": [
    "# if someone is more than 50, he is an old man warna young man"
   ]
  },
  {
   "cell_type": "code",
   "execution_count": 21,
   "id": "737cbb0b",
   "metadata": {},
   "outputs": [
    {
     "name": "stdout",
     "output_type": "stream",
     "text": [
      "Enter your age gentelman56.7\n",
      "You are senior respectful citizen\n"
     ]
    }
   ],
   "source": [
    "age  = int(float(input(\"Enter your age gentelman\")))\n",
    "if age >50:\n",
    "    print(\"You are senior respectful citizen\")\n",
    "else:\n",
    "    print(\"You are shappater\")"
   ]
  },
  {
   "cell_type": "code",
   "execution_count": 25,
   "id": "4e7b1bc9",
   "metadata": {},
   "outputs": [
    {
     "name": "stdout",
     "output_type": "stream",
     "text": [
      "Enter Marks78\n",
      "Your grade is B\n"
     ]
    }
   ],
   "source": [
    "# A*,B,C,D,E,F\n",
    "grade  = \"\"  \n",
    "marks = float(input(\"Enter Marks\"))\n",
    "\n",
    "if marks >=90:\n",
    "    grade =\"A*\"\n",
    "elif marks >=80:\n",
    "    grade=\"A\"\n",
    "elif marks >=70:\n",
    "    grade = \"B\"\n",
    "elif marks >=60:\n",
    "    grade =\"C\"\n",
    "elif marks >=50:\n",
    "    grade = \"D\"\n",
    "elif marks >=40:\n",
    "    grade =\"E\"\n",
    "else:\n",
    "    grade =\"F\"\n",
    "print(f\"Your grade is {grade}\")"
   ]
  },
  {
   "cell_type": "code",
   "execution_count": 24,
   "id": "0764c1a3",
   "metadata": {},
   "outputs": [
    {
     "name": "stdout",
     "output_type": "stream",
     "text": [
      "Enter Marks78\n",
      "Your grade is B\n"
     ]
    }
   ],
   "source": [
    "grade  = \"\"  \n",
    "remarks = \"\"\n",
    "marks = float(input(\"Enter Marks\"))\n",
    "\n",
    "if marks<40:\n",
    "    grade=\"F\"\n",
    "    remarks = \"You are failed n cannot be in next class\"\n",
    "elif marks <50:\n",
    "    grade =\"E\"\n",
    "    remarks=\"You have low performance need much hardwork\"\n",
    "elif marks <60:\n",
    "    grade =\"D\"\n",
    "    remarks=\"You have average performance need more attension\"\n",
    "elif marks <70:\n",
    "    grade =\"C\"\n",
    "    remarks=\"You have average performance need more attension\"\n",
    "elif marks <80:\n",
    "    grade =\"B\"\n",
    "elif marks <90:\n",
    "    grade =\"A\"\n",
    "else:\n",
    "    grade =\"A*\"\n",
    "print(f\"Your grade is {grade}\")"
   ]
  },
  {
   "cell_type": "code",
   "execution_count": 28,
   "id": "9352ef4d",
   "metadata": {},
   "outputs": [
    {
     "name": "stdout",
     "output_type": "stream",
     "text": [
      "Enter Marks45.23\n",
      "Your grade is E\n"
     ]
    }
   ],
   "source": [
    "marks = float(input(\"Enter Marks\"))\n",
    "\n",
    "if marks >=90:\n",
    "    print(\"Your grade is A*\")\n",
    "elif marks >=80:\n",
    "    print(\"Your grade is A\")\n",
    "elif marks >=70:\n",
    "    print(\"Your grade is B\")\n",
    "elif marks >=60:\n",
    "    print(\"Your grade is C\")\n",
    "elif marks >=50:\n",
    "    print(\"Your grade is D\")\n",
    "elif marks >=40:\n",
    "    print(\"Your grade is E\")\n",
    "else:\n",
    "    print(\"Your grade is F\")\n"
   ]
  },
  {
   "cell_type": "raw",
   "id": "69aca6bb",
   "metadata": {},
   "source": [
    "if a customer purchases more than 25k,  disc  10\n",
    "if a customer purchases more than 15k,  disc 7.5\n",
    "if a customer purchases more than 10k,  disc  5\n",
    "if a customer purchases more than 5k,  disc  2\n",
    "baki ko no discount\n"
   ]
  },
  {
   "cell_type": "code",
   "execution_count": 30,
   "id": "2c5ca73d",
   "metadata": {},
   "outputs": [
    {
     "name": "stdout",
     "output_type": "stream",
     "text": [
      "Enter amount30000\n",
      "\n",
      "      Your total bill is 30000.0\n",
      "      Your discount is 3000.0 \n",
      "      Amount payable is 27000.0\n"
     ]
    }
   ],
   "source": [
    "purchase_amt = float(input('Enter amount'))\n",
    "discount = \"\"\n",
    "if purchase_amt >=25000:\n",
    "    discount = purchase_amt*0.10\n",
    "elif purchase_amt >=15000:\n",
    "    discount = purchase_amt*0.075\n",
    "elif purchase_amt >=10000:\n",
    "    discount = purchase_amt*0.05\n",
    "elif purchase_amt >=5000:\n",
    "    discount = purchase_amt*0.02\n",
    "else:\n",
    "    discount  = 0\n",
    "    \n",
    "print(f'''\n",
    "      Your total bill is {purchase_amt}\n",
    "      Your discount is {discount} \n",
    "      Amount payable is {purchase_amt-discount}''')"
   ]
  },
  {
   "cell_type": "code",
   "execution_count": 5,
   "id": "20399048",
   "metadata": {},
   "outputs": [
    {
     "name": "stdout",
     "output_type": "stream",
     "text": [
      "Where are you from?US\n",
      "How many brothers n sisters you have?0\n",
      "Wht profression?IT\n",
      "What is your age?19\n",
      "What is height in ft5.4\n",
      "Suaaad agaya\n"
     ]
    }
   ],
   "source": [
    "citizenship = input(\"Where are you from?\")\n",
    "if citizenship=='US':\n",
    "    siblings = int(input(\"How many brothers n sisters you have?\"))\n",
    "    if siblings==0:\n",
    "        profession = input(\"Wht profression?\")\n",
    "        if profession=='IT':\n",
    "            age  = float(input('What is your age?'))\n",
    "            if age<=20:\n",
    "                height = float(input(\"What is height in ft\"))\n",
    "                if height>=5:\n",
    "                    print(\"Suaaad agaya\")\n",
    "                else:\n",
    "                    print('rejected')\n",
    "            else:\n",
    "                print('rejeted')\n",
    "        else:\n",
    "            print('rejected')\n",
    "    else:\n",
    "        print('rejected')\n",
    "else:\n",
    "    print('rejected')\n"
   ]
  },
  {
   "cell_type": "code",
   "execution_count": 32,
   "id": "8494e693",
   "metadata": {},
   "outputs": [],
   "source": []
  },
  {
   "cell_type": "code",
   "execution_count": null,
   "id": "35510892",
   "metadata": {},
   "outputs": [],
   "source": []
  },
  {
   "cell_type": "code",
   "execution_count": null,
   "id": "b29cbe94",
   "metadata": {},
   "outputs": [],
   "source": []
  },
  {
   "cell_type": "code",
   "execution_count": null,
   "id": "e8eebdd6",
   "metadata": {},
   "outputs": [],
   "source": []
  }
 ],
 "metadata": {
  "kernelspec": {
   "display_name": "Python 3 (ipykernel)",
   "language": "python",
   "name": "python3"
  },
  "language_info": {
   "codemirror_mode": {
    "name": "ipython",
    "version": 3
   },
   "file_extension": ".py",
   "mimetype": "text/x-python",
   "name": "python",
   "nbconvert_exporter": "python",
   "pygments_lexer": "ipython3",
   "version": "3.11.5"
  }
 },
 "nbformat": 4,
 "nbformat_minor": 5
}
