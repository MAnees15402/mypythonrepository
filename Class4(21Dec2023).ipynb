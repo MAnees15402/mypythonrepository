{
 "cells": [
  {
   "cell_type": "code",
   "execution_count": 1,
   "id": "066f4b75",
   "metadata": {},
   "outputs": [
    {
     "name": "stdout",
     "output_type": "stream",
     "text": [
      "Shirt Price:2\n",
      "Paint Price:1\n",
      "Watch Price:2\n",
      "Blazer Price:3\n",
      "Shoes Price:4\n",
      "Total Bill 12\n",
      "Total Bill  12\n"
     ]
    }
   ],
   "source": [
    "shirt =int(input('Shirt Price:'))# type casitng\n",
    "paint =int(input('Paint Price:'))# type casitng\n",
    "watch =int(input('Watch Price:'))# type casitng\n",
    "blazer =int(input('Blazer Price:'))# type casitng\n",
    "shoes =int(input('Shoes Price:'))# type casitng\n",
    "\n",
    "total_bill = shirt + paint +watch +blazer +shoes\n",
    "print(\"Total Bill \" + str(total_bill)) # type casitng\n",
    "\n",
    "print(\"Total Bill \" , total_bill)"
   ]
  },
  {
   "cell_type": "code",
   "execution_count": 2,
   "id": "cf88fe0c",
   "metadata": {},
   "outputs": [],
   "source": [
    "# string concatenation / string formation \n",
    "\n",
    "fname = 'nasir'\n",
    "lname = 'hussain'"
   ]
  },
  {
   "cell_type": "code",
   "execution_count": 3,
   "id": "be495ba3",
   "metadata": {},
   "outputs": [
    {
     "data": {
      "text/plain": [
       "'nasir hussain'"
      ]
     },
     "execution_count": 3,
     "metadata": {},
     "output_type": "execute_result"
    }
   ],
   "source": [
    "fname +\" \"+ lname"
   ]
  },
  {
   "cell_type": "raw",
   "id": "6df59dee",
   "metadata": {},
   "source": [
    "My name is Nasir Hussain. I am student of python programming. I am 30 years old. I live in Karachi."
   ]
  },
  {
   "cell_type": "code",
   "execution_count": 5,
   "id": "68742f5c",
   "metadata": {},
   "outputs": [
    {
     "name": "stdout",
     "output_type": "stream",
     "text": [
      "Ente namewe\n",
      "Enter courser\n",
      "Enter agee\n",
      "Enter citye\n"
     ]
    },
    {
     "data": {
      "text/plain": [
       "'My name is we. I am student of r. I am e.years old. I live ine.'"
      ]
     },
     "execution_count": 5,
     "metadata": {},
     "output_type": "execute_result"
    }
   ],
   "source": [
    "name = input(\"Ente name\")\n",
    "course = input(\"Enter course\")\n",
    "age = (input(\"Enter age\"))\n",
    "city = input(\"Enter city\")\n",
    "\n",
    "txt = \"My name is \"+name+\". I am student of \"+course+\". I am \"+(age)+\".years old. I live in\"+city +\".\"\n",
    "txt"
   ]
  },
  {
   "cell_type": "code",
   "execution_count": 6,
   "id": "df823ced",
   "metadata": {},
   "outputs": [],
   "source": [
    "txt = \"My name is {}. I am student of {}. I am {} years old. I live in {}.\".format(name,course,age,city)"
   ]
  },
  {
   "cell_type": "code",
   "execution_count": 7,
   "id": "bd724fed",
   "metadata": {},
   "outputs": [
    {
     "data": {
      "text/plain": [
       "'My name is we. I am student of r. I am e years old. I live in e.'"
      ]
     },
     "execution_count": 7,
     "metadata": {},
     "output_type": "execute_result"
    }
   ],
   "source": [
    "txt"
   ]
  },
  {
   "cell_type": "code",
   "execution_count": 8,
   "id": "b24ea222",
   "metadata": {},
   "outputs": [
    {
     "data": {
      "text/plain": [
       "'My name is we. I am student of r. I am e years old. I live in e.'"
      ]
     },
     "execution_count": 8,
     "metadata": {},
     "output_type": "execute_result"
    }
   ],
   "source": [
    "f\"My name is {name}. I am student of {course}. I am {age} years old. I live in {city}.\""
   ]
  },
  {
   "cell_type": "code",
   "execution_count": 9,
   "id": "1e7bad10",
   "metadata": {},
   "outputs": [
    {
     "name": "stdout",
     "output_type": "stream",
     "text": [
      "Ente nameqww\n",
      "Enter age12\n"
     ]
    },
    {
     "data": {
      "text/plain": [
       "'My name is qww and my age is 12'"
      ]
     },
     "execution_count": 9,
     "metadata": {},
     "output_type": "execute_result"
    }
   ],
   "source": [
    "name = input(\"Ente name\")\n",
    "\n",
    "age = (input(\"Enter age\"))\n",
    "\n",
    "f\"My name is {name} and my age is {age}\""
   ]
  },
  {
   "cell_type": "code",
   "execution_count": 10,
   "id": "b229042c",
   "metadata": {},
   "outputs": [
    {
     "name": "stdout",
     "output_type": "stream",
     "text": [
      "Shirt Price:34\n",
      "Paint Price:556\n",
      "Watch Price:78\n",
      "Blazer Price:08\n",
      "Shoes Price:67\n",
      " \n",
      "       My Garments Store\n",
      "       =================\n",
      "       \n",
      "       Your items are:\n",
      "       shirt: 34\n",
      "       paint: 556\n",
      "       watch: 78\n",
      "       blazer: 8\n",
      "       shoes: 67\n",
      "       \n",
      "       Your total bill is: 743\n",
      "       Your discount is :111.45\n",
      "       Your final bill is : 631.55\n",
      "       \n",
      "       \n",
      "       Thank you for shopping!!\n",
      "\n",
      "\n",
      "\n"
     ]
    }
   ],
   "source": [
    "shirt =int(input('Shirt Price:'))# type casitng\n",
    "paint =int(input('Paint Price:'))# type casitng\n",
    "watch =int(input('Watch Price:'))# type casitng\n",
    "blazer =int(input('Blazer Price:'))# type casitng\n",
    "shoes =int(input('Shoes Price:'))# type casitng\n",
    "\n",
    "total_bill = shirt + paint +watch +blazer +shoes\n",
    "discount = total_bill*.15   # total_bill*15/100\n",
    "final_bill = total_bill-discount\n",
    "\n",
    "print(f''' \n",
    "       My Garments Store\n",
    "       =================\n",
    "       \n",
    "       Your items are:\n",
    "       shirt: {shirt}\n",
    "       paint: {paint}\n",
    "       watch: {watch}\n",
    "       blazer: {blazer}\n",
    "       shoes: {shoes}\n",
    "       \n",
    "       Your total bill is: {total_bill}\n",
    "       Your discount is :{discount}\n",
    "       Your final bill is : {final_bill}\n",
    "       \n",
    "       \n",
    "       Thank you for shopping!!\n",
    "\n",
    "\n",
    "''')"
   ]
  },
  {
   "cell_type": "raw",
   "id": "f371e07b",
   "metadata": {},
   "source": [
    "            My Garments Store\n",
    "            =================\n",
    "            \n",
    "            Your Items are:\n",
    "            Shirt: 1200\n",
    "            Paint: 1400\n",
    "            Watch: 2000\n",
    "            Blazer: 4000\n",
    "            Shoes:  3000\n",
    "            \n",
    "            Your total bill is: 11600\n",
    "            Afer 15% discount : 10000\n",
    "            \n",
    "            Thank you for shopping"
   ]
  },
  {
   "cell_type": "code",
   "execution_count": 11,
   "id": "90184a4e",
   "metadata": {},
   "outputs": [
    {
     "name": "stdout",
     "output_type": "stream",
     "text": [
      "Hello, \n",
      " I am going out for shopping\n",
      " do you need \n",
      "anything? \n"
     ]
    }
   ],
   "source": [
    "txt = \"Hello, \\n I am going out for shopping\\n do you need \\nanything? \"\n",
    "print(txt)"
   ]
  },
  {
   "cell_type": "markdown",
   "id": "76c3a0c6",
   "metadata": {},
   "source": [
    "# Multiline String"
   ]
  },
  {
   "cell_type": "code",
   "execution_count": 12,
   "id": "84951e9f",
   "metadata": {},
   "outputs": [],
   "source": [
    "txt = \"\"\"Hello, \n",
    " I am going out for shopping\n",
    " do you need \n",
    "anything?\"\"\""
   ]
  },
  {
   "cell_type": "code",
   "execution_count": 13,
   "id": "de71ff4d",
   "metadata": {},
   "outputs": [
    {
     "name": "stdout",
     "output_type": "stream",
     "text": [
      "Hello, \n",
      " I am going out for shopping\n",
      " do you need \n",
      "anything?\n"
     ]
    }
   ],
   "source": [
    "print(txt)"
   ]
  },
  {
   "cell_type": "code",
   "execution_count": 14,
   "id": "f662d319",
   "metadata": {},
   "outputs": [
    {
     "data": {
      "text/plain": [
       "17.5"
      ]
     },
     "execution_count": 14,
     "metadata": {},
     "output_type": "execute_result"
    }
   ],
   "source": [
    "350 *.05"
   ]
  },
  {
   "cell_type": "code",
   "execution_count": 15,
   "id": "2ea8455a",
   "metadata": {},
   "outputs": [
    {
     "data": {
      "text/plain": [
       "0.15"
      ]
     },
     "execution_count": 15,
     "metadata": {},
     "output_type": "execute_result"
    }
   ],
   "source": [
    "15/100"
   ]
  },
  {
   "cell_type": "markdown",
   "id": "d16e5760",
   "metadata": {},
   "source": [
    "2\n",
    "\n",
    "\n",
    "## dis"
   ]
  },
  {
   "cell_type": "code",
   "execution_count": 16,
   "id": "08409c17",
   "metadata": {},
   "outputs": [
    {
     "data": {
      "text/plain": [
       "111.45"
      ]
     },
     "execution_count": 16,
     "metadata": {},
     "output_type": "execute_result"
    }
   ],
   "source": [
    "discount"
   ]
  },
  {
   "cell_type": "markdown",
   "id": "6355ee11",
   "metadata": {},
   "source": [
    "# Control Flow\n",
    "# Conditional Statements"
   ]
  },
  {
   "attachments": {
    "image.png": {
     "image/png": "[encoded data removed]"
    }
   },
   "cell_type": "markdown",
   "id": "19a96e4e",
   "metadata": {},
   "source": [
    "![image.png](attachment:image.png)"
   ]
  },
  {
   "attachments": {
    "image.png": {
     "image/png": "[encoded data removed]"
    }
   },
   "cell_type": "markdown",
   "id": "23d952e7",
   "metadata": {},
   "source": [
    "![image.png](attachment:image.png)"
   ]
  },
  {
   "cell_type": "code",
   "execution_count": 20,
   "id": "00972247",
   "metadata": {},
   "outputs": [
    {
     "name": "stdout",
     "output_type": "stream",
     "text": [
      "Tamatar kia hisab hen?567\n",
      "Sunnat aitikaf ki niyat karta hon. AJ to langer milega\n"
     ]
    }
   ],
   "source": [
    "tomato_price = int(input(\"Tamatar kia hisab hen?\"))\n",
    "\n",
    "if tomato_price<100:\n",
    "    print(\"Bhayyya 2 kg dedo\")\n",
    "    print(\"AJ to karahi banegi\")\n",
    "    \n",
    "else:\n",
    "    print(\"Sunnat aitikaf ki niyat karta hon. AJ to langer milega\")"
   ]
  },
  {
   "cell_type": "code",
   "execution_count": null,
   "id": "959a2d7c",
   "metadata": {},
   "outputs": [],
   "source": []
  }
 ],
 "metadata": {
  "kernelspec": {
   "display_name": "Python 3 (ipykernel)",
   "language": "python",
   "name": "python3"
  },
  "language_info": {
   "codemirror_mode": {
    "name": "ipython",
    "version": 3
   },
   "file_extension": ".py",
   "mimetype": "text/x-python",
   "name": "python",
   "nbconvert_exporter": "python",
   "pygments_lexer": "ipython3",
   "version": "3.9.13"
  }
 },
 "nbformat": 4,
 "nbformat_minor": 5
}
