{
 "cells": [
  {
   "cell_type": "code",
   "execution_count": 4,
   "id": "e1149b6a",
   "metadata": {},
   "outputs": [],
   "source": [
    "def make_shirt(size,text):\n",
    "    print(f\"size of a shirt : {size},and write a messag : {text}\")\n",
    "    "
   ]
  },
  {
   "cell_type": "code",
   "execution_count": 5,
   "id": "320d02f2",
   "metadata": {},
   "outputs": [
    {
     "name": "stdout",
     "output_type": "stream",
     "text": [
      "size of a shirt : 12,and write a massag : larg\n"
     ]
    }
   ],
   "source": [
    "make_shirt(12,\"larg\")"
   ]
  },
  {
   "cell_type": "code",
   "execution_count": null,
   "id": "96153d32",
   "metadata": {},
   "outputs": [],
   "source": [
    "def bulid_person(first_name , last_name ,age):\n",
    "    if\n",
    "    \n",
    "    person= {'first': first_name, 'last': last_name ,  'ages':age}\n",
    "    return person\n"
   ]
  },
  {
   "cell_type": "code",
   "execution_count": null,
   "id": "f9300c9e",
   "metadata": {},
   "outputs": [],
   "source": [
    "def make_albem()"
   ]
  },
  {
   "cell_type": "code",
   "execution_count": 13,
   "id": "17608691",
   "metadata": {},
   "outputs": [
    {
     "ename": "SyntaxError",
     "evalue": "invalid syntax (3664213363.py, line 2)",
     "output_type": "error",
     "traceback": [
      "\u001b[1;36m  Cell \u001b[1;32mIn[13], line 2\u001b[1;36m\u001b[0m\n\u001b[1;33m    print(\"khan is my : \" + ,\" \",f_name +   \"and :\" + l_name)\u001b[0m\n\u001b[1;37m                            ^\u001b[0m\n\u001b[1;31mSyntaxError\u001b[0m\u001b[1;31m:\u001b[0m invalid syntax\n"
     ]
    }
   ],
   "source": [
    "def function_albem(f_name,l_name):\n",
    "    print(\"khan is my : \" + f_name + \"and\" + l_name)"
   ]
  },
  {
   "cell_type": "code",
   "execution_count": 11,
   "id": "04e156d5",
   "metadata": {},
   "outputs": [
    {
     "name": "stdout",
     "output_type": "stream",
     "text": [
      "khan is my : Muhammadand :Anees\n"
     ]
    }
   ],
   "source": [
    "function_albem(\"Muhammad\",\"Anees\")"
   ]
  },
  {
   "cell_type": "code",
   "execution_count": null,
   "id": "daf71750",
   "metadata": {},
   "outputs": [],
   "source": []
  }
 ],
 "metadata": {
  "kernelspec": {
   "display_name": "Python 3 (ipykernel)",
   "language": "python",
   "name": "python3"
  },
  "language_info": {
   "codemirror_mode": {
    "name": "ipython",
    "version": 3
   },
   "file_extension": ".py",
   "mimetype": "text/x-python",
   "name": "python",
   "nbconvert_exporter": "python",
   "pygments_lexer": "ipython3",
   "version": "3.11.5"
  }
 },
 "nbformat": 4,
 "nbformat_minor": 5
}
