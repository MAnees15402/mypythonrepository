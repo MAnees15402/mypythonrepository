{
 "cells": [
  {
   "cell_type": "code",
   "execution_count": 17,
   "id": "8c1fce22",
   "metadata": {},
   "outputs": [
    {
     "name": "stdout",
     "output_type": "stream",
     "text": [
      "Enter a num :8\n",
      "1\n",
      "2\n",
      "3\n",
      "4\n",
      "5\n",
      "6\n",
      "7\n",
      "8\n",
      "8\n"
     ]
    }
   ],
   "source": [
    "n= int(input(\"Enter a num :\"))\n",
    "total = 0\n",
    "for a in range(1,n+1):\n",
    "    print(a)\n",
    "    total += 1/a\n",
    "print(total    \n",
    "    \n",
    "    "
   ]
  },
  {
   "cell_type": "code",
   "execution_count": 5,
   "id": "56003417",
   "metadata": {},
   "outputs": [
    {
     "name": "stdout",
     "output_type": "stream",
     "text": [
      "Enter your password: 7418529\n",
      "(False, 'Password must contain at least one uppercase letter.')\n"
     ]
    }
   ],
   "source": [
    "def enter_password(password):\n",
    "    if len(password)>=8:\n",
    "        return False, \"Password must be at least eight characters long.\"\n",
    "\n",
    "    if not any(char.isupper() for char in password):\n",
    "        return False, \"Password must contain at least one uppercase letter.\"\n",
    "    if not any(char.islower() for char in password):\n",
    "        return False, \"Password must contain at least one lowercase letter.\"\n",
    "    if not any(char.isdigit() for char in password):\n",
    "        return False, \"Password must contain at least one digit.\"\n",
    "\n",
    "    return True, \"Password is valid.\"\n",
    "\n",
    "user_password = input(\"Enter your password: \")\n",
    "message = enter_password(user_password)\n",
    "print(message)"
   ]
  },
  {
   "cell_type": "code",
   "execution_count": null,
   "id": "ef7d5732",
   "metadata": {},
   "outputs": [],
   "source": []
  }
 ],
 "metadata": {
  "kernelspec": {
   "display_name": "Python 3 (ipykernel)",
   "language": "python",
   "name": "python3"
  },
  "language_info": {
   "codemirror_mode": {
    "name": "ipython",
    "version": 3
   },
   "file_extension": ".py",
   "mimetype": "text/x-python",
   "name": "python",
   "nbconvert_exporter": "python",
   "pygments_lexer": "ipython3",
   "version": "3.11.5"
  }
 },
 "nbformat": 4,
 "nbformat_minor": 5
}
