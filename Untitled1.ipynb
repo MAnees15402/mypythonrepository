{
 "cells": [
  {
   "cell_type": "markdown",
   "id": "c2e00830",
   "metadata": {},
   "source": [
    "# Write a program that asks the user to input base and height of a triangle as integer. Your program should calculate and display the area of triangle using formula area = 1/2 * base * height."
   ]
  },
  {
   "cell_type": "code",
   "execution_count": 2,
   "id": "5175b9d9",
   "metadata": {},
   "outputs": [
    {
     "name": "stdout",
     "output_type": "stream",
     "text": [
      "Enter a no : 34\n",
      "Enter a no : 8\n",
      "136.0\n"
     ]
    }
   ],
   "source": [
    "base = int(input('Enter a no : ')) \n",
    "height = int(input('Enter a no : '))\n",
    "area = 1/2 * base *height\n",
    "print(area)"
   ]
  },
  {
   "cell_type": "markdown",
   "id": "19636353",
   "metadata": {},
   "source": [
    "# Write a program that asks the user to input his height in cetimeters. Your program should convert and display the height in Feet and inches. (Hint: 1 inch equals 2.54 centimeters and 1 foot equals 12 inches)"
   ]
  },
  {
   "cell_type": "code",
   "execution_count": 5,
   "id": "0c8b565c",
   "metadata": {},
   "outputs": [
    {
     "name": "stdout",
     "output_type": "stream",
     "text": [
      "enter a no : 165\n",
      "5.413385826771653\n"
     ]
    }
   ],
   "source": [
    "cm = int(input('enter a no : '))\n",
    "inch= cm /2.54\n",
    "ft = inch/12\n",
    "print(ft)"
   ]
  },
  {
   "cell_type": "code",
   "execution_count": 10,
   "id": "364fb9df",
   "metadata": {
    "scrolled": true
   },
   "outputs": [
    {
     "name": "stdout",
     "output_type": "stream",
     "text": [
      "Enter a no : 22\n",
      "even no: 22\n"
     ]
    }
   ],
   "source": [
    "num = int(input('Enter a no : '))\n",
    "if num %2==0:\n",
    "    print (f\"even no: {num}\")\n",
    "else :\n",
    "    print(f\"odd no : {num}\")"
   ]
  },
  {
   "cell_type": "code",
   "execution_count": 19,
   "id": "c9aa3afe",
   "metadata": {},
   "outputs": [
    {
     "name": "stdout",
     "output_type": "stream",
     "text": [
      "Enter first number:223\n",
      "Enter second number:234\n",
      "223  is less than  234\n"
     ]
    }
   ],
   "source": [
    "x = int(input(\"Enter first number:\"))\n",
    "y = int(input(\"Enter second number:\"))\n",
    "\n",
    "if x < y:\n",
    "    print (x, \" is less than \", y)\n",
    "elif x > y:\n",
    "    print (x, \"is greater than \", y)\n",
    "else:\n",
    "    print (x, \"and\", y, \"are equal\")"
   ]
  },
  {
   "cell_type": "markdown",
   "id": "18058698",
   "metadata": {},
   "source": [
    "# Write a program which asks user to enter price and quantity of a product. Your program should calculate and display the the bill amount as price * quantity. If bill amount is more than 2000 discount of 20% on bill amount should be subtrated from bill."
   ]
  },
  {
   "cell_type": "code",
   "execution_count": 25,
   "id": "900dbaf0",
   "metadata": {},
   "outputs": [
    {
     "name": "stdout",
     "output_type": "stream",
     "text": [
      "Enter the product : 1500\n",
      "Enter the Quanatity : 4\n",
      "enter amout 6000\n",
      "enter discount 1200.0\n",
      "enter new_amout 4800.0\n"
     ]
    }
   ],
   "source": [
    "prod = int(input('Enter the product : '))\n",
    "quantity = int(input('Enter the Quanatity : '))\n",
    "amout = prod * quantity\n",
    "if amout > 3000:\n",
    "    discount = amout * 0.20\n",
    "elif amout > 1000:\n",
    "        discount = amout * 0.05\n",
    "else:\n",
    "        discount = 0\n",
    "        \n",
    "new_amout = amout - discount\n",
    "print(f'enter amout {amout}')\n",
    "print(f'enter discount {discount}')\n",
    "print(f'enter new_amout {new_amout}')\n",
    "\n",
    "    "
   ]
  },
  {
   "cell_type": "markdown",
   "id": "a426d62a",
   "metadata": {},
   "source": [
    "# The marks obtained by a student in computer science is input by the user. Your program should display the grade. The student gets a grade as per the following rules:\n",
    "\n",
    " # marks\tGrade\n",
    " # 90-100  A\n",
    " # 80-89\tB\n",
    " # 70-79\tC\n",
    " # 60-69\tD\n",
    " # 0-59\t     F"
   ]
  },
  {
   "cell_type": "code",
   "execution_count": 26,
   "id": "0c137b36",
   "metadata": {},
   "outputs": [
    {
     "ename": "SyntaxError",
     "evalue": "invalid syntax (2859816317.py, line 2)",
     "output_type": "error",
     "traceback": [
      "\u001b[1;36m  Cell \u001b[1;32mIn[26], line 2\u001b[1;36m\u001b[0m\n\u001b[1;33m    if user 90>=100:\u001b[0m\n\u001b[1;37m            ^\u001b[0m\n\u001b[1;31mSyntaxError\u001b[0m\u001b[1;31m:\u001b[0m invalid syntax\n"
     ]
    }
   ],
   "source": [
    "user= int(input(\"Enter a no : \"))\n",
    "if user 90>=100:\n",
    "    print(A)\n",
    "elif user 80>=89:\n",
    "    print(B)\n",
    "elif user 70 >= 79 :\n",
    "    print(C)\n",
    "elif user 60 >= 69 :\n",
    "    print(D)\n",
    "elif user 0<=59:\n",
    "    print(F)\n",
    "else:\n",
    "    print ('enter a no ')"
   ]
  },
  {
   "cell_type": "code",
   "execution_count": 2,
   "id": "b6bcb011",
   "metadata": {},
   "outputs": [
    {
     "name": "stdout",
     "output_type": "stream",
     "text": [
      "How many numbers you want to enter? 4\n",
      "Enter a number: 1\n",
      "Enter a number: 2\n",
      "Enter a number: 3\n",
      "Enter a number: 4\n",
      "The total is 10\n"
     ]
    }
   ],
   "source": [
    "\n",
    "i = 1\n",
    "sum = 0\n",
    "n = int(input('How many numbers you want to enter? '))\n",
    "\n",
    "while i <= n:\n",
    "    num = int(input('Enter a number: '))\n",
    "    sum = sum + num\n",
    "    i = i + 1\n",
    "\n",
    "print('The total is', sum)"
   ]
  },
  {
   "cell_type": "code",
   "execution_count": 3,
   "id": "82fbdd85",
   "metadata": {},
   "outputs": [
    {
     "name": "stdout",
     "output_type": "stream",
     "text": [
      "1 2 3 4 1 2 3 4 1 2 3 4 "
     ]
    }
   ],
   "source": [
    "for i in range(1,4):\n",
    "    for j in range(1,5):\n",
    "        print(j, end = ' ')\n",
    "    print()"
   ]
  },
  {
   "cell_type": "code",
   "execution_count": null,
   "id": "0b083d93",
   "metadata": {},
   "outputs": [],
   "source": []
  }
 ],
 "metadata": {
  "kernelspec": {
   "display_name": "Python 3 (ipykernel)",
   "language": "python",
   "name": "python3"
  },
  "language_info": {
   "codemirror_mode": {
    "name": "ipython",
    "version": 3
   },
   "file_extension": ".py",
   "mimetype": "text/x-python",
   "name": "python",
   "nbconvert_exporter": "python",
   "pygments_lexer": "ipython3",
   "version": "3.11.5"
  }
 },
 "nbformat": 4,
 "nbformat_minor": 5
}
