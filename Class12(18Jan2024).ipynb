{
 "cells": [
  {
   "cell_type": "markdown",
   "id": "21cf8ba4",
   "metadata": {},
   "source": [
    "# String"
   ]
  },
  {
   "cell_type": "markdown",
   "id": "f6638ff1",
   "metadata": {},
   "source": [
    "### 1. Write a function that text a string from user. Your function should count and display number of vowels in that text."
   ]
  },
  {
   "cell_type": "raw",
   "id": "5acbc521",
   "metadata": {},
   "source": [
    "This e-Statement is confidential and is intended only for the person or entity to which it is addressed and may contain confidential and/or privileged material. Any review, re-transmission, dissemination, forwarding, printing, copying or other use of, or taking of any action in reliance upon this information by persons or entities other than the intended recipient is strictly prohibited. If the e-Statement message is received by anyone other than the addressee, please inform us at complaints@meezanbank.com and then delete the message from your computer. Thank you for your cooperation."
   ]
  },
  {
   "cell_type": "code",
   "execution_count": 4,
   "id": "83420db1",
   "metadata": {},
   "outputs": [],
   "source": [
    "vowels = ['a','e','i','o','u']\n",
    "\n",
    "def vowel_counter(txt):\n",
    "    vowel_counts = 0\n",
    "    for char in txt.lower():\n",
    "        if char in vowels:\n",
    "            vowel_counts+=1\n",
    "            vowel_counter =input(\"enter the value : \")\n",
    "    print(f\"Number of vowels are {vowel_counts}\")  "
   ]
  },
  {
   "cell_type": "code",
   "execution_count": 17,
   "id": "97101c26",
   "metadata": {},
   "outputs": [
    {
     "name": "stdout",
     "output_type": "stream",
     "text": [
      "Number of vowels are 191\n"
     ]
    }
   ],
   "source": [
    "vowel_counter(\"\"\"This e-Statement is confidential and is intended only \n",
    "              for the person or entity to which it is addressed and may\n",
    "              contain confidential and/or privileged material. \n",
    "              Any review, re-transmission, dissemination, forwarding, \n",
    "              printing, copying or other use of, or taking of any action \n",
    "              in reliance upon this information by persons or entities other\n",
    "              than the intended recipient is strictly prohibited. \n",
    "              If the e-Statement message is received by anyone other \\\n",
    "              than the addressee, please inform us at \n",
    "              complaints@meezanbank.com and then delete \n",
    "              the message from your computer. \n",
    "              Thank you for your cooperation.\"\"\")"
   ]
  },
  {
   "cell_type": "code",
   "execution_count": 6,
   "id": "78288a4d",
   "metadata": {},
   "outputs": [
    {
     "name": "stdout",
     "output_type": "stream",
     "text": [
      "Afeef\n"
     ]
    }
   ],
   "source": [
    "print(\"Afeef\")"
   ]
  },
  {
   "cell_type": "code",
   "execution_count": 7,
   "id": "05ddf7d1",
   "metadata": {},
   "outputs": [],
   "source": [
    "first_name = 'Muhammad'"
   ]
  },
  {
   "cell_type": "code",
   "execution_count": 8,
   "id": "c6bf5b02",
   "metadata": {},
   "outputs": [
    {
     "name": "stdout",
     "output_type": "stream",
     "text": [
      "Muhammad Afeef\n"
     ]
    }
   ],
   "source": [
    "print(f\"{first_name} Afeef\")"
   ]
  },
  {
   "cell_type": "code",
   "execution_count": 9,
   "id": "2adf87f9",
   "metadata": {},
   "outputs": [
    {
     "name": "stdout",
     "output_type": "stream",
     "text": [
      "Muhammad Afeef\n"
     ]
    }
   ],
   "source": [
    "print(first_name, 'Afeef')"
   ]
  },
  {
   "cell_type": "code",
   "execution_count": 11,
   "id": "d58378fe",
   "metadata": {},
   "outputs": [
    {
     "name": "stdout",
     "output_type": "stream",
     "text": [
      "Muhammad Afeef\n"
     ]
    }
   ],
   "source": [
    "print(first_name + \" Afeef\")"
   ]
  },
  {
   "cell_type": "markdown",
   "id": "a9ef45df",
   "metadata": {},
   "source": [
    "# 2. Write a program that reads a string from keyboard and display:\n",
    "# * The number of uppercase letters in the string\n",
    "# * The number of lowercase letters in the string\n",
    "# * The number of digits in the string\n",
    "# * The number of whitespace characters in the string"
   ]
  },
  {
   "cell_type": "code",
   "execution_count": 18,
   "id": "29f28196",
   "metadata": {},
   "outputs": [],
   "source": [
    "def string_analyzer(txt):\n",
    "    upper = 0\n",
    "    lower = 0\n",
    "    digit = 0\n",
    "    whitespace = 0 \n",
    "    others = 0\n",
    "    for char in txt:\n",
    "        if char.isupper():\n",
    "            upper +=1\n",
    "        elif char.islower():\n",
    "            lower +=1\n",
    "        elif char.isdigit():\n",
    "            digit +=1\n",
    "        elif char.isspace():\n",
    "            whitespace +=1\n",
    "        else:\n",
    "            others +=1\n",
    "    print(f\"\"\"\n",
    "        Total Char  : {len(txt)-others-whitespace}\n",
    "         Upper Case : {upper}\n",
    "         Lower Case : {lower}\n",
    "         Digit      : {digit}\n",
    "         WhiteSpace : {whitespace}\n",
    "         Others     : {others }\n",
    "         \"\"\")       "
   ]
  },
  {
   "cell_type": "code",
   "execution_count": 19,
   "id": "d85c1677",
   "metadata": {},
   "outputs": [
    {
     "name": "stdout",
     "output_type": "stream",
     "text": [
      "\n",
      "        Total Char  : 408\n",
      "         Upper Case : 8\n",
      "         Lower Case : 395\n",
      "         Digit      : 5\n",
      "         WhiteSpace : 80\n",
      "         Others     : 10\n",
      "         \n"
     ]
    }
   ],
   "source": [
    "string_analyzer(\"React, the most popular JavaScript library, has emerged as the preferred option among developers for56 creating 67reliable online apps, primarily 6  because React allows the creation of single-page dynamic applications.With this bootcamp, you'll gain an understanding of the fundamentals of React and how you can start using it in your projects today. You will also learn how to use React in your web apps, so that you can build powerful and flexible user interfaces that are also easy to maintain.\")"
   ]
  },
  {
   "cell_type": "markdown",
   "id": "62e3bd19",
   "metadata": {},
   "source": [
    "# 3. Write a Python function that accepts a string from user. Your program should create and display a new string where the first and last characters have been exchanged"
   ]
  },
  {
   "cell_type": "code",
   "execution_count": 33,
   "id": "290eb050",
   "metadata": {},
   "outputs": [],
   "source": [
    "def first_last_char_exchange(string):   \n",
    "    new_string=string[-1]+ string[1:-1]+string[0]\n",
    "    print(new_string)"
   ]
  },
  {
   "cell_type": "code",
   "execution_count": 34,
   "id": "f3b9b193",
   "metadata": {},
   "outputs": [
    {
     "name": "stdout",
     "output_type": "stream",
     "text": [
      "rasin\n"
     ]
    }
   ],
   "source": [
    "first_last_char_exchange('nasir')"
   ]
  },
  {
   "cell_type": "code",
   "execution_count": 35,
   "id": "611a0ca8",
   "metadata": {},
   "outputs": [
    {
     "name": "stdout",
     "output_type": "stream",
     "text": [
      "oellH\n"
     ]
    }
   ],
   "source": [
    "first_last_char_exchange(\"Hello\")"
   ]
  },
  {
   "cell_type": "markdown",
   "id": "b5f1f514",
   "metadata": {},
   "source": [
    "# Write a Python program that accepts a string from user. Your program should create a new string in reverse of first string and display it."
   ]
  },
  {
   "cell_type": "code",
   "execution_count": 1,
   "id": "6e7f4753",
   "metadata": {},
   "outputs": [],
   "source": [
    "def reverse_string(txt):\n",
    "    print(txt[::-1])"
   ]
  },
  {
   "cell_type": "code",
   "execution_count": 49,
   "id": "cce09556",
   "metadata": {},
   "outputs": [
    {
     "name": "stdout",
     "output_type": "stream",
     "text": [
      "4321\n"
     ]
    }
   ],
   "source": [
    "reverse_string(\"123456789\")"
   ]
  },
  {
   "cell_type": "markdown",
   "id": "b53ee7ef",
   "metadata": {},
   "source": [
    "# 5. Write a Python program that accepts a string from user. Your program should create a new string by shifting one position to left"
   ]
  },
  {
   "cell_type": "code",
   "execution_count": 57,
   "id": "b1b8386c",
   "metadata": {},
   "outputs": [],
   "source": [
    "def shift_left(txt):\n",
    "    new = txt[1:]+txt[0]\n",
    "    print(new)"
   ]
  },
  {
   "cell_type": "code",
   "execution_count": 58,
   "id": "fb1b75bd",
   "metadata": {},
   "outputs": [
    {
     "name": "stdout",
     "output_type": "stream",
     "text": [
      "123450\n"
     ]
    }
   ],
   "source": [
    "shift_left('012345')"
   ]
  },
  {
   "cell_type": "markdown",
   "id": "e5355ef5",
   "metadata": {},
   "source": [
    "# Write a program that asks the user to input his name and print its initials. Assuming that the user always types first name, middle name and last name and does not include any unnecessary spaces. For example, if the user enters Ajay Kumar Garg the program should display A. K. G.Note:Don't use split() method"
   ]
  },
  {
   "cell_type": "code",
   "execution_count": 92,
   "id": "2c507df2",
   "metadata": {},
   "outputs": [],
   "source": [
    "def initials_creator():# Abdul Rehman Amjad >>> A.R.A\n",
    "name = input(\"Enter your name\").title()\n",
    "new_name = ''\n",
    "for char in name:\n",
    "    if char.isupper():\n",
    "        new_name+=char +\".\"\n",
    "print(new_name)"
   ]
  },
  {
   "cell_type": "code",
   "execution_count": null,
   "id": "70957f87",
   "metadata": {},
   "outputs": [],
   "source": [
    "initials_creator()"
   ]
  },
  {
   "cell_type": "markdown",
   "id": "0b6c3e4a",
   "metadata": {},
   "source": [
    "# 7. A palindrome is a string that reads the same backward as forward. For example, the words dad,\n",
    "# madam and radar are all palindromes. Write a programs that determines whether the string is a\n",
    "# palindrome.\n",
    "# Note: do not use reverse() method"
   ]
  },
  {
   "cell_type": "code",
   "execution_count": null,
   "id": "091317f4",
   "metadata": {},
   "outputs": [],
   "source": [
    "string = input(\"enter a word, i will tell you it is a palindrome or not\")\n",
    "\n",
    "if string[:]==string[-1::-1]:\n",
    "    print(\"yes, it is a palindrome\")\n",
    "else:\n",
    "    print(\"No, it is not a palindrome\")\n",
    "   "
   ]
  },
  {
   "cell_type": "code",
   "execution_count": 74,
   "id": "6d3cdf89",
   "metadata": {},
   "outputs": [],
   "source": [
    "def isPalindrome(str):\n",
    " \n",
    "    # Run loop from 0 to len/2\n",
    "    for i in range(0, int(len(str)/2)):\n",
    "        \n",
    "        if str[i] != str[len(str)-i-1]:\n",
    "            return False\n",
    "    return True\n",
    " \n",
    "# main function\n",
    "s = \"malayalam\"\n",
    "ans = isPalindrome(s)\n",
    " \n",
    "if (ans):\n",
    "    print(\"Yes\")\n",
    "else:\n",
    "    print(\"No\")"
   ]
  },
  {
   "cell_type": "code",
   "execution_count": 75,
   "id": "f04c5282",
   "metadata": {},
   "outputs": [
    {
     "name": "stdout",
     "output_type": "stream",
     "text": [
      "No Palidrome\n",
      "Palindrome\n"
     ]
    }
   ],
   "source": [
    "isPalindrome('malayalam')"
   ]
  },
  {
   "cell_type": "code",
   "execution_count": 82,
   "id": "4008ba4e",
   "metadata": {},
   "outputs": [],
   "source": [
    "s =\"malayalam\""
   ]
  },
  {
   "cell_type": "code",
   "execution_count": 87,
   "id": "69a7c43a",
   "metadata": {},
   "outputs": [
    {
     "data": {
      "text/plain": [
       "'a'"
      ]
     },
     "execution_count": 87,
     "metadata": {},
     "output_type": "execute_result"
    }
   ],
   "source": [
    "s[2]"
   ]
  },
  {
   "cell_type": "code",
   "execution_count": 90,
   "id": "a23205d9",
   "metadata": {},
   "outputs": [
    {
     "data": {
      "text/plain": [
       "'l'"
      ]
     },
     "execution_count": 90,
     "metadata": {},
     "output_type": "execute_result"
    }
   ],
   "source": [
    "s[len(s)--1]"
   ]
  },
  {
   "cell_type": "code",
   "execution_count": 85,
   "id": "99f67b2b",
   "metadata": {},
   "outputs": [
    {
     "data": {
      "text/plain": [
       "9"
      ]
     },
     "execution_count": 85,
     "metadata": {},
     "output_type": "execute_result"
    }
   ],
   "source": [
    "len(s)"
   ]
  },
  {
   "cell_type": "markdown",
   "id": "bed821f0",
   "metadata": {},
   "source": [
    "\"9. Write a program in python that accepts a string to setup a passwords. \n",
    "Your entered password must\n",
    "meet the following requirements:\n",
    "The password must be at least eight characters long.\n",
    "It must contain at least one uppercase letter.\n",
    "It must contain at least one lowercase letter.\n",
    "It must contain at least one numeric digit.\n",
    "Your program should should perform this validation.\""
   ]
  },
  {
   "cell_type": "code",
   "execution_count": null,
   "id": "06945281",
   "metadata": {},
   "outputs": [],
   "source": [
    "pwd = input(\"Enter password:\")\n",
    "if len(pwd)>=8:\n",
    "    for p in pwd:\n",
    "        if p.isupper():\n",
    "            continue\n",
    "        else:\n",
    "            print(\"Invalid Password characters\")\n",
    "else:\n",
    "    print(\"In valid length\")"
   ]
  },
  {
   "cell_type": "code",
   "execution_count": 5,
   "id": "52d8ce6d",
   "metadata": {},
   "outputs": [
    {
     "name": "stdout",
     "output_type": "stream",
     "text": [
      "2024-01-20 13:25:26.815854\n"
     ]
    }
   ],
   "source": [
    "import datetime\n",
    "x = datetime.datetime.now()\n",
    "print(x)"
   ]
  },
  {
   "cell_type": "code",
   "execution_count": 7,
   "id": "faa7724f",
   "metadata": {},
   "outputs": [
    {
     "name": "stdout",
     "output_type": "stream",
     "text": [
      "13\n"
     ]
    }
   ],
   "source": [
    "import datetime\n",
    "\n",
    "x = datetime.datetime.now()\n",
    "\n",
    "print(x.strftime(\"%H\"))"
   ]
  },
  {
   "cell_type": "code",
   "execution_count": 16,
   "id": "d3680254",
   "metadata": {},
   "outputs": [
    {
     "name": "stdout",
     "output_type": "stream",
     "text": [
      "09:18\n"
     ]
    }
   ],
   "source": [
    "import time\n",
    "x = time.strftime(\"%M:%S\")\n",
    "print(x)"
   ]
  },
  {
   "cell_type": "code",
   "execution_count": 18,
   "id": "ad503019",
   "metadata": {},
   "outputs": [
    {
     "name": "stdout",
     "output_type": "stream",
     "text": [
      "0 Mary\n",
      "1 had\n",
      "2 a\n",
      "3 little\n",
      "4 lamb\n"
     ]
    }
   ],
   "source": [
    "a = ['Mary', 'had', 'a', 'little', 'lamb']\n",
    "for i in range(len(a)):\n",
    "    print(i , a[i])"
   ]
  },
  {
   "cell_type": "code",
   "execution_count": null,
   "id": "f5182fe4",
   "metadata": {},
   "outputs": [],
   "source": []
  }
 ],
 "metadata": {
  "kernelspec": {
   "display_name": "Python 3 (ipykernel)",
   "language": "python",
   "name": "python3"
  },
  "language_info": {
   "codemirror_mode": {
    "name": "ipython",
    "version": 3
   },
   "file_extension": ".py",
   "mimetype": "text/x-python",
   "name": "python",
   "nbconvert_exporter": "python",
   "pygments_lexer": "ipython3",
   "version": "3.11.5"
  }
 },
 "nbformat": 4,
 "nbformat_minor": 5
}
