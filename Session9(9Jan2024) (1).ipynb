{
 "cells": [
  {
   "cell_type": "markdown",
   "id": "2845dbf3",
   "metadata": {},
   "source": [
    "# More on for loops...."
   ]
  },
  {
   "cell_type": "code",
   "execution_count": 5,
   "id": "498b353b",
   "metadata": {},
   "outputs": [],
   "source": [
    "country = \"pakistan\""
   ]
  },
  {
   "cell_type": "code",
   "execution_count": 6,
   "id": "bb9f45f0",
   "metadata": {},
   "outputs": [],
   "source": [
    "upper_country = ''"
   ]
  },
  {
   "cell_type": "code",
   "execution_count": 7,
   "id": "3e7c663e",
   "metadata": {},
   "outputs": [
    {
     "data": {
      "text/plain": [
       "'P'"
      ]
     },
     "execution_count": 7,
     "metadata": {},
     "output_type": "execute_result"
    }
   ],
   "source": [
    "upper_country +=country[0].upper()\n",
    "upper_country"
   ]
  },
  {
   "cell_type": "code",
   "execution_count": 8,
   "id": "e0f44599",
   "metadata": {},
   "outputs": [
    {
     "data": {
      "text/plain": [
       "'PA'"
      ]
     },
     "execution_count": 8,
     "metadata": {},
     "output_type": "execute_result"
    }
   ],
   "source": [
    "upper_country +=country[1].upper()\n",
    "upper_country"
   ]
  },
  {
   "cell_type": "code",
   "execution_count": 9,
   "id": "35d43674",
   "metadata": {},
   "outputs": [
    {
     "data": {
      "text/plain": [
       "'PAK'"
      ]
     },
     "execution_count": 9,
     "metadata": {},
     "output_type": "execute_result"
    }
   ],
   "source": [
    "upper_country +=country[2].upper()\n",
    "upper_country"
   ]
  },
  {
   "cell_type": "code",
   "execution_count": 10,
   "id": "61bf69c1",
   "metadata": {},
   "outputs": [
    {
     "data": {
      "text/plain": [
       "'PAKI'"
      ]
     },
     "execution_count": 10,
     "metadata": {},
     "output_type": "execute_result"
    }
   ],
   "source": [
    "upper_country +=country[3].upper()\n",
    "upper_country"
   ]
  },
  {
   "cell_type": "code",
   "execution_count": 11,
   "id": "81546172",
   "metadata": {},
   "outputs": [
    {
     "data": {
      "text/plain": [
       "'PAKIS'"
      ]
     },
     "execution_count": 11,
     "metadata": {},
     "output_type": "execute_result"
    }
   ],
   "source": [
    "upper_country +=country[4].upper()\n",
    "upper_country"
   ]
  },
  {
   "cell_type": "code",
   "execution_count": 12,
   "id": "991d6e0a",
   "metadata": {},
   "outputs": [
    {
     "data": {
      "text/plain": [
       "'PAKIST'"
      ]
     },
     "execution_count": 12,
     "metadata": {},
     "output_type": "execute_result"
    }
   ],
   "source": [
    "upper_country +=country[5].upper()\n",
    "upper_country"
   ]
  },
  {
   "cell_type": "code",
   "execution_count": 13,
   "id": "43e62d78",
   "metadata": {},
   "outputs": [
    {
     "data": {
      "text/plain": [
       "'PAKISTA'"
      ]
     },
     "execution_count": 13,
     "metadata": {},
     "output_type": "execute_result"
    }
   ],
   "source": [
    "upper_country +=country[6].upper()\n",
    "upper_country"
   ]
  },
  {
   "cell_type": "code",
   "execution_count": 14,
   "id": "cf9a41d6",
   "metadata": {},
   "outputs": [
    {
     "data": {
      "text/plain": [
       "'PAKISTAN'"
      ]
     },
     "execution_count": 14,
     "metadata": {},
     "output_type": "execute_result"
    }
   ],
   "source": [
    "upper_country +=country[7].upper()\n",
    "upper_country"
   ]
  },
  {
   "cell_type": "code",
   "execution_count": 17,
   "id": "44317398",
   "metadata": {},
   "outputs": [
    {
     "name": "stdout",
     "output_type": "stream",
     "text": [
      "PAKISTAN"
     ]
    }
   ],
   "source": [
    "for char in country:\n",
    "    print(char.upper(),end=\"\")"
   ]
  },
  {
   "cell_type": "code",
   "execution_count": 18,
   "id": "9ac7a5a4",
   "metadata": {},
   "outputs": [
    {
     "data": {
      "text/plain": [
       "'PAKISTAN'"
      ]
     },
     "execution_count": 18,
     "metadata": {},
     "output_type": "execute_result"
    }
   ],
   "source": [
    "country.upper()"
   ]
  },
  {
   "cell_type": "code",
   "execution_count": 19,
   "id": "714b1e8d",
   "metadata": {},
   "outputs": [],
   "source": [
    "guests = ['Phoopo', 'Choti Khala','Nasir', 'Shaboo', 'Aslam Bhai', 'Nasir']"
   ]
  },
  {
   "cell_type": "code",
   "execution_count": 21,
   "id": "79d7e1e9",
   "metadata": {},
   "outputs": [
    {
     "name": "stdout",
     "output_type": "stream",
     "text": [
      "phoopo\n",
      "choti khala\n",
      "nasir\n",
      "shaboo\n",
      "aslam bhai\n",
      "nasir\n"
     ]
    }
   ],
   "source": [
    "for myguest in guests:\n",
    "    print(myguest.lower())"
   ]
  },
  {
   "cell_type": "markdown",
   "id": "c6c69367",
   "metadata": {},
   "source": [
    "# Looping Dictionary.."
   ]
  },
  {
   "cell_type": "code",
   "execution_count": 33,
   "id": "a3fb4712",
   "metadata": {},
   "outputs": [
    {
     "name": "stdout",
     "output_type": "stream",
     "text": [
      "The nile runs through egypt\n",
      "The amazon runs through brazil\n",
      "The missouri runs through US\n"
     ]
    }
   ],
   "source": [
    "rivers = {'nile':'egypt', 'amazon':'brazil','missouri':'US'}\n",
    "for river in rivers.keys():\n",
    "    print(f\"The {river} runs through {rivers[river]}\")"
   ]
  },
  {
   "cell_type": "code",
   "execution_count": 29,
   "id": "ca1a65d8",
   "metadata": {},
   "outputs": [
    {
     "name": "stdout",
     "output_type": "stream",
     "text": [
      "The nile runs through egypt\n",
      "The amazon runs through brazil\n",
      "The missouri runs through US\n"
     ]
    }
   ],
   "source": [
    "rivers = {'nile':'egypt', 'amazon':'brazil','missouri':'US'}\n",
    "\n",
    "# here we use two variables to unpack the tuple given by items()\n",
    "for river,country in rivers.items():\n",
    "    print(f\"The {river} runs through {country}\")"
   ]
  },
  {
   "cell_type": "code",
   "execution_count": 34,
   "id": "6a761bad",
   "metadata": {},
   "outputs": [
    {
     "name": "stdout",
     "output_type": "stream",
     "text": [
      "brazil\n",
      "US\n"
     ]
    }
   ],
   "source": [
    "for river in rivers:\n",
    "    if river!='nile':\n",
    "        print(rivers[river])"
   ]
  },
  {
   "cell_type": "markdown",
   "id": "6c6ba92b",
   "metadata": {},
   "source": [
    "# Nesting: List in a dictionary"
   ]
  },
  {
   "cell_type": "code",
   "execution_count": 36,
   "id": "9b9af8ff",
   "metadata": {},
   "outputs": [
    {
     "data": {
      "text/plain": [
       "['Brazil', 'Peru', 'Bolivia', 'Colombia', 'Ecuador', 'Venezuela', 'Guyana']"
      ]
     },
     "execution_count": 36,
     "metadata": {},
     "output_type": "execute_result"
    }
   ],
   "source": [
    "rivers['amazon']"
   ]
  },
  {
   "cell_type": "code",
   "execution_count": 37,
   "id": "16ebb045",
   "metadata": {},
   "outputs": [
    {
     "data": {
      "text/plain": [
       "['Ethiopia',\n",
       " 'Eritrea',\n",
       " 'Sudan',\n",
       " 'Uganda',\n",
       " 'Tanzania',\n",
       " 'Kenya',\n",
       " 'Rwanda',\n",
       " 'Burundi',\n",
       " 'Egypt',\n",
       " 'Congo',\n",
       " 'SouthSudan']"
      ]
     },
     "execution_count": 37,
     "metadata": {},
     "output_type": "execute_result"
    }
   ],
   "source": [
    "rivers['nile']"
   ]
  },
  {
   "cell_type": "code",
   "execution_count": 39,
   "id": "e9288dab",
   "metadata": {},
   "outputs": [
    {
     "name": "stdout",
     "output_type": "stream",
     "text": [
      "amazon doesnt run thorugh congo\n"
     ]
    }
   ],
   "source": [
    "for key in rivers.keys():\n",
    "    if key=='amazon':\n",
    "        if 'congo' in rivers[key]:\n",
    "            print(\"amazon runs thorugh congo\")\n",
    "        else:\n",
    "            print(\"amazon doesnt run thorugh congo\")\n",
    "    "
   ]
  },
  {
   "cell_type": "code",
   "execution_count": 42,
   "id": "00c7640b",
   "metadata": {
    "collapsed": true
   },
   "outputs": [
    {
     "name": "stdout",
     "output_type": "stream",
     "text": [
      "Tell me the river name: nile\n",
      "Enter the country nameus\n",
      "nile doesnot runs through us\n",
      "I dont know twhich river it is.\n",
      "I dont know twhich river it is.\n"
     ]
    }
   ],
   "source": [
    "river_name = input(\"Tell me the river name: \")\n",
    "country_name = input(\"Enter the country name\")\n",
    "\n",
    "for key in rivers.keys():\n",
    "    if key == river_name:\n",
    "        if country_name in rivers[key]:\n",
    "            print(f\"{key} runs through {country_name}\") \n",
    "        else:\n",
    "            print(f\"{key} doesnot runs through {country_name}\") \n",
    "    else:\n",
    "        \n",
    "        print(\"I dont know twhich river it is.\")\n",
    "        "
   ]
  },
  {
   "cell_type": "code",
   "execution_count": 50,
   "id": "82c36afa",
   "metadata": {},
   "outputs": [],
   "source": [
    "rivers = {'nile':['Ethiopia', 'Eritrea', 'Sudan', \n",
    "                  'Uganda', 'Tanzania', 'Kenya', \n",
    "                  'Rwanda', 'Burundi', 'Egypt', 'Congo', \n",
    "                  'SouthSudan'],\n",
    "        'amazon':['Brazil', 'Peru', 'Bolivia', 'Colombia', 'Ecuador', \n",
    "                  'Venezuela', 'Guyana'],\n",
    "        'missouri':['Canada','US']\n",
    "        }"
   ]
  },
  {
   "cell_type": "code",
   "execution_count": 44,
   "id": "2e3c087c",
   "metadata": {},
   "outputs": [
    {
     "data": {
      "text/plain": [
       "'Colombia'"
      ]
     },
     "execution_count": 44,
     "metadata": {},
     "output_type": "execute_result"
    }
   ],
   "source": [
    "rivers['amazon'][3]"
   ]
  },
  {
   "cell_type": "code",
   "execution_count": 45,
   "id": "46e593a8",
   "metadata": {},
   "outputs": [],
   "source": [
    "rivers['missouri'][1]='United States of America'"
   ]
  },
  {
   "cell_type": "code",
   "execution_count": 46,
   "id": "5a168dfa",
   "metadata": {},
   "outputs": [
    {
     "data": {
      "text/plain": [
       "{'nile': ['Ethiopia',\n",
       "  'Eritrea',\n",
       "  'Sudan',\n",
       "  'Uganda',\n",
       "  'Tanzania',\n",
       "  'Kenya',\n",
       "  'Rwanda',\n",
       "  'Burundi',\n",
       "  'Egypt',\n",
       "  'Congo',\n",
       "  'SouthSudan'],\n",
       " 'amazon': ['Brazil',\n",
       "  'Peru',\n",
       "  'Bolivia',\n",
       "  'Colombia',\n",
       "  'Ecuador',\n",
       "  'Venezuela',\n",
       "  'Guyana'],\n",
       " 'missouri': ['Canada', 'United States of America']}"
      ]
     },
     "execution_count": 46,
     "metadata": {},
     "output_type": "execute_result"
    }
   ],
   "source": [
    "rivers"
   ]
  },
  {
   "cell_type": "code",
   "execution_count": 48,
   "id": "43cbea78",
   "metadata": {},
   "outputs": [],
   "source": [
    "rivers['amazon'].insert(0,'Pakistan')"
   ]
  },
  {
   "cell_type": "code",
   "execution_count": 49,
   "id": "6600110a",
   "metadata": {},
   "outputs": [
    {
     "data": {
      "text/plain": [
       "{'nile': ['Ethiopia',\n",
       "  'Eritrea',\n",
       "  'Sudan',\n",
       "  'Uganda',\n",
       "  'Tanzania',\n",
       "  'Kenya',\n",
       "  'Rwanda',\n",
       "  'Burundi',\n",
       "  'Egypt',\n",
       "  'Congo',\n",
       "  'SouthSudan'],\n",
       " 'amazon': ['Pakistan',\n",
       "  'Brazil',\n",
       "  'Peru',\n",
       "  'Bolivia',\n",
       "  'Colombia',\n",
       "  'Ecuador',\n",
       "  'Venezuela',\n",
       "  'Guyana'],\n",
       " 'missouri': ['Canada', 'United States of America']}"
      ]
     },
     "execution_count": 49,
     "metadata": {},
     "output_type": "execute_result"
    }
   ],
   "source": [
    "rivers"
   ]
  },
  {
   "cell_type": "code",
   "execution_count": 66,
   "id": "f15b8e2e",
   "metadata": {},
   "outputs": [],
   "source": [
    "rivers = {'nile':['Ethiopia', 'Eritrea', 'Sudan', \n",
    "                  'Uganda', 'Tanzania', 'Kenya', \n",
    "                  'Rwanda', 'Burundi', 'Egypt', 'Congo', \n",
    "                  'SouthSudan'],\n",
    "        'amazon':['Brazil', 'Peru', 'Bolivia', 'Colombia', 'Ecuador', \n",
    "                  'Venezuela', 'Guyana'],\n",
    "        'missouri':['Canada','US']\n",
    "        }"
   ]
  },
  {
   "cell_type": "code",
   "execution_count": 67,
   "id": "355355f1",
   "metadata": {},
   "outputs": [
    {
     "data": {
      "text/plain": [
       "{'nile': ['Pakistan',\n",
       "  'Ethiopia',\n",
       "  'Eritrea',\n",
       "  'Sudan',\n",
       "  'Uganda',\n",
       "  'Tanzania',\n",
       "  'Kenya',\n",
       "  'Rwanda',\n",
       "  'Burundi',\n",
       "  'Egypt',\n",
       "  'Congo',\n",
       "  'SouthSudan'],\n",
       " 'amazon': ['Pakistan',\n",
       "  'Brazil',\n",
       "  'Peru',\n",
       "  'Bolivia',\n",
       "  'Colombia',\n",
       "  'Ecuador',\n",
       "  'Venezuela',\n",
       "  'Guyana'],\n",
       " 'missouri': ['Pakistan', 'Canada', 'US']}"
      ]
     },
     "execution_count": 67,
     "metadata": {},
     "output_type": "execute_result"
    }
   ],
   "source": [
    "for key in rivers:\n",
    "    rivers[key].insert(0,'Pakistan')\n",
    "rivers"
   ]
  },
  {
   "cell_type": "code",
   "execution_count": 62,
   "id": "c37e6d99",
   "metadata": {},
   "outputs": [],
   "source": [
    "lst = []\n",
    "lst.append(10000)"
   ]
  },
  {
   "cell_type": "code",
   "execution_count": 60,
   "id": "38660ead",
   "metadata": {},
   "outputs": [
    {
     "data": {
      "text/plain": [
       "'us'"
      ]
     },
     "execution_count": 60,
     "metadata": {},
     "output_type": "execute_result"
    }
   ],
   "source": [
    "country.lower()"
   ]
  },
  {
   "cell_type": "code",
   "execution_count": 61,
   "id": "7e01221c",
   "metadata": {},
   "outputs": [
    {
     "data": {
      "text/plain": [
       "'US'"
      ]
     },
     "execution_count": 61,
     "metadata": {},
     "output_type": "execute_result"
    }
   ],
   "source": [
    "country"
   ]
  },
  {
   "cell_type": "code",
   "execution_count": 63,
   "id": "fd3fa006",
   "metadata": {},
   "outputs": [],
   "source": [
    "lst.insert(0,10)"
   ]
  },
  {
   "cell_type": "code",
   "execution_count": 64,
   "id": "2e8fd124",
   "metadata": {},
   "outputs": [
    {
     "data": {
      "text/plain": [
       "[10, 10000]"
      ]
     },
     "execution_count": 64,
     "metadata": {},
     "output_type": "execute_result"
    }
   ],
   "source": [
    "lst"
   ]
  },
  {
   "cell_type": "markdown",
   "id": "268fad79",
   "metadata": {},
   "source": [
    "# 6-11. Cities: Make a dictionary called cities Use the names of three cities as\n",
    "# keys in your dictionary Create a dictionary of information about each city and\n",
    "# include the country that the city is in, its approximate population, and one fact\n",
    "# about that city The keys for each city’s dictionary should be something like\n",
    "# country, population, and fact Print the name of each city and all of the information you have stored about it"
   ]
  },
  {
   "cell_type": "code",
   "execution_count": 73,
   "id": "4af7f08e",
   "metadata": {},
   "outputs": [],
   "source": [
    "cities = {'Karachi':{'country':'Paksitan','population':'300M','fact':'Best Biryani of Pakistan'}, \n",
    "          'Newyork':{'country':'USA','population':'1M', 'fact':'The subway system is epic.'}, \n",
    "          'Kabul':{'country':'Afghnistan','population':'0.5M','fact':\"Has an elevation of 5,876 feet above sea level, making it one of the world's highest cities.\"}\n",
    "         }"
   ]
  },
  {
   "cell_type": "code",
   "execution_count": 74,
   "id": "7c341236",
   "metadata": {},
   "outputs": [
    {
     "data": {
      "text/plain": [
       "{'Karachi': {'country': 'Paksitan',\n",
       "  'population': '300M',\n",
       "  'fact': 'Best Biryani of Pakistan'},\n",
       " 'Newyork': {'country': 'USA',\n",
       "  'population': '1M',\n",
       "  'fact': 'The subway system is epic.'},\n",
       " 'Kabul': {'country': 'Afghnistan',\n",
       "  'population': '0.5M',\n",
       "  'fact': \"Has an elevation of 5,876 feet above sea level, making it one of the world's highest cities.\"}}"
      ]
     },
     "execution_count": 74,
     "metadata": {},
     "output_type": "execute_result"
    }
   ],
   "source": [
    "cities"
   ]
  },
  {
   "cell_type": "code",
   "execution_count": 75,
   "id": "dd7cc872",
   "metadata": {},
   "outputs": [
    {
     "data": {
      "text/plain": [
       "{'country': 'Paksitan',\n",
       " 'population': '300M',\n",
       " 'fact': 'Best Biryani of Pakistan'}"
      ]
     },
     "execution_count": 75,
     "metadata": {},
     "output_type": "execute_result"
    }
   ],
   "source": [
    "cities['Karachi']"
   ]
  },
  {
   "cell_type": "code",
   "execution_count": 77,
   "id": "1cd9ba91",
   "metadata": {},
   "outputs": [
    {
     "data": {
      "text/plain": [
       "'0.5M'"
      ]
     },
     "execution_count": 77,
     "metadata": {},
     "output_type": "execute_result"
    }
   ],
   "source": [
    "cities['Kabul']['population']"
   ]
  },
  {
   "cell_type": "code",
   "execution_count": 78,
   "id": "333360cb",
   "metadata": {},
   "outputs": [
    {
     "data": {
      "text/plain": [
       "'The subway system is epic.'"
      ]
     },
     "execution_count": 78,
     "metadata": {},
     "output_type": "execute_result"
    }
   ],
   "source": [
    "cities['Newyork']['fact']"
   ]
  },
  {
   "cell_type": "code",
   "execution_count": 79,
   "id": "c76d0bcc",
   "metadata": {},
   "outputs": [],
   "source": [
    "d = {\n",
    "    ('foo', 100),\n",
    "    ('bar', 200),\n",
    "    ('baz', 300)\n",
    "}"
   ]
  },
  {
   "cell_type": "code",
   "execution_count": 80,
   "id": "614c5892",
   "metadata": {},
   "outputs": [
    {
     "data": {
      "text/plain": [
       "{('bar', 200), ('baz', 300), ('foo', 100)}"
      ]
     },
     "execution_count": 80,
     "metadata": {},
     "output_type": "execute_result"
    }
   ],
   "source": [
    "d"
   ]
  },
  {
   "cell_type": "code",
   "execution_count": 81,
   "id": "2f4a03fc",
   "metadata": {},
   "outputs": [
    {
     "data": {
      "text/plain": [
       "set"
      ]
     },
     "execution_count": 81,
     "metadata": {},
     "output_type": "execute_result"
    }
   ],
   "source": [
    "type(d)"
   ]
  },
  {
   "cell_type": "code",
   "execution_count": 82,
   "id": "1d529448",
   "metadata": {},
   "outputs": [],
   "source": [
    "d = dict(foo=100, bar=200, baz=300)"
   ]
  },
  {
   "cell_type": "code",
   "execution_count": 83,
   "id": "d483729f",
   "metadata": {},
   "outputs": [
    {
     "data": {
      "text/plain": [
       "{'foo': 100, 'bar': 200, 'baz': 300}"
      ]
     },
     "execution_count": 83,
     "metadata": {},
     "output_type": "execute_result"
    }
   ],
   "source": [
    "d"
   ]
  },
  {
   "cell_type": "code",
   "execution_count": 84,
   "id": "f404778a",
   "metadata": {},
   "outputs": [
    {
     "data": {
      "text/plain": [
       "dict"
      ]
     },
     "execution_count": 84,
     "metadata": {},
     "output_type": "execute_result"
    }
   ],
   "source": [
    "type(d)"
   ]
  },
  {
   "cell_type": "code",
   "execution_count": 85,
   "id": "64eecad3",
   "metadata": {},
   "outputs": [],
   "source": [
    "d = dict(\n",
    "    [\n",
    "    ('foo', 100),\n",
    "    ('bar', 200),\n",
    "    ('baz', 300)\n",
    "   ]\n",
    ")"
   ]
  },
  {
   "cell_type": "code",
   "execution_count": 86,
   "id": "b36ab60c",
   "metadata": {},
   "outputs": [
    {
     "data": {
      "text/plain": [
       "dict"
      ]
     },
     "execution_count": 86,
     "metadata": {},
     "output_type": "execute_result"
    }
   ],
   "source": [
    "type(d)"
   ]
  },
  {
   "cell_type": "code",
   "execution_count": 87,
   "id": "e2da5328",
   "metadata": {},
   "outputs": [],
   "source": [
    "d = {}\n",
    "d['foo'] = 100\n",
    "d['bar'] = 200\n",
    "d['baz'] = 300 "
   ]
  },
  {
   "cell_type": "code",
   "execution_count": 88,
   "id": "57f0dd7c",
   "metadata": {},
   "outputs": [
    {
     "data": {
      "text/plain": [
       "{'foo': 100, 'bar': 200, 'baz': 300}"
      ]
     },
     "execution_count": 88,
     "metadata": {},
     "output_type": "execute_result"
    }
   ],
   "source": [
    "d"
   ]
  },
  {
   "cell_type": "code",
   "execution_count": 90,
   "id": "e2cde537",
   "metadata": {},
   "outputs": [],
   "source": [
    "x = ['a','b', {'foo': 1,\n",
    "               'bar': { 'x' : 10,\n",
    "                         'y' : 20,\n",
    "                        'z' : 30\n",
    "                      }\n",
    "               ,\n",
    "             'baz': 3\n",
    "              },\n",
    "    'c',\n",
    "    'd'\n",
    "]"
   ]
  },
  {
   "cell_type": "code",
   "execution_count": 91,
   "id": "a2b4a494",
   "metadata": {},
   "outputs": [
    {
     "data": {
      "text/plain": [
       "'a'"
      ]
     },
     "execution_count": 91,
     "metadata": {},
     "output_type": "execute_result"
    }
   ],
   "source": [
    "x[0]"
   ]
  },
  {
   "cell_type": "code",
   "execution_count": 92,
   "id": "edc3da9f",
   "metadata": {},
   "outputs": [
    {
     "data": {
      "text/plain": [
       "'b'"
      ]
     },
     "execution_count": 92,
     "metadata": {},
     "output_type": "execute_result"
    }
   ],
   "source": [
    "x[1]"
   ]
  },
  {
   "cell_type": "code",
   "execution_count": 93,
   "id": "4f11d48e",
   "metadata": {},
   "outputs": [
    {
     "data": {
      "text/plain": [
       "{'foo': 1, 'bar': {'x': 10, 'y': 20, 'z': 30}, 'baz': 3}"
      ]
     },
     "execution_count": 93,
     "metadata": {},
     "output_type": "execute_result"
    }
   ],
   "source": [
    "x[2]"
   ]
  },
  {
   "cell_type": "code",
   "execution_count": 94,
   "id": "e73ccc28",
   "metadata": {},
   "outputs": [
    {
     "data": {
      "text/plain": [
       "{1: 100}"
      ]
     },
     "execution_count": 94,
     "metadata": {},
     "output_type": "execute_result"
    }
   ],
   "source": [
    "{1:100}"
   ]
  },
  {
   "cell_type": "code",
   "execution_count": 97,
   "id": "c362ba6f",
   "metadata": {},
   "outputs": [
    {
     "data": {
      "text/plain": [
       "{(3+2j): 2}"
      ]
     },
     "execution_count": 97,
     "metadata": {},
     "output_type": "execute_result"
    }
   ],
   "source": [
    "{3+2j:2}"
   ]
  },
  {
   "cell_type": "code",
   "execution_count": 99,
   "id": "f51d2229",
   "metadata": {},
   "outputs": [
    {
     "data": {
      "text/plain": [
       "{'len': 'hello'}"
      ]
     },
     "execution_count": 99,
     "metadata": {},
     "output_type": "execute_result"
    }
   ],
   "source": [
    "{'len':'hello'}"
   ]
  },
  {
   "cell_type": "code",
   "execution_count": null,
   "id": "602095e8",
   "metadata": {},
   "outputs": [],
   "source": []
  }
 ],
 "metadata": {
  "kernelspec": {
   "display_name": "Python 3 (ipykernel)",
   "language": "python",
   "name": "python3"
  },
  "language_info": {
   "codemirror_mode": {
    "name": "ipython",
    "version": 3
   },
   "file_extension": ".py",
   "mimetype": "text/x-python",
   "name": "python",
   "nbconvert_exporter": "python",
   "pygments_lexer": "ipython3",
   "version": "3.11.5"
  }
 },
 "nbformat": 4,
 "nbformat_minor": 5
}
