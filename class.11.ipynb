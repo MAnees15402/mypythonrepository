{
 "cells": [
  {
   "cell_type": "markdown",
   "id": "06e36e1b",
   "metadata": {},
   "source": [
    "\n",
    "# Functions\n",
    "-Function are block of code.that is reuseable.\n",
    "-when ever we require to that again we call the function.\n",
    "-\n"
   ]
  },
  {
   "cell_type": "code",
   "execution_count": 62,
   "id": "9b95a900",
   "metadata": {},
   "outputs": [],
   "source": [
    "def tandoor( kitne_Nan):\n",
    "    print(f\"{kitne_Nan} ready hen\")\n",
    "    print(f\"{kitne_Nan*25} rupey hogaye\")\n",
    "    "
   ]
  },
  {
   "cell_type": "code",
   "execution_count": 63,
   "id": "9ee14bac",
   "metadata": {},
   "outputs": [
    {
     "name": "stdout",
     "output_type": "stream",
     "text": [
      "25 ready hen\n",
      "625 rupey hogaye\n"
     ]
    }
   ],
   "source": [
    "tandoor(25)"
   ]
  },
  {
   "cell_type": "code",
   "execution_count": 4,
   "id": "cec842d6",
   "metadata": {},
   "outputs": [
    {
     "name": "stdout",
     "output_type": "stream",
     "text": [
      "NaN lag rahe hen\n"
     ]
    }
   ],
   "source": [
    "tandoor()"
   ]
  },
  {
   "cell_type": "code",
   "execution_count": 8,
   "id": "e10b6507",
   "metadata": {},
   "outputs": [
    {
     "name": "stdout",
     "output_type": "stream",
     "text": [
      "NaN lag rahe hen\n"
     ]
    }
   ],
   "source": [
    "tandoor( 10)"
   ]
  },
  {
   "cell_type": "code",
   "execution_count": 10,
   "id": "b35a57b3",
   "metadata": {},
   "outputs": [
    {
     "name": "stdout",
     "output_type": "stream",
     "text": [
      "20 ready hen\n"
     ]
    },
    {
     "ename": "NameError",
     "evalue": "name 'kit_Nan' is not defined",
     "output_type": "error",
     "traceback": [
      "\u001b[1;31m---------------------------------------------------------------------------\u001b[0m",
      "\u001b[1;31mNameError\u001b[0m                                 Traceback (most recent call last)",
      "Cell \u001b[1;32mIn[10], line 1\u001b[0m\n\u001b[1;32m----> 1\u001b[0m tandoor(\u001b[38;5;241m20\u001b[39m)\n",
      "Cell \u001b[1;32mIn[9], line 3\u001b[0m, in \u001b[0;36mtandoor\u001b[1;34m(kitne_Nan)\u001b[0m\n\u001b[0;32m      1\u001b[0m \u001b[38;5;28;01mdef\u001b[39;00m \u001b[38;5;21mtandoor\u001b[39m( kitne_Nan):\n\u001b[0;32m      2\u001b[0m     \u001b[38;5;28mprint\u001b[39m(\u001b[38;5;124mf\u001b[39m\u001b[38;5;124m\"\u001b[39m\u001b[38;5;132;01m{\u001b[39;00mkitne_Nan\u001b[38;5;132;01m}\u001b[39;00m\u001b[38;5;124m ready hen\u001b[39m\u001b[38;5;124m\"\u001b[39m)\n\u001b[1;32m----> 3\u001b[0m     \u001b[38;5;28mprint\u001b[39m(\u001b[38;5;124mf\u001b[39m\u001b[38;5;124m\"\u001b[39m\u001b[38;5;132;01m{\u001b[39;00mkit_Nan\u001b[38;5;241m*\u001b[39m\u001b[38;5;241m25\u001b[39m\u001b[38;5;132;01m}\u001b[39;00m\u001b[38;5;124m rupey hogaye\u001b[39m\u001b[38;5;124m\"\u001b[39m)\n",
      "\u001b[1;31mNameError\u001b[0m: name 'kit_Nan' is not defined"
     ]
    }
   ],
   "source": [
    "tandoor(20)"
   ]
  },
  {
   "cell_type": "code",
   "execution_count": 13,
   "id": "ba834dc8",
   "metadata": {},
   "outputs": [
    {
     "name": "stdout",
     "output_type": "stream",
     "text": [
      "13 ready hen\n",
      "325 rupey hogaye\n"
     ]
    }
   ],
   "source": [
    "tandoor(13)"
   ]
  },
  {
   "cell_type": "code",
   "execution_count": 61,
   "id": "e9a23fac",
   "metadata": {},
   "outputs": [
    {
     "ename": "TypeError",
     "evalue": "tandoor() takes 0 positional arguments but 1 was given",
     "output_type": "error",
     "traceback": [
      "\u001b[1;31m---------------------------------------------------------------------------\u001b[0m",
      "\u001b[1;31mTypeError\u001b[0m                                 Traceback (most recent call last)",
      "Cell \u001b[1;32mIn[61], line 1\u001b[0m\n\u001b[1;32m----> 1\u001b[0m tandoor(\u001b[38;5;241m15\u001b[39m)\n",
      "\u001b[1;31mTypeError\u001b[0m: tandoor() takes 0 positional arguments but 1 was given"
     ]
    }
   ],
   "source": [
    "tandoor(15)"
   ]
  },
  {
   "cell_type": "code",
   "execution_count": 51,
   "id": "19f94677",
   "metadata": {},
   "outputs": [],
   "source": [
    "def add(a,b):\n",
    "    print(a+b)"
   ]
  },
  {
   "cell_type": "code",
   "execution_count": 52,
   "id": "dc4590d6",
   "metadata": {},
   "outputs": [
    {
     "name": "stdout",
     "output_type": "stream",
     "text": [
      "5\n"
     ]
    }
   ],
   "source": [
    "add(2,3)"
   ]
  },
  {
   "cell_type": "code",
   "execution_count": 53,
   "id": "094b94a4",
   "metadata": {},
   "outputs": [
    {
     "data": {
      "text/plain": [
       "<function __main__.add(a, b)>"
      ]
     },
     "execution_count": 53,
     "metadata": {},
     "output_type": "execute_result"
    }
   ],
   "source": [
    "add"
   ]
  },
  {
   "cell_type": "code",
   "execution_count": 54,
   "id": "71ba167d",
   "metadata": {},
   "outputs": [
    {
     "name": "stdout",
     "output_type": "stream",
     "text": [
      "8\n"
     ]
    }
   ],
   "source": [
    "add(4,4)"
   ]
  },
  {
   "cell_type": "code",
   "execution_count": 36,
   "id": "1eb531e5",
   "metadata": {},
   "outputs": [],
   "source": [
    "def receptionist(lst):\n",
    "    for guest in lst :\n",
    "        print (f\"welcom to SMIT:{guest}\")"
   ]
  },
  {
   "cell_type": "code",
   "execution_count": 37,
   "id": "4f7a9266",
   "metadata": {},
   "outputs": [
    {
     "name": "stdout",
     "output_type": "stream",
     "text": [
      "welcom to SMIT:rahan\n",
      "welcom to SMIT:nasir\n",
      "welcom to SMIT:ahsun\n"
     ]
    }
   ],
   "source": [
    "receptionist(['rahan','nasir','ahsun'])"
   ]
  },
  {
   "cell_type": "code",
   "execution_count": 38,
   "id": "1cf2141d",
   "metadata": {},
   "outputs": [
    {
     "name": "stdout",
     "output_type": "stream",
     "text": [
      "welcom to SMIT:ali\n",
      "welcom to SMIT:khan\n"
     ]
    }
   ],
   "source": [
    "receptionist(['ali','khan'])"
   ]
  },
  {
   "cell_type": "code",
   "execution_count": 64,
   "id": "d7a1dc1d",
   "metadata": {},
   "outputs": [
    {
     "name": "stdout",
     "output_type": "stream",
     "text": [
      "welcom to SMIT:Ali\n",
      "welcom to SMIT:Nasir\n",
      "welcom to SMIT:Ahsun\n"
     ]
    }
   ],
   "source": [
    "receptionist(['Ali', 'Nasir', 'Ahsun'])"
   ]
  },
  {
   "cell_type": "code",
   "execution_count": 84,
   "id": "8b76b971",
   "metadata": {},
   "outputs": [],
   "source": [
    " def string_analyzer(txt):          \n",
    "    upper = 0\n",
    "    lower = 0\n",
    "    digit = 0\n",
    "    whitespace= 0\n",
    "    others = 0\n",
    "    for char in txt:\n",
    "        if char.isupper():\n",
    "             upper +=1\n",
    "        elif char.islower():\n",
    "              lower +=1\n",
    "    \n",
    "        elif char.isdigit():\n",
    "              digit +=1\n",
    "    \n",
    "        elif char.isspace():\n",
    "             whitespace +=1\n",
    "                        \n",
    "        else:\n",
    "             others +=1\n",
    "    \n",
    "        print(f\"\"\"\n",
    "             Upper case :{upper}\n",
    "             Lower Case :{lower}\n",
    "             Digit case :{digit}\n",
    "             whitespace case:{whitespace}\n",
    "             Others :{others}\n",
    "             \"\"\")\n",
    "                            \n",
    "        \n",
    "    \n",
    "    "
   ]
  },
  {
   "cell_type": "code",
   "execution_count": 83,
   "id": "2ab23a57",
   "metadata": {},
   "outputs": [
    {
     "name": "stdout",
     "output_type": "stream",
     "text": [
      "\n",
      "        Upper Case : 8\n",
      "        Lower Case : 395\n",
      "        Digit      : 5\n",
      "        WhiteSpace : 80\n",
      "        Others     : 10\n",
      "        \n"
     ]
    }
   ],
   "source": [
    "string_analyzer(\"React, the most popular JavaScript library, has emerged as the preferred option among developers for56 creating 67reliable online apps, primarily 6  because React allows the creation of single-page dynamic applications.With this bootcamp, you'll gain an understanding of the fundamentals of React and how you can start using it in your projects today. You will also learn how to use React in your web apps, so that you can build powerful and flexible user interfaces that are also easy to maintain.\")"
   ]
  },
  {
   "cell_type": "code",
   "execution_count": 60,
   "id": "57476099",
   "metadata": {},
   "outputs": [],
   "source": [
    "def tandoor():\n",
    "    Kitna_Nan = int(input(\"kitan nan: \"))\n",
    "    for Nan in range(1, kitna_Nan + 1):\n",
    "        print(f\"{Nan} ready hen\")\n",
    "        print(f\"{kitna_Nan * 25} rupey hogaye\")\n",
    "        tandoor()\n",
    "    "
   ]
  },
  {
   "cell_type": "code",
   "execution_count": 68,
   "id": "44ef2d11",
   "metadata": {},
   "outputs": [],
   "source": [
    "def receptionist(lst):\n",
    "    for guest in lst :\n",
    "        if guest == 'Anees':\n",
    "            print(f\" sir :{guest} most welcom you set in the first row\")\n",
    "        else:\n",
    "            print(f\" walcom sir have a set\")"
   ]
  },
  {
   "cell_type": "code",
   "execution_count": 69,
   "id": "705646fd",
   "metadata": {},
   "outputs": [
    {
     "name": "stdout",
     "output_type": "stream",
     "text": [
      " walcom sir have a set\n",
      " walcom sir have a set\n",
      " walcom sir have a set\n",
      " sir :Anees most welcom you set in the first row\n",
      " walcom sir have a set\n",
      " walcom sir have a set\n",
      " walcom sir have a set\n"
     ]
    }
   ],
   "source": [
    "receptionist(['Rehan','Ahmed','Areeb','Anees','Ali', 'Nasir', 'Ahsun'])"
   ]
  },
  {
   "cell_type": "code",
   "execution_count": 75,
   "id": "dc81a838",
   "metadata": {},
   "outputs": [
    {
     "ename": "NameError",
     "evalue": "name 'sspaces' is not defined",
     "output_type": "error",
     "traceback": [
      "\u001b[1;31m---------------------------------------------------------------------------\u001b[0m",
      "\u001b[1;31mNameError\u001b[0m                                 Traceback (most recent call last)",
      "Cell \u001b[1;32mIn[75], line 1\u001b[0m\n\u001b[1;32m----> 1\u001b[0m string_analyzer(\u001b[38;5;124m\"\u001b[39m\u001b[38;5;124mho are you\u001b[39m\u001b[38;5;124m\"\u001b[39m)\n",
      "Cell \u001b[1;32mIn[73], line 26\u001b[0m, in \u001b[0;36mstring_analyzer\u001b[1;34m(txt)\u001b[0m\n\u001b[0;32m     19\u001b[0m \u001b[38;5;28;01melse\u001b[39;00m:\n\u001b[0;32m     20\u001b[0m      others \u001b[38;5;241m+\u001b[39m\u001b[38;5;241m=\u001b[39m\u001b[38;5;241m1\u001b[39m\n\u001b[0;32m     22\u001b[0m \u001b[38;5;28mprint\u001b[39m(\u001b[38;5;124mf\u001b[39m\u001b[38;5;124m\"\"\"\u001b[39m\n\u001b[0;32m     23\u001b[0m \u001b[38;5;124m     Upper case :\u001b[39m\u001b[38;5;132;01m{\u001b[39;00mupper\u001b[38;5;132;01m}\u001b[39;00m\n\u001b[0;32m     24\u001b[0m \u001b[38;5;124m     Lower Case :\u001b[39m\u001b[38;5;132;01m{\u001b[39;00mlower\u001b[38;5;132;01m}\u001b[39;00m\n\u001b[0;32m     25\u001b[0m \u001b[38;5;124m     Digit case :\u001b[39m\u001b[38;5;132;01m{\u001b[39;00mdigit\u001b[38;5;132;01m}\u001b[39;00m\n\u001b[1;32m---> 26\u001b[0m \u001b[38;5;124m     whitespace case:\u001b[39m\u001b[38;5;132;01m{\u001b[39;00msspaces\u001b[38;5;132;01m}\u001b[39;00m\n\u001b[0;32m     27\u001b[0m \u001b[38;5;124m     Other :\u001b[39m\u001b[38;5;132;01m{\u001b[39;00mothers\u001b[38;5;132;01m}\u001b[39;00m\n\u001b[0;32m     28\u001b[0m \u001b[38;5;124m     \u001b[39m\u001b[38;5;124m\"\"\"\u001b[39m)\n",
      "\u001b[1;31mNameError\u001b[0m: name 'sspaces' is not defined"
     ]
    }
   ],
   "source": [
    " string_analyzer(\"ho are you\")"
   ]
  },
  {
   "cell_type": "code",
   "execution_count": 96,
   "id": "11d48fac",
   "metadata": {},
   "outputs": [
    {
     "name": "stdout",
     "output_type": "stream",
     "text": [
      "s\n"
     ]
    }
   ],
   "source": [
    "nm='anees'\n",
    "print(nm[-1])"
   ]
  },
  {
   "cell_type": "markdown",
   "id": "2c57dfb7",
   "metadata": {},
   "source": []
  }
 ],
 "metadata": {
  "kernelspec": {
   "display_name": "Python 3 (ipykernel)",
   "language": "python",
   "name": "python3"
  },
  "language_info": {
   "codemirror_mode": {
    "name": "ipython",
    "version": 3
   },
   "file_extension": ".py",
   "mimetype": "text/x-python",
   "name": "python",
   "nbconvert_exporter": "python",
   "pygments_lexer": "ipython3",
   "version": "3.11.5"
  }
 },
 "nbformat": 4,
 "nbformat_minor": 5
}
